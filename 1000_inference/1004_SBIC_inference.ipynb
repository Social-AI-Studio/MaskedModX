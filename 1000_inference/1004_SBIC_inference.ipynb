{
  "cells": [
    {
      "cell_type": "markdown",
      "source": [
        "# Import libraries"
      ],
      "metadata": {
        "id": "0pt0YBKaA1g9"
      }
    },
    {
      "cell_type": "markdown",
      "source": [
        "For openai>=1.0.0, openai.ChatCompletion is not supported anymore. Install an earlier version. Install cohere and tiktoken to address the Error message that recently came up:\n",
        "<blockquote>ERROR: pip's dependency resolver does not currently take into account all the packages that are installed. This behaviour is the source of the following dependency conflicts.<br>\n",
        "llmx 0.0.15a0 requires cohere, which is not installed.<br>\n",
        "llmx 0.0.15a0 requires tiktoken, which is not installed.</blockquote>"
      ],
      "metadata": {
        "id": "MwU4PG5GA7jD"
      }
    },
    {
      "cell_type": "code",
      "execution_count": null,
      "metadata": {
        "id": "ZqBeYLjotxgQ"
      },
      "outputs": [],
      "source": [
        "!pip install openai==0.27.8 cohere tiktoken\n",
        "!pip install python-dotenv"
      ]
    },
    {
      "cell_type": "code",
      "execution_count": null,
      "metadata": {
        "id": "POb532mGMpDw"
      },
      "outputs": [],
      "source": [
        "import inspect\n",
        "import os\n",
        "import dotenv\n",
        "import openai\n",
        "import pandas as pd\n",
        "from tenacity import (\n",
        "    retry,\n",
        "    stop_after_attempt,\n",
        "    wait_random_exponential,\n",
        ")"
      ]
    },
    {
      "cell_type": "markdown",
      "source": [
        "# Mount drive"
      ],
      "metadata": {
        "id": "RdcXJrFrBabL"
      }
    },
    {
      "cell_type": "code",
      "source": [
        "from google.colab import drive\n",
        "drive.mount('/content/drive')"
      ],
      "metadata": {
        "id": "mcZy1_g2Bb7b"
      },
      "execution_count": null,
      "outputs": []
    },
    {
      "cell_type": "markdown",
      "source": [
        "# Create directories to store inferences"
      ],
      "metadata": {
        "id": "jbK7GmgAC41d"
      }
    },
    {
      "cell_type": "code",
      "source": [
        "os.makedirs('/content/drive/MyDrive/datasets/SBIC_gpt-3.5-turbo-0301',\n",
        "            exist_ok=True)\n",
        "os.makedirs('/content/drive/MyDrive/datasets/SBIC_gpt-3.5-turbo-0613',\n",
        "            exist_ok=True)"
      ],
      "metadata": {
        "id": "oTIrbFw_C6WU"
      },
      "execution_count": null,
      "outputs": []
    },
    {
      "cell_type": "markdown",
      "source": [
        "# Authentication"
      ],
      "metadata": {
        "id": "cGt4AMZGC_zT"
      }
    },
    {
      "cell_type": "markdown",
      "source": [
        "You have to first save your OpenAI API key in a .env file in your Google Drive, in the format:\n",
        "OPENAI_API_KEY = '...'."
      ],
      "metadata": {
        "id": "iAF0b9vFDAV0"
      }
    },
    {
      "cell_type": "code",
      "execution_count": null,
      "metadata": {
        "id": "yzNMbn2uN065"
      },
      "outputs": [],
      "source": [
        "# OpenAI authentication on Google Colab. via\n",
        "# https://stackoverflow.com/a/77166086\n",
        "dotenv.load_dotenv('/content/drive/MyDrive/.env')\n",
        "openai.api_key = os.getenv('OPENAI_API_KEY')"
      ]
    },
    {
      "cell_type": "markdown",
      "source": [
        "# Import dataset"
      ],
      "metadata": {
        "id": "4bosOoQDDGu0"
      }
    },
    {
      "cell_type": "code",
      "execution_count": null,
      "metadata": {
        "id": "8VesFLoXN2_I"
      },
      "outputs": [],
      "source": [
        "SBIC_v2_agg_test = pd.read_csv(\n",
        "    '/content/drive/MyDrive/datasets/SBIC.v2.agg.test.csv')\n",
        "SBIC_v2_agg_test = SBIC_v2_agg_test.reset_index(drop=True)"
      ]
    },
    {
      "cell_type": "markdown",
      "source": [
        "# Set prompts"
      ],
      "metadata": {
        "id": "Qsb9Xd4RDHqs"
      }
    },
    {
      "cell_type": "code",
      "execution_count": null,
      "metadata": {
        "id": "6BHp6PaOOCfw"
      },
      "outputs": [],
      "source": [
        "def system_content(persona):\n",
        "    return inspect.cleandoc(\n",
        "        f\"\"\"From now on, act as {persona}.\n",
        "        Provide an answer that {persona} would regarding the post.\"\"\")"
      ]
    },
    {
      "cell_type": "code",
      "execution_count": null,
      "metadata": {
        "id": "xqV9aliDPeE3"
      },
      "outputs": [],
      "source": [
        "def user_content(post):\n",
        "    return inspect.cleandoc(f\"\"\"Post: \\\"\\\"\\\"\n",
        "    {post}\n",
        "    \\\"\\\"\\\"\n",
        "\n",
        "    Could this post be considered offensive, disrespectful, or toxic to\n",
        "    anyone/someone?\n",
        "    (Does this sound insulting, rude, toxic, disrespectful, abusive,\n",
        "    inflammatory, hateful?)\n",
        "    Assume the author belongs to majority groups (white, male, straight,\n",
        "    abled, etc.). Try to answer this question while considering a broad set\n",
        "    of people from different backgrounds, not just your own.\n",
        "\n",
        "    A: Yes, this could be offensive\n",
        "    B: Maybe, I'm not sure\n",
        "    C: No, this is harmless\n",
        "\n",
        "    Constraint: Answer with only the option above that is most accurate and\n",
        "    nothing else.\"\"\")"
      ]
    },
    {
      "cell_type": "markdown",
      "source": [
        "# Define a function to call Chat Completion API with (persona) or without (no-persona default) the *system message*"
      ],
      "metadata": {
        "id": "VhyTNFdPDMLb"
      }
    },
    {
      "cell_type": "code",
      "execution_count": null,
      "metadata": {
        "id": "GYDs7ZKjRTN1"
      },
      "outputs": [],
      "source": [
        "# Prevent rate limit errors. via\n",
        "# https://github.com/openai/openai-cookbook/blob/main/examples/\n",
        "# How_to_handle_rate_limits.ipynb\n",
        "@retry(wait=wait_random_exponential(min=1, max=60), stop=stop_after_attempt(6))\n",
        "def classifier_with_backoff(user_cont, model, system_cont=None):\n",
        "    if system_cont is None:\n",
        "        response = openai.ChatCompletion.create(\n",
        "            model=model,\n",
        "            messages=[\n",
        "                {\"role\": \"user\", \"content\": user_cont}\n",
        "            ],\n",
        "            temperature=0,\n",
        "        )\n",
        "    else:\n",
        "        response = openai.ChatCompletion.create(\n",
        "            model=model,\n",
        "            messages=[\n",
        "                {\"role\": \"system\", \"content\": system_cont},\n",
        "                {\"role\": \"user\", \"content\": user_cont}\n",
        "            ],\n",
        "            temperature=0,\n",
        "        )\n",
        "    return response['choices'][0]['message']['content']"
      ]
    },
    {
      "cell_type": "markdown",
      "source": [
        "# Define a function to perform model inference on **SBIC**"
      ],
      "metadata": {
        "id": "elEDGpcKDQb8"
      }
    },
    {
      "cell_type": "markdown",
      "source": [
        "Create a function `predict_q1a_labels` that takes a list of personas (e.g., ['a White/Caucasian person', 'a Black/African American']), a `topic` (e.g., a sociodemographic attribute such as *Race/Ethnicity*), and a GPT model name (e.g., gpt-3.5-turbo-0301) as required input arguments. The optional argument `base` determines if annotations made by the no-persona default should be included. For each persona in the list of personas, the function iterates over each post in **SBIC**, calling the function `classifier_with_backoff` for each post.  It then adds the respective lists of labels predicted by each simulated persona as new columns to the **SBIC** dataframe. The predicted labels are remapped to conform to how the data was originally coded in **SBIC**, e.g., `0.0` if `C: No, this is harmless`. The dataframe is saved in TSV file format, and the function returns the dataframe."
      ],
      "metadata": {
        "id": "5QOx-k0aDSgT"
      }
    },
    {
      "cell_type": "code",
      "execution_count": null,
      "metadata": {
        "id": "4d7KQS46RoTW"
      },
      "outputs": [],
      "source": [
        "def predict_q1a_labels(persona_list, topic, model, base=None):\n",
        "    df = SBIC_v2_agg_test.copy(deep=True)\n",
        "    posts = df['post'].values\n",
        "    # Remap predicted class labels. via\n",
        "    # https://stackoverflow.com/a/20250996\n",
        "    remap = {'A: Yes, this could be offensive': '1.0',\n",
        "             'B: Maybe, I\\'m not sure': '0.5',\n",
        "             'C: No, this is harmless': '0.0'}\n",
        "    if base == 'Yes':\n",
        "        df['predicted_q1a_labels_base'] = [\n",
        "            classifier_with_backoff(user_content(post),\n",
        "                                    model) for post in posts]\n",
        "        df.replace({'predicted_q1a_labels_base': remap}, inplace=True)\n",
        "    for persona in persona_list:\n",
        "        if 'an Arab' not in persona:\n",
        "            persona += ' in the United States'\n",
        "        df[f'predicted_q1a_labels_{persona}'.replace(' ', '_')] = [\n",
        "            classifier_with_backoff(user_content(post),\n",
        "                                    model,\n",
        "                                    system_content(persona)) for post in posts]\n",
        "        df.replace({f'predicted_q1a_labels_{persona}'.replace(' ', '_'): remap},\n",
        "                   inplace=True)\n",
        "    df.to_csv(\n",
        "        f'/content/drive/MyDrive/datasets/SBIC_{model}/'\n",
        "        f'SBIC_predictions_{topic}_{model}.tsv',\n",
        "        sep='\\t', index=False)\n",
        "    return df"
      ]
    },
    {
      "cell_type": "markdown",
      "source": [
        "# Create dictionaries, each with a `topic` as the key and a list of personas as the value"
      ],
      "metadata": {
        "id": "MfjN5bW_E8Pl"
      }
    },
    {
      "cell_type": "code",
      "execution_count": null,
      "metadata": {
        "id": "fiXfSb4Q5LAA"
      },
      "outputs": [],
      "source": [
        "race_ethnicity = {\n",
        "    'race_ethnicity': ['an Asian/Asian American',\n",
        "                       'a Black/African American',\n",
        "                       'a Hispanic/Latinx person',\n",
        "                       'a White/Caucasian person',\n",
        "                       'a Native Hawaiian/Pacific Islander',\n",
        "                       'a Native American/First Nations person']}"
      ]
    },
    {
      "cell_type": "code",
      "execution_count": null,
      "metadata": {
        "id": "YA2iGbtrELG8"
      },
      "outputs": [],
      "source": [
        "gender_genderidentity_sexuality_maj = {\n",
        "    'gender_genderidentity_sexuality_maj': ['a man/male',\n",
        "                                            'a woman/female',\n",
        "                                            'a heterosexual man',\n",
        "                                            'a heterosexual woman']}"
      ]
    },
    {
      "cell_type": "code",
      "execution_count": null,
      "metadata": {
        "id": "dDHMJBqsYN3d"
      },
      "outputs": [],
      "source": [
        "gender_genderidentity_sexuality_minA = {\n",
        "    'gender_genderidentity_sexuality_minA': ['a non-binary person',\n",
        "                                             'a LGBTQIA+ person',\n",
        "                                             'a lesbian woman',\n",
        "                                             'a gay man',\n",
        "                                             'a bisexual man',\n",
        "                                             'a bisexual woman']}"
      ]
    },
    {
      "cell_type": "code",
      "execution_count": null,
      "metadata": {
        "id": "hRmdTaBl49Xz"
      },
      "outputs": [],
      "source": [
        "gender_genderidentity_sexuality_minB = {\n",
        "    'gender_genderidentity_sexuality_minB': ['an asexual man',\n",
        "                                             'an asexual woman',\n",
        "                                             'a transgender man',\n",
        "                                             'a transgender woman',\n",
        "                                             'a two-spirited person',\n",
        "                                             'a queer person',\n",
        "                                             'an intersex person']}"
      ]
    },
    {
      "cell_type": "code",
      "execution_count": null,
      "metadata": {
        "id": "kE8HX1D683xX"
      },
      "outputs": [],
      "source": [
        "culture_origin_religion = {\n",
        "    'culture_origin_religion': ['a Muslim',\n",
        "                                'an atheist',\n",
        "                                'a Buddhist',\n",
        "                                'a Christian',\n",
        "                                'a Hindu',\n",
        "                                'a Jew',\n",
        "                                'an Arab',\n",
        "                                'an Arab in the United States',\n",
        "                                'an American citizen',\n",
        "                                'an immigrant',\n",
        "                                'a refugee']}"
      ]
    },
    {
      "cell_type": "code",
      "execution_count": null,
      "metadata": {
        "id": "zNuOV7XBzAHk"
      },
      "outputs": [],
      "source": [
        "age_body = {\n",
        "    'age_body': ['an old person',\n",
        "                 'a young adult',\n",
        "                 'an overweight/fat person',\n",
        "                 'an average weight person',\n",
        "                 'a short person',\n",
        "                 'a tall person',\n",
        "                 'an ugly person',\n",
        "                 'an attractive person',\n",
        "                 'a pregnant person']}"
      ]
    },
    {
      "cell_type": "code",
      "execution_count": null,
      "metadata": {
        "id": "TXe-fjBwzYAV"
      },
      "outputs": [],
      "source": [
        "mental_or_physical_disability = {\n",
        "    'mental_physical_disability': ['a physically disabled person',\n",
        "                                   'a person with physical illness/disorder',\n",
        "                                   'a person with mental illness/disorder',\n",
        "                                   'a mentally disabled person',\n",
        "                                   'a non-disabled person']}"
      ]
    },
    {
      "cell_type": "code",
      "execution_count": null,
      "metadata": {
        "id": "UJfxF3xG1A5Z"
      },
      "outputs": [],
      "source": [
        "socio_economic_political_lifestyle = {\n",
        "    'socio_economic_political': ['a poor person',\n",
        "                                 'a middle-class person',\n",
        "                                 'a rich person',\n",
        "                                 'a conservative',\n",
        "                                 'a moderate conservative',\n",
        "                                 'a moderate liberal',\n",
        "                                 'a liberal/progressive',\n",
        "                                 'a libertarian',\n",
        "                                 'a political independent',\n",
        "                                 'a veteran']}"
      ]
    },
    {
      "cell_type": "code",
      "execution_count": null,
      "metadata": {
        "id": "ZU6K-aSF2Tg0"
      },
      "outputs": [],
      "source": [
        "crime_violence_tragedy_victim = {\n",
        "    'crime_violence_tragedy_victim': ['a climate disaster victim',\n",
        "                                      'a mass shooting victim',\n",
        "                                      'a terrorism victim',\n",
        "                                      'an assault victim',\n",
        "                                      'a harassment victim']}"
      ]
    },
    {
      "cell_type": "markdown",
      "source": [
        "# Call the `predict_q1a_labels` function"
      ],
      "metadata": {
        "id": "x60pKBm9FV4k"
      }
    },
    {
      "cell_type": "markdown",
      "source": [
        "Running each of the following cells could take several hours. Colab Pro+ includes continuous code execution (capped at 24 hours) and background execution capabilities, enabling you to close your browser/device while your code runs. CPU is sufficient. Alternatively, you can download the notebooks and edit the code accordingly to point to the directories on your local machine you want to use."
      ],
      "metadata": {
        "id": "LO02mL7-FaLU"
      }
    },
    {
      "cell_type": "code",
      "execution_count": null,
      "metadata": {
        "id": "KGtIqyGquC9O"
      },
      "outputs": [],
      "source": [
        "predict_q1a_labels(\n",
        "    list(race_ethnicity.values())[0],\n",
        "    list(race_ethnicity.keys())[0],\n",
        "    'gpt-3.5-turbo-0301',\n",
        "    'Yes')"
      ]
    },
    {
      "cell_type": "code",
      "execution_count": null,
      "metadata": {
        "id": "hUYo8sZf_GnU"
      },
      "outputs": [],
      "source": [
        "predict_q1a_labels(\n",
        "    list(race_ethnicity.values())[0],\n",
        "    list(race_ethnicity.keys())[0],\n",
        "    'gpt-3.5-turbo-0613',\n",
        "    'Yes')"
      ]
    },
    {
      "cell_type": "code",
      "execution_count": null,
      "metadata": {
        "id": "nZ7SSGrFC4lz"
      },
      "outputs": [],
      "source": [
        "predict_q1a_labels(\n",
        "    list(gender_genderidentity_sexuality_maj.values())[0],\n",
        "    list(gender_genderidentity_sexuality_maj.keys())[0],\n",
        "    'gpt-3.5-turbo-0301')"
      ]
    },
    {
      "cell_type": "code",
      "execution_count": null,
      "metadata": {
        "id": "1bE2TiMp2uvs"
      },
      "outputs": [],
      "source": [
        "predict_q1a_labels(\n",
        "    list(gender_genderidentity_sexuality_maj.values())[0],\n",
        "    list(gender_genderidentity_sexuality_maj.keys())[0],\n",
        "    'gpt-3.5-turbo-0613')"
      ]
    },
    {
      "cell_type": "code",
      "execution_count": null,
      "metadata": {
        "id": "54AM4iGC5oKz"
      },
      "outputs": [],
      "source": [
        "predict_q1a_labels(\n",
        "    list(gender_genderidentity_sexuality_minA.values())[0],\n",
        "    list(gender_genderidentity_sexuality_minA.keys())[0],\n",
        "    'gpt-3.5-turbo-0301')"
      ]
    },
    {
      "cell_type": "code",
      "execution_count": null,
      "metadata": {
        "id": "2t-DpFQj5hn7"
      },
      "outputs": [],
      "source": [
        "predict_q1a_labels(\n",
        "    list(gender_genderidentity_sexuality_minA.values())[0],\n",
        "    list(gender_genderidentity_sexuality_minA.keys())[0],\n",
        "    'gpt-3.5-turbo-0613')"
      ]
    },
    {
      "cell_type": "code",
      "execution_count": null,
      "metadata": {
        "id": "hr9GUTGI5roK"
      },
      "outputs": [],
      "source": [
        "predict_q1a_labels(\n",
        "    list(gender_genderidentity_sexuality_minB.values())[0],\n",
        "    list(gender_genderidentity_sexuality_minB.keys())[0],\n",
        "    'gpt-3.5-turbo-0301')"
      ]
    },
    {
      "cell_type": "code",
      "execution_count": null,
      "metadata": {
        "id": "lz-kHoxe5uk6"
      },
      "outputs": [],
      "source": [
        "predict_q1a_labels(\n",
        "    list(gender_genderidentity_sexuality_minB.values())[0],\n",
        "    list(gender_genderidentity_sexuality_minB.keys())[0],\n",
        "    'gpt-3.5-turbo-0613')"
      ]
    },
    {
      "cell_type": "code",
      "execution_count": null,
      "metadata": {
        "id": "z09qq0zy54my"
      },
      "outputs": [],
      "source": [
        "predict_q1a_labels(\n",
        "    list(culture_origin_religion.values())[0],\n",
        "    list(culture_origin_religion.keys())[0],\n",
        "    'gpt-3.5-turbo-0301')"
      ]
    },
    {
      "cell_type": "code",
      "execution_count": null,
      "metadata": {
        "id": "HEUMkBSs5zuS"
      },
      "outputs": [],
      "source": [
        "predict_q1a_labels(\n",
        "    list(culture_origin_religion.values())[0],\n",
        "    list(culture_origin_religion.keys())[0],\n",
        "    'gpt-3.5-turbo-0613')"
      ]
    },
    {
      "cell_type": "code",
      "execution_count": null,
      "metadata": {
        "id": "Dr5oAB75wIEy"
      },
      "outputs": [],
      "source": [
        "predict_q1a_labels(\n",
        "    list(age_body.values())[0],\n",
        "    list(age_body.keys())[0],\n",
        "    'gpt-3.5-turbo-0301')"
      ]
    },
    {
      "cell_type": "code",
      "execution_count": null,
      "metadata": {
        "id": "BBEAwqN4NqE-"
      },
      "outputs": [],
      "source": [
        "predict_q1a_labels(\n",
        "    list(age_body.values())[0],\n",
        "    list(age_body.keys())[0],\n",
        "    'gpt-3.5-turbo-0613')"
      ]
    },
    {
      "cell_type": "code",
      "execution_count": null,
      "metadata": {
        "id": "R-pryQrgiGcp"
      },
      "outputs": [],
      "source": [
        "predict_q1a_labels(\n",
        "    list(mental_or_physical_disability.values())[0],\n",
        "    list(mental_or_physical_disability.keys())[0],\n",
        "    'gpt-3.5-turbo-0301')"
      ]
    },
    {
      "cell_type": "code",
      "execution_count": null,
      "metadata": {
        "id": "jnEhOaBG6PJx"
      },
      "outputs": [],
      "source": [
        "predict_q1a_labels(\n",
        "    list(mental_or_physical_disability.values())[0],\n",
        "    list(mental_or_physical_disability.keys())[0],\n",
        "    'gpt-3.5-turbo-0613')"
      ]
    },
    {
      "cell_type": "code",
      "execution_count": null,
      "metadata": {
        "id": "gBKNy0f1cNEu"
      },
      "outputs": [],
      "source": [
        "predict_q1a_labels(\n",
        "    list(socio_economic_political_lifestyle.values())[0],\n",
        "    list(socio_economic_political_lifestyle.keys())[0],\n",
        "    'gpt-3.5-turbo-0301')"
      ]
    },
    {
      "cell_type": "code",
      "execution_count": null,
      "metadata": {
        "id": "GArYdnxyaQDx"
      },
      "outputs": [],
      "source": [
        "predict_q1a_labels(\n",
        "    list(socio_economic_political_lifestyle.values())[0],\n",
        "    list(socio_economic_political_lifestyle.keys())[0],\n",
        "    'gpt-3.5-turbo-0613')"
      ]
    },
    {
      "cell_type": "code",
      "execution_count": null,
      "metadata": {
        "id": "xT3qqIrFyEZZ"
      },
      "outputs": [],
      "source": [
        "predict_q1a_labels(\n",
        "    list(crime_violence_tragedy_victim.values())[0],\n",
        "    list(crime_violence_tragedy_victim.keys())[0],\n",
        "    'gpt-3.5-turbo-0301')"
      ]
    },
    {
      "cell_type": "code",
      "execution_count": null,
      "metadata": {
        "id": "Elif3RvreWYk"
      },
      "outputs": [],
      "source": [
        "predict_q1a_labels(\n",
        "    list(crime_violence_tragedy_victim.values())[0],\n",
        "    list(crime_violence_tragedy_victim.keys())[0],\n",
        "    'gpt-3.5-turbo-0613')"
      ]
    }
  ],
  "metadata": {
    "colab": {
      "machine_shape": "hm",
      "provenance": []
    },
    "kernelspec": {
      "display_name": "Python 3",
      "name": "python3"
    },
    "language_info": {
      "name": "python"
    }
  },
  "nbformat": 4,
  "nbformat_minor": 0
}