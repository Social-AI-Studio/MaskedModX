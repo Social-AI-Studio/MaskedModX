{
  "nbformat": 4,
  "nbformat_minor": 0,
  "metadata": {
    "colab": {
      "provenance": []
    },
    "kernelspec": {
      "name": "python3",
      "display_name": "Python 3"
    },
    "language_info": {
      "name": "python"
    }
  },
  "cells": [
    {
      "cell_type": "markdown",
      "source": [
        "# Import libraries"
      ],
      "metadata": {
        "id": "9235Utwwfh3C"
      }
    },
    {
      "cell_type": "code",
      "execution_count": null,
      "metadata": {
        "id": "0BE8CQh6Tl7l"
      },
      "outputs": [],
      "source": [
        "import os\n",
        "import pandas as pd\n",
        "import urllib.request"
      ]
    },
    {
      "cell_type": "markdown",
      "source": [
        "# Mount drive"
      ],
      "metadata": {
        "id": "xn-Mbk84fcAJ"
      }
    },
    {
      "cell_type": "code",
      "source": [
        "from google.colab import drive\n",
        "drive.mount('/content/drive')"
      ],
      "metadata": {
        "id": "SsKJ_DHqfeRq"
      },
      "execution_count": null,
      "outputs": []
    },
    {
      "cell_type": "markdown",
      "source": [
        "# Create directory to store data"
      ],
      "metadata": {
        "id": "DDZlAOFzfW8C"
      }
    },
    {
      "cell_type": "code",
      "source": [
        "os.makedirs('/content/drive/MyDrive/datasets', exist_ok=True)"
      ],
      "metadata": {
        "id": "NDaLnBwwfNEZ"
      },
      "execution_count": null,
      "outputs": []
    },
    {
      "cell_type": "markdown",
      "source": [
        "# Download **Potato-Prolific dataset (POPQUORN)**"
      ],
      "metadata": {
        "id": "2mPO_v-VkPSZ"
      }
    },
    {
      "cell_type": "markdown",
      "source": [
        "Pei, J., Jurgens, D.: When do annotator demographics matter? measuring the\n",
        "influence of annotator demographics with the POPQUORN dataset. In: Proceedings of the 17th Linguistic Annotation Workshop (LAW-XVII), pp. 252–265.\n",
        "Association for Computational Linguistics, Toronto, Canada (2023). https://doi.org/10.18653/v1/2023.law-1.25 . https://aclanthology.org/2023.law-1.25"
      ],
      "metadata": {
        "id": "8Yxz3Avb9Hus"
      }
    },
    {
      "cell_type": "code",
      "source": [
        "urllib.request.urlretrieve(\n",
        "    'https://raw.githubusercontent.com/Jiaxin-Pei/Potato-Prolific-Dataset/main/'\n",
        "    'dataset/offensiveness/raw_data.csv',\n",
        "    '/content/drive/MyDrive/datasets/raw_data.csv')"
      ],
      "metadata": {
        "id": "drRuGE0Ce7_6"
      },
      "execution_count": null,
      "outputs": []
    },
    {
      "cell_type": "markdown",
      "source": [
        "# Import dataframe"
      ],
      "metadata": {
        "id": "m51HzDjXwKmu"
      }
    },
    {
      "cell_type": "code",
      "source": [
        "raw_data = pd.read_csv('/content/drive/MyDrive/datasets/raw_data.csv')"
      ],
      "metadata": {
        "id": "m5KVGr33wTqF"
      },
      "execution_count": null,
      "outputs": []
    },
    {
      "cell_type": "markdown",
      "source": [
        "# Extract unique texts"
      ],
      "metadata": {
        "id": "XyC10xjvwUZk"
      }
    },
    {
      "cell_type": "code",
      "source": [
        "raw_data_texts = pd.DataFrame({'text': raw_data['text'].unique().tolist()})"
      ],
      "metadata": {
        "id": "ZwChkusMbTdq"
      },
      "execution_count": null,
      "outputs": []
    },
    {
      "cell_type": "markdown",
      "source": [
        "# Save data"
      ],
      "metadata": {
        "id": "oDjAqjlPyIKn"
      }
    },
    {
      "cell_type": "code",
      "source": [
        "raw_data_texts.to_csv('/content/drive/MyDrive/datasets/raw_data_texts.csv',\n",
        "                      index=False)"
      ],
      "metadata": {
        "id": "8emqdiXAyJGk"
      },
      "execution_count": null,
      "outputs": []
    }
  ]
}