{
  "nbformat": 4,
  "nbformat_minor": 0,
  "metadata": {
    "colab": {
      "provenance": []
    },
    "kernelspec": {
      "name": "python3",
      "display_name": "Python 3"
    },
    "language_info": {
      "name": "python"
    }
  },
  "cells": [
    {
      "cell_type": "markdown",
      "source": [
        "# Import libraries"
      ],
      "metadata": {
        "id": "9235Utwwfh3C"
      }
    },
    {
      "cell_type": "code",
      "execution_count": null,
      "metadata": {
        "id": "0BE8CQh6Tl7l"
      },
      "outputs": [],
      "source": [
        "import os\n",
        "import pandas as pd\n",
        "import shutil\n",
        "import tarfile\n",
        "import urllib.request"
      ]
    },
    {
      "cell_type": "markdown",
      "source": [
        "# Mount drive"
      ],
      "metadata": {
        "id": "xn-Mbk84fcAJ"
      }
    },
    {
      "cell_type": "code",
      "source": [
        "from google.colab import drive\n",
        "drive.mount('/content/drive')"
      ],
      "metadata": {
        "id": "SsKJ_DHqfeRq"
      },
      "execution_count": null,
      "outputs": []
    },
    {
      "cell_type": "markdown",
      "source": [
        "# Create directory to store data"
      ],
      "metadata": {
        "id": "DDZlAOFzfW8C"
      }
    },
    {
      "cell_type": "code",
      "source": [
        "os.makedirs('/content/drive/MyDrive/datasets', exist_ok=True)"
      ],
      "metadata": {
        "id": "NDaLnBwwfNEZ"
      },
      "execution_count": null,
      "outputs": []
    },
    {
      "cell_type": "markdown",
      "source": [
        "# Download **Annotators with Attitudes (AWA)**"
      ],
      "metadata": {
        "id": "2mPO_v-VkPSZ"
      }
    },
    {
      "cell_type": "markdown",
      "source": [
        "Sap, M., Swayamdipta, S., Vianna, L., Zhou, X., Choi, Y., Smith, N.A.: Annotators with attitudes: How annotator beliefs and identities bias toxic language\n",
        "detection. In: Proceedings of the 2022 Conference of the North American\n",
        "Chapter of the Association for Computational Linguistics: Human Language\n",
        "Technologies, pp. 5884–5906. Association for Computational Linguistics, Seattle, United States (2022). https://doi.org/10.18653/v1/2022.naacl-main.431 ."
      ],
      "metadata": {
        "id": "8Yxz3Avb9Hus"
      }
    },
    {
      "cell_type": "code",
      "source": [
        "urllib.request.urlretrieve(\n",
        "    'https://maartensap.com/racial-bias-hatespeech/annWithAttitudes.tgz',\n",
        "    '/content/drive/MyDrive/datasets/annWithAttitudes.tgz')"
      ],
      "metadata": {
        "id": "drRuGE0Ce7_6"
      },
      "execution_count": null,
      "outputs": []
    },
    {
      "cell_type": "code",
      "source": [
        "# Uncompress a .tgz file. via\n",
        "# https://www.geeksforgeeks.org/how-to-uncompress-a-tar-gz-file-using-python/\n",
        "file = tarfile.open('/content/drive/MyDrive/datasets/annWithAttitudes.tgz')\n",
        "file.extractall('/content/drive/MyDrive/datasets/annWithAttitudes')\n",
        "file.close()"
      ],
      "metadata": {
        "id": "ghgfZiSEce7v"
      },
      "execution_count": null,
      "outputs": []
    },
    {
      "cell_type": "code",
      "source": [
        "shutil.move('/content/drive/MyDrive/datasets/annWithAttitudes/largeScale.csv',\n",
        "            '/content/drive/MyDrive/datasets/largeScale.csv')\n",
        "shutil.rmtree('/content/drive/MyDrive/datasets/annWithAttitudes')\n",
        "os.remove('/content/drive/MyDrive/datasets/annWithAttitudes.tgz')"
      ],
      "metadata": {
        "id": "exrIVbwydh4X"
      },
      "execution_count": null,
      "outputs": []
    },
    {
      "cell_type": "markdown",
      "source": [
        "# Import dataframe"
      ],
      "metadata": {
        "id": "Fp3wB3ZvhEdX"
      }
    },
    {
      "cell_type": "code",
      "source": [
        "largeScale = pd.read_csv('/content/drive/MyDrive/datasets/largeScale.csv')"
      ],
      "metadata": {
        "id": "xKSUVQHShF2v"
      },
      "execution_count": null,
      "outputs": []
    },
    {
      "cell_type": "markdown",
      "source": [
        "# Extract unique tweets"
      ],
      "metadata": {
        "id": "LAQZROIEhQN-"
      }
    },
    {
      "cell_type": "code",
      "source": [
        "tweets = pd.DataFrame({'tweet': largeScale['tweet'].unique().tolist()})"
      ],
      "metadata": {
        "id": "vv98JrMBfsl_"
      },
      "execution_count": null,
      "outputs": []
    },
    {
      "cell_type": "markdown",
      "source": [
        "# Save data"
      ],
      "metadata": {
        "id": "I0hhEE8ChZhv"
      }
    },
    {
      "cell_type": "code",
      "source": [
        "tweets.to_csv('/content/drive/MyDrive/datasets/largeScale_tweets.csv',\n",
        "              index=False)"
      ],
      "metadata": {
        "id": "7i1bNYy6hW9n"
      },
      "execution_count": null,
      "outputs": []
    }
  ]
}