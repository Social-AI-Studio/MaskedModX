{
  "nbformat": 4,
  "nbformat_minor": 0,
  "metadata": {
    "colab": {
      "provenance": []
    },
    "kernelspec": {
      "name": "python3",
      "display_name": "Python 3"
    },
    "language_info": {
      "name": "python"
    }
  },
  "cells": [
    {
      "cell_type": "markdown",
      "source": [
        "# Import libraries"
      ],
      "metadata": {
        "id": "9235Utwwfh3C"
      }
    },
    {
      "cell_type": "code",
      "execution_count": null,
      "metadata": {
        "id": "0BE8CQh6Tl7l"
      },
      "outputs": [],
      "source": [
        "import os\n",
        "import pandas as pd\n",
        "import urllib.request"
      ]
    },
    {
      "cell_type": "markdown",
      "source": [
        "# Mount drive"
      ],
      "metadata": {
        "id": "xn-Mbk84fcAJ"
      }
    },
    {
      "cell_type": "code",
      "source": [
        "from google.colab import drive\n",
        "drive.mount('/content/drive')"
      ],
      "metadata": {
        "id": "SsKJ_DHqfeRq"
      },
      "execution_count": null,
      "outputs": []
    },
    {
      "cell_type": "markdown",
      "source": [
        "# Create directory to store data"
      ],
      "metadata": {
        "id": "DDZlAOFzfW8C"
      }
    },
    {
      "cell_type": "code",
      "source": [
        "os.makedirs('/content/drive/MyDrive/datasets', exist_ok=True)"
      ],
      "metadata": {
        "id": "NDaLnBwwfNEZ"
      },
      "execution_count": null,
      "outputs": []
    },
    {
      "cell_type": "markdown",
      "source": [
        "# Download **COVID-HATE**"
      ],
      "metadata": {
        "id": "2mPO_v-VkPSZ"
      }
    },
    {
      "cell_type": "markdown",
      "source": [
        "He, B., Ziems, C., Soni, S., Ramakrishnan, N., Yang, D., Kumar, S.: Racism is a\n",
        "virus: Anti-asian hate and counterspeech in social media during the covid-19 crisis.\n",
        "In: Proceedings of the 2021 IEEE/ACM International Conference on Advances\n",
        "in Social Networks Analysis and Mining. ASONAM ’21, pp. 90–94. Association\n",
        "for Computing Machinery, New York, NY, USA (2022). https://doi.org/10.1145/3487351.3488324"
      ],
      "metadata": {
        "id": "8Yxz3Avb9Hus"
      }
    },
    {
      "cell_type": "code",
      "source": [
        "urllib.request.urlretrieve(\n",
        "    'https://www.dropbox.com/sh/g9uglvl3cd61k69/AAD1G2wGpWQWNYCeUbMNE9-Ba'\n",
        "    '/data/annotated_tweets_w_text.csv?dl=1',\n",
        "    '/content/drive/MyDrive/datasets/annotated_tweets_w_text.csv')"
      ],
      "metadata": {
        "id": "drRuGE0Ce7_6"
      },
      "execution_count": null,
      "outputs": []
    },
    {
      "cell_type": "markdown",
      "source": [
        "# Remove duplicated tweets"
      ],
      "metadata": {
        "id": "iZWVo1SuuH2A"
      }
    },
    {
      "cell_type": "code",
      "source": [
        "annotated_tweets_w_text = pd.read_csv(\n",
        "    '/content/drive/MyDrive/datasets/annotated_tweets_w_text.csv')\n",
        "annotated_tweets_w_text.drop_duplicates(subset='Text',\n",
        "                                        keep='first',\n",
        "                                        inplace=True)\n",
        "annotated_tweets_w_text.reset_index(drop=True, inplace=True)\n",
        "annotated_tweets_w_text.to_csv(\n",
        "    '/content/drive/MyDrive/datasets/annotated_tweets_w_text.csv',\n",
        "    index=False)"
      ],
      "metadata": {
        "id": "8HWHJ9ecuOEf"
      },
      "execution_count": null,
      "outputs": []
    }
  ]
}