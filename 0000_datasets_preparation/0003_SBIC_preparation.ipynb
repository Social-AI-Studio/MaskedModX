{
  "nbformat": 4,
  "nbformat_minor": 0,
  "metadata": {
    "colab": {
      "provenance": []
    },
    "kernelspec": {
      "name": "python3",
      "display_name": "Python 3"
    },
    "language_info": {
      "name": "python"
    }
  },
  "cells": [
    {
      "cell_type": "markdown",
      "source": [
        "# Import libraries"
      ],
      "metadata": {
        "id": "9235Utwwfh3C"
      }
    },
    {
      "cell_type": "code",
      "execution_count": null,
      "metadata": {
        "id": "0BE8CQh6Tl7l"
      },
      "outputs": [],
      "source": [
        "import json\n",
        "import os\n",
        "import pandas as pd\n",
        "from scipy import stats\n",
        "import shutil\n",
        "import tarfile\n",
        "import urllib.request"
      ]
    },
    {
      "cell_type": "markdown",
      "source": [
        "# Mount drive"
      ],
      "metadata": {
        "id": "xn-Mbk84fcAJ"
      }
    },
    {
      "cell_type": "code",
      "source": [
        "from google.colab import drive\n",
        "drive.mount('/content/drive')"
      ],
      "metadata": {
        "id": "SsKJ_DHqfeRq"
      },
      "execution_count": null,
      "outputs": []
    },
    {
      "cell_type": "markdown",
      "source": [
        "# Create directory to store data"
      ],
      "metadata": {
        "id": "DDZlAOFzfW8C"
      }
    },
    {
      "cell_type": "code",
      "source": [
        "os.makedirs('/content/drive/MyDrive/datasets', exist_ok=True)"
      ],
      "metadata": {
        "id": "NDaLnBwwfNEZ"
      },
      "execution_count": null,
      "outputs": []
    },
    {
      "cell_type": "markdown",
      "source": [
        "# Download **Social Bias Inference Corpus (SBIC)**"
      ],
      "metadata": {
        "id": "2mPO_v-VkPSZ"
      }
    },
    {
      "cell_type": "markdown",
      "source": [
        "Sap, M., Gabriel, S., Qin, L., Jurafsky, D., Smith, N.A., Choi, Y.:\n",
        "Social bias frames: Reasoning about social and power implications of language. In: Proceedings of the 58th Annual Meeting of the Association\n",
        "for Computational Linguistics, pp. 5477–5490. Association for Computational Linguistics, Online (2020). https://doi.org/10.18653/v1/2020.acl-main.486\n",
        ". https://aclanthology.org/2020.acl-main.486"
      ],
      "metadata": {
        "id": "8Yxz3Avb9Hus"
      }
    },
    {
      "cell_type": "code",
      "source": [
        "urllib.request.urlretrieve(\n",
        "    'https://maartensap.com/social-bias-frames/SBIC.v2.tgz',\n",
        "    '/content/drive/MyDrive/datasets/SBIC.v2.tgz')"
      ],
      "metadata": {
        "id": "drRuGE0Ce7_6"
      },
      "execution_count": null,
      "outputs": []
    },
    {
      "cell_type": "code",
      "source": [
        "# Uncompress a .tgz file. via\n",
        "# https://www.geeksforgeeks.org/how-to-uncompress-a-tar-gz-file-using-python/\n",
        "file = tarfile.open('/content/drive/MyDrive/datasets/SBIC.v2.tgz')\n",
        "file.extractall('/content/drive/MyDrive/datasets/SBIC.v2')\n",
        "file.close()"
      ],
      "metadata": {
        "id": "hUSFT_pEXnFQ"
      },
      "execution_count": null,
      "outputs": []
    },
    {
      "cell_type": "markdown",
      "source": [
        "# Adapted from the code in the `README` file from `SBIC.v2.tgz`"
      ],
      "metadata": {
        "id": "QRdPem-ub8xX"
      }
    },
    {
      "cell_type": "code",
      "source": [
        "# Import datasets\n",
        "df = pd.read_csv('/content/drive/MyDrive/datasets/SBIC.v2/SBIC.v2.tst.csv')\n",
        "df_agg = pd.read_csv(\n",
        "    '/content/drive/MyDrive/datasets/SBIC.v2/SBIC.v2.agg.tst.csv')\n",
        "\n",
        "# Update aggregated dataframe with modal responses to questions 1a, 1b, 2, 3a.\n",
        "# This is in contrast to the use of np.mean by the authors.\n",
        "classFields = ['whoTarget', 'intentYN', 'sexYN', 'offensiveYN']\n",
        "aggDict = {c: lambda x: stats.mode(x, nan_policy='omit')[0] for c in\n",
        "           classFields}\n",
        "gDf = df.groupby(\"post\", as_index=False).agg(aggDict)\n",
        "gDf.rename({'whoTarget': 'whoTarget_mode', 'intentYN': 'intentYN_mode',\n",
        "            'sexYN': 'sexYN_mode', 'offensiveYN': 'offensiveYN_mode'},\n",
        "           axis=1, inplace=True)\n",
        "gDf_subset = gDf[['post', 'whoTarget_mode', 'intentYN_mode', 'sexYN_mode',\n",
        "                  'offensiveYN_mode']]\n",
        "df_comb = pd.merge(df_agg, gDf_subset, how='left', on='post')\n",
        "\n",
        "# Save aggregated file\n",
        "df_comb.to_csv('/content/drive/MyDrive/datasets/SBIC.v2.agg.test.csv',\n",
        "               index=False)"
      ],
      "metadata": {
        "id": "71Ic-xmb5OH5"
      },
      "execution_count": null,
      "outputs": []
    },
    {
      "cell_type": "code",
      "source": [
        "shutil.move('/content/drive/MyDrive/datasets/SBIC.v2/SBIC.v2.tst.csv',\n",
        "            '/content/drive/MyDrive/datasets/SBIC.v2.tst.csv')\n",
        "shutil.rmtree('/content/drive/MyDrive/datasets/SBIC.v2')\n",
        "os.remove('/content/drive/MyDrive/datasets/SBIC.v2.tgz')"
      ],
      "metadata": {
        "id": "rYzRD5gxxYnG"
      },
      "execution_count": null,
      "outputs": []
    }
  ]
}