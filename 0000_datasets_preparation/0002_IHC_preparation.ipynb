{
  "nbformat": 4,
  "nbformat_minor": 0,
  "metadata": {
    "colab": {
      "provenance": []
    },
    "kernelspec": {
      "name": "python3",
      "display_name": "Python 3"
    },
    "language_info": {
      "name": "python"
    }
  },
  "cells": [
    {
      "cell_type": "markdown",
      "source": [
        "# Import libraries"
      ],
      "metadata": {
        "id": "9235Utwwfh3C"
      }
    },
    {
      "cell_type": "code",
      "execution_count": null,
      "metadata": {
        "id": "0BE8CQh6Tl7l"
      },
      "outputs": [],
      "source": [
        "import os\n",
        "import shutil\n",
        "import urllib.request\n",
        "from zipfile import ZipFile"
      ]
    },
    {
      "cell_type": "markdown",
      "source": [
        "# Mount drive"
      ],
      "metadata": {
        "id": "xn-Mbk84fcAJ"
      }
    },
    {
      "cell_type": "code",
      "source": [
        "from google.colab import drive\n",
        "drive.mount('/content/drive')"
      ],
      "metadata": {
        "id": "SsKJ_DHqfeRq"
      },
      "execution_count": null,
      "outputs": []
    },
    {
      "cell_type": "markdown",
      "source": [
        "# Create directory to store data"
      ],
      "metadata": {
        "id": "DDZlAOFzfW8C"
      }
    },
    {
      "cell_type": "code",
      "source": [
        "os.makedirs('/content/drive/MyDrive/datasets', exist_ok=True)"
      ],
      "metadata": {
        "id": "NDaLnBwwfNEZ"
      },
      "execution_count": null,
      "outputs": []
    },
    {
      "cell_type": "markdown",
      "source": [
        "# Download **Implicit Hate Corpus (IHC)**"
      ],
      "metadata": {
        "id": "2mPO_v-VkPSZ"
      }
    },
    {
      "cell_type": "markdown",
      "source": [
        "**Please take the survey via the link listed at https://github.com/SALT-NLP/implicit-hate, before accessing the data.**"
      ],
      "metadata": {
        "id": "Nd96NBccAEc6"
      }
    },
    {
      "cell_type": "markdown",
      "source": [
        "ElSherief, M., Ziems, C., Muchlinski, D., Anupindi, V., Seybolt, J., De Choud-\n",
        "hury, M., Yang, D.: Latent hatred: A benchmark for understanding implicit hate\n",
        "speech. In: Proceedings of the 2021 Conference on Empirical Methods in Natural\n",
        "Language Processing, pp. 345–363. Association for Computational Linguistics,\n",
        "Online and Punta Cana, Dominican Republic (2021). https://doi.org/10.18653/v1/2021.emnlp-main.29 . https://aclanthology.org/2021.emnlp-main.29"
      ],
      "metadata": {
        "id": "8Yxz3Avb9Hus"
      }
    },
    {
      "cell_type": "code",
      "source": [
        "urllib.request.urlretrieve(\n",
        "    'https://www.dropbox.com/s/24meryhqi1oo0xk/implicit-hate-corpus.zip?dl=1',\n",
        "    '/content/drive/MyDrive/datasets/implicit-hate-corpus.zip')"
      ],
      "metadata": {
        "id": "drRuGE0Ce7_6"
      },
      "execution_count": null,
      "outputs": []
    },
    {
      "cell_type": "code",
      "source": [
        "# Unzip file. via\n",
        "# https://www.geeksforgeeks.org/unzipping-files-in-python/\n",
        "with ZipFile('/content/drive/MyDrive/datasets/implicit-hate-corpus.zip',\n",
        "             'r') as zObject:\n",
        "    zObject.extractall('/content/drive/MyDrive/datasets/')"
      ],
      "metadata": {
        "id": "hUSFT_pEXnFQ"
      },
      "execution_count": null,
      "outputs": []
    },
    {
      "cell_type": "code",
      "source": [
        "# Move files from one directory to another. via\n",
        "# https://www.geeksforgeeks.org/\n",
        "# how-to-move-all-files-from-one-directory-to-another-using-python/\n",
        "for f in ['implicit_hate_v1_stg1_posts.tsv',\n",
        "          'implicit_hate_v1_stg3_posts.tsv']:\n",
        "    src_path = os.path.join(\n",
        "        '/content/drive/MyDrive/datasets/implicit-hate-corpus', f)\n",
        "    dst_path = os.path.join('/content/drive/MyDrive/datasets', f)\n",
        "    os.rename(src_path, dst_path)"
      ],
      "metadata": {
        "id": "OyMfxd-QvdlH"
      },
      "execution_count": null,
      "outputs": []
    },
    {
      "cell_type": "code",
      "source": [
        "shutil.rmtree('/content/drive/MyDrive/datasets/implicit-hate-corpus')\n",
        "os.remove('/content/drive/MyDrive/datasets/implicit-hate-corpus.zip')"
      ],
      "metadata": {
        "id": "rYzRD5gxxYnG"
      },
      "execution_count": null,
      "outputs": []
    }
  ]
}