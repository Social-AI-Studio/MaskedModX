{
  "cells": [
    {
      "cell_type": "markdown",
      "source": [
        "# Mount drive"
      ],
      "metadata": {
        "id": "M0F01sAylQ3J"
      }
    },
    {
      "cell_type": "code",
      "source": [
        "from google.colab import drive\n",
        "drive.mount('/content/drive')"
      ],
      "metadata": {
        "id": "17AwA1V2lTa5"
      },
      "execution_count": null,
      "outputs": []
    },
    {
      "cell_type": "markdown",
      "source": [
        "# Import libraries"
      ],
      "metadata": {
        "id": "xPdlrzeTa8ra"
      }
    },
    {
      "cell_type": "code",
      "execution_count": null,
      "metadata": {
        "id": "MdDzE809cvfZ"
      },
      "outputs": [],
      "source": [
        "import numpy as np\n",
        "import pandas as pd\n",
        "# Prevent AttributeError. via\n",
        "# https://stackoverflow.com/a/76404841\n",
        "pd.DataFrame.iteritems = pd.DataFrame.items\n",
        "import statistics"
      ]
    },
    {
      "cell_type": "code",
      "execution_count": null,
      "metadata": {
        "id": "lE5S2M-394YJ"
      },
      "outputs": [],
      "source": [
        "%load_ext rpy2.ipython"
      ]
    },
    {
      "cell_type": "code",
      "execution_count": null,
      "metadata": {
        "id": "RRSZu_bS3gSY"
      },
      "outputs": [],
      "source": [
        "%%R\n",
        "install.packages(\"dplyr\")\n",
        "install.packages(\"ggh4x\")\n",
        "devtools::install_github(\"hadley/ggplot2\")\n",
        "devtools::install_github(\"cran/GiniWegNeg\")\n",
        "devtools::install_github(\"kgwet/irrCAC\")\n",
        "install.packages(\"patchwork\")\n",
        "install.packages(\"showtext\")\n",
        "install.packages(\"stringr\")\n",
        "library(dplyr)\n",
        "library(ggh4x)\n",
        "library(ggplot2)\n",
        "library(GiniWegNeg)\n",
        "library(irrCAC)\n",
        "library(patchwork)\n",
        "library(showtext)\n",
        "# Need to download Arial.ttf and upload it to your Google Drive prior.\n",
        "font_add(\"Arial\", regular = \"/content/drive/MyDrive/Arial.ttf\")\n",
        "library(stringr)"
      ]
    },
    {
      "cell_type": "markdown",
      "source": [
        "# Import datasets"
      ],
      "metadata": {
        "id": "KpJCfUedlUmx"
      }
    },
    {
      "cell_type": "markdown",
      "source": [
        "## Dataset with annotations and annotator information"
      ],
      "metadata": {
        "id": "DWrOxioNlMpS"
      }
    },
    {
      "cell_type": "code",
      "execution_count": null,
      "metadata": {
        "id": "TcccRSb-j-r8"
      },
      "outputs": [],
      "source": [
        "largeScale = pd.read_csv('/content/drive/MyDrive/datasets/largeScale.csv')\n",
        "largeScale = largeScale.reset_index(drop=True)"
      ]
    },
    {
      "cell_type": "markdown",
      "source": [
        "## GPT annotations"
      ],
      "metadata": {
        "id": "l4iEcIOSl-z4"
      }
    },
    {
      "cell_type": "code",
      "execution_count": null,
      "metadata": {
        "id": "YEg_ED1g_AzZ"
      },
      "outputs": [],
      "source": [
        "AWA_q1d_0301 = pd.read_csv(\n",
        "    '/content/drive/MyDrive/datasets/cleaning/'\n",
        "    'AWA_q1d_predictions_cleaned_gpt-3.5-turbo-0301.tsv',\n",
        "    sep='\\t')\n",
        "AWA_q1d_0301 = AWA_q1d_0301.reset_index(drop=True)\n",
        "AWA_q1d_0613 = pd.read_csv(\n",
        "    '/content/drive/MyDrive/datasets/cleaning/'\n",
        "    'AWA_q1d_predictions_cleaned_gpt-3.5-turbo-0613.tsv',\n",
        "    sep='\\t')\n",
        "AWA_q1d_0613 = AWA_q1d_0613.reset_index(drop=True)"
      ]
    },
    {
      "cell_type": "markdown",
      "source": [
        "# Aggregate actual annotations by demographic group"
      ],
      "metadata": {
        "id": "hLk5pmE2mVUx"
      }
    },
    {
      "cell_type": "code",
      "execution_count": null,
      "metadata": {
        "id": "P8oV6IA6jnVj"
      },
      "outputs": [],
      "source": [
        "# Pandas Groupby and mode. via\n",
        "# https://stackoverflow.com/a/54304691 and\n",
        "# https://stackoverflow.com/a/10374456\n",
        "AWA_q1d_age = largeScale.groupby(['tweet', 'annotatorAge'])['racist'].agg(\n",
        "    lambda x: int(np.round(statistics.mean(x)))).to_frame(\n",
        "    name='racist_mean').reset_index()\n",
        "AWA_q1d_gender = largeScale.groupby(['tweet', 'annotatorGender'])['racist'].agg(\n",
        "    lambda x: int(np.round(statistics.mean(x)))).to_frame(\n",
        "    name='racist_mean').reset_index()\n",
        "AWA_q1d_race = largeScale.groupby(['tweet', 'annotatorRace'])['racist'].agg(\n",
        "    lambda x: int(np.round(statistics.mean(x)))).to_frame(\n",
        "    name='racist_mean').reset_index()"
      ]
    },
    {
      "cell_type": "markdown",
      "source": [
        "# Define a function to compute and interpret Krippendorff's alpha coefficients between personas and actual annotators"
      ],
      "metadata": {
        "id": "WHkcTkVSpbz5"
      }
    },
    {
      "cell_type": "code",
      "execution_count": null,
      "metadata": {
        "id": "T07rkzs73k_M"
      },
      "outputs": [],
      "source": [
        "%%R\n",
        "compute_alpha_ia <- function(df_gold, df_pred, demog_var, demog_spec, persona,\n",
        "                             model, measure) {\n",
        "    df_gold <- df_gold[df_gold[demog_var] == demog_spec, ]\n",
        "    df <- merge(df_gold, df_pred[c(\"tweet\", persona)], by = \"tweet\")\n",
        "    df <- df[c(\"racist_mean\", persona)]\n",
        "    print(nrow(df))\n",
        "    df <- as.matrix(sapply(df, as.numeric))\n",
        "    # Retrieve and interpret Krippendorff's alpha values. via\n",
        "    # https://cran.r-project.org/web/packages/irrCAC/vignettes/\n",
        "    # benchmarking.html\n",
        "    a <- krippen.alpha.raw(df,\n",
        "        weights = \"linear\",\n",
        "        categ.labels = c(1, 2, 3, 4, 5)\n",
        "    )\n",
        "    print(a$est)\n",
        "    print(a$categories)\n",
        "    print(landis.koch.bf(a$est$coeff.val, a$est$coeff.se))\n",
        "    res <- data.frame(\n",
        "        alpha = c(a$est$coeff.val),\n",
        "        persona = c(persona),\n",
        "        model = c(model),\n",
        "        measure = c(measure)\n",
        "    )\n",
        "    return(res)\n",
        "}"
      ]
    },
    {
      "cell_type": "markdown",
      "source": [
        "# Call the `compute_alpha_ia` function to compute and interpret Krippendorff's alpha coefficients between personas and actual annotators"
      ],
      "metadata": {
        "id": "S5-ebwVZrDhy"
      }
    },
    {
      "cell_type": "code",
      "source": [
        "# Import data between languages. via\n",
        "# https://www.askpython.com/python/examples/\n",
        "# use-r-and-python-in-the-same-notebook\n",
        "%%R -i AWA_q1d_age -i AWA_q1d_0301\n",
        "alpha_ia_18_0301 <- compute_alpha_ia(\n",
        "    AWA_q1d_age,\n",
        "    AWA_q1d_0301,\n",
        "    \"annotatorAge\",\n",
        "    18.0,\n",
        "    \"predicted_q1d_ratings_a_person_(aged_18-24)_in_the_United_States\",\n",
        "    \"gpt-3.5-turbo-\\\"0301\\\"\",\n",
        "    \"\\\"alpha\\\"[ia]\"\n",
        ")\n",
        "print(alpha_ia_18_0301)"
      ],
      "metadata": {
        "id": "yZ_wdLHFu94U"
      },
      "execution_count": null,
      "outputs": []
    },
    {
      "cell_type": "code",
      "source": [
        "# Import data between languages. via\n",
        "# https://www.askpython.com/python/examples/\n",
        "# use-r-and-python-in-the-same-notebook\n",
        "%%R -i AWA_q1d_age -i AWA_q1d_0613\n",
        "alpha_ia_18_0613 <- compute_alpha_ia(\n",
        "    AWA_q1d_age,\n",
        "    AWA_q1d_0613,\n",
        "    \"annotatorAge\",\n",
        "    18.0,\n",
        "    \"predicted_q1d_ratings_a_person_(aged_18-24)_in_the_United_States\",\n",
        "    \"gpt-3.5-turbo-\\\"0613\\\"\",\n",
        "    \"\\\"alpha\\\"[ia]\"\n",
        ")\n",
        "print(alpha_ia_18_0613)"
      ],
      "metadata": {
        "id": "VoEQMZSbzsaB"
      },
      "execution_count": null,
      "outputs": []
    },
    {
      "cell_type": "code",
      "source": [
        "# Import data between languages. via\n",
        "# https://www.askpython.com/python/examples/\n",
        "# use-r-and-python-in-the-same-notebook\n",
        "%%R -i AWA_q1d_age -i AWA_q1d_0301\n",
        "alpha_ia_25_0301 <- compute_alpha_ia(\n",
        "    AWA_q1d_age,\n",
        "    AWA_q1d_0301,\n",
        "    \"annotatorAge\",\n",
        "    25.0,\n",
        "    \"predicted_q1d_ratings_a_person_(aged_25-29)_in_the_United_States\",\n",
        "    \"gpt-3.5-turbo-\\\"0301\\\"\",\n",
        "    \"\\\"alpha\\\"[ia]\"\n",
        ")\n",
        "print(alpha_ia_25_0301)"
      ],
      "metadata": {
        "id": "E9r_HASZMgYo"
      },
      "execution_count": null,
      "outputs": []
    },
    {
      "cell_type": "code",
      "source": [
        "# Import data between languages. via\n",
        "# https://www.askpython.com/python/examples/\n",
        "# use-r-and-python-in-the-same-notebook\n",
        "%%R -i AWA_q1d_age -i AWA_q1d_0613\n",
        "alpha_ia_25_0613 <- compute_alpha_ia(\n",
        "    AWA_q1d_age,\n",
        "    AWA_q1d_0613,\n",
        "    \"annotatorAge\",\n",
        "    25.0,\n",
        "    \"predicted_q1d_ratings_a_person_(aged_25-29)_in_the_United_States\",\n",
        "    \"gpt-3.5-turbo-\\\"0613\\\"\",\n",
        "    \"\\\"alpha\\\"[ia]\"\n",
        ")\n",
        "print(alpha_ia_25_0613)"
      ],
      "metadata": {
        "id": "rxYuKU9zMiNY"
      },
      "execution_count": null,
      "outputs": []
    },
    {
      "cell_type": "code",
      "source": [
        "# Import data between languages. via\n",
        "# https://www.askpython.com/python/examples/\n",
        "# use-r-and-python-in-the-same-notebook\n",
        "%%R -i AWA_q1d_age -i AWA_q1d_0301\n",
        "alpha_ia_30_0301 <- compute_alpha_ia(\n",
        "    AWA_q1d_age,\n",
        "    AWA_q1d_0301,\n",
        "    \"annotatorAge\",\n",
        "    30.0,\n",
        "    \"predicted_q1d_ratings_a_person_(aged_30-34)_in_the_United_States\",\n",
        "    \"gpt-3.5-turbo-\\\"0301\\\"\",\n",
        "    \"\\\"alpha\\\"[ia]\"\n",
        ")\n",
        "print(alpha_ia_30_0301)"
      ],
      "metadata": {
        "id": "Q8oSRSaKMsGA"
      },
      "execution_count": null,
      "outputs": []
    },
    {
      "cell_type": "code",
      "source": [
        "# Import data between languages. via\n",
        "# https://www.askpython.com/python/examples/\n",
        "# use-r-and-python-in-the-same-notebook\n",
        "%%R -i AWA_q1d_age -i AWA_q1d_0613\n",
        "alpha_ia_30_0613 <- compute_alpha_ia(\n",
        "    AWA_q1d_age,\n",
        "    AWA_q1d_0613,\n",
        "    \"annotatorAge\",\n",
        "    30.0,\n",
        "    \"predicted_q1d_ratings_a_person_(aged_30-34)_in_the_United_States\",\n",
        "    \"gpt-3.5-turbo-\\\"0613\\\"\",\n",
        "    \"\\\"alpha\\\"[ia]\"\n",
        ")\n",
        "print(alpha_ia_30_0613)"
      ],
      "metadata": {
        "id": "H6e5ZZ4kMu4o"
      },
      "execution_count": null,
      "outputs": []
    },
    {
      "cell_type": "code",
      "source": [
        "# Import data between languages. via\n",
        "# https://www.askpython.com/python/examples/\n",
        "# use-r-and-python-in-the-same-notebook\n",
        "%%R -i AWA_q1d_age -i AWA_q1d_0301\n",
        "alpha_ia_35_0301 <- compute_alpha_ia(\n",
        "    AWA_q1d_age,\n",
        "    AWA_q1d_0301,\n",
        "    \"annotatorAge\",\n",
        "    35.0,\n",
        "    \"predicted_q1d_ratings_a_person_(aged_35-39)_in_the_United_States\",\n",
        "    \"gpt-3.5-turbo-\\\"0301\\\"\",\n",
        "    \"\\\"alpha\\\"[ia]\"\n",
        ")\n",
        "print(alpha_ia_35_0301)"
      ],
      "metadata": {
        "id": "5lNkd6PzQcDg"
      },
      "execution_count": null,
      "outputs": []
    },
    {
      "cell_type": "code",
      "source": [
        "# Import data between languages. via\n",
        "# https://www.askpython.com/python/examples/\n",
        "# use-r-and-python-in-the-same-notebook\n",
        "%%R -i AWA_q1d_age -i AWA_q1d_0613\n",
        "alpha_ia_35_0613 <- compute_alpha_ia(\n",
        "    AWA_q1d_age,\n",
        "    AWA_q1d_0613,\n",
        "    \"annotatorAge\",\n",
        "    35.0,\n",
        "    \"predicted_q1d_ratings_a_person_(aged_35-39)_in_the_United_States\",\n",
        "    \"gpt-3.5-turbo-\\\"0613\\\"\",\n",
        "    \"\\\"alpha\\\"[ia]\"\n",
        ")\n",
        "print(alpha_ia_35_0613)"
      ],
      "metadata": {
        "id": "IRkPmitZQc_g"
      },
      "execution_count": null,
      "outputs": []
    },
    {
      "cell_type": "code",
      "source": [
        "# Import data between languages. via\n",
        "# https://www.askpython.com/python/examples/\n",
        "# use-r-and-python-in-the-same-notebook\n",
        "%%R -i AWA_q1d_age -i AWA_q1d_0301\n",
        "alpha_ia_40_0301 <- compute_alpha_ia(\n",
        "    AWA_q1d_age,\n",
        "    AWA_q1d_0301,\n",
        "    \"annotatorAge\",\n",
        "    40.0,\n",
        "    \"predicted_q1d_ratings_a_person_(aged_40-44)_in_the_United_States\",\n",
        "    \"gpt-3.5-turbo-\\\"0301\\\"\",\n",
        "    \"\\\"alpha\\\"[ia]\"\n",
        ")\n",
        "print(alpha_ia_40_0301)"
      ],
      "metadata": {
        "id": "LWEcXfg-QoPY"
      },
      "execution_count": null,
      "outputs": []
    },
    {
      "cell_type": "code",
      "source": [
        "# Import data between languages. via\n",
        "# https://www.askpython.com/python/examples/\n",
        "# use-r-and-python-in-the-same-notebook\n",
        "%%R -i AWA_q1d_age -i AWA_q1d_0613\n",
        "alpha_ia_40_0613 <- compute_alpha_ia(\n",
        "    AWA_q1d_age,\n",
        "    AWA_q1d_0613,\n",
        "    \"annotatorAge\",\n",
        "    40.0,\n",
        "    \"predicted_q1d_ratings_a_person_(aged_40-44)_in_the_United_States\",\n",
        "    \"gpt-3.5-turbo-\\\"0613\\\"\",\n",
        "    \"\\\"alpha\\\"[ia]\"\n",
        ")\n",
        "print(alpha_ia_40_0613)"
      ],
      "metadata": {
        "id": "-muoyeTpQo-Q"
      },
      "execution_count": null,
      "outputs": []
    },
    {
      "cell_type": "code",
      "source": [
        "# Import data between languages. via\n",
        "# https://www.askpython.com/python/examples/\n",
        "# use-r-and-python-in-the-same-notebook\n",
        "%%R -i AWA_q1d_age -i AWA_q1d_0301\n",
        "alpha_ia_45_0301 <- compute_alpha_ia(\n",
        "    AWA_q1d_age,\n",
        "    AWA_q1d_0301,\n",
        "    \"annotatorAge\",\n",
        "    45.0,\n",
        "    \"predicted_q1d_ratings_a_person_(aged_45-49)_in_the_United_States\",\n",
        "    \"gpt-3.5-turbo-\\\"0301\\\"\",\n",
        "    \"\\\"alpha\\\"[ia]\"\n",
        ")\n",
        "print(alpha_ia_45_0301)"
      ],
      "metadata": {
        "id": "6jgbGjAGTn34"
      },
      "execution_count": null,
      "outputs": []
    },
    {
      "cell_type": "code",
      "source": [
        "# Import data between languages. via\n",
        "# https://www.askpython.com/python/examples/\n",
        "# use-r-and-python-in-the-same-notebook\n",
        "%%R -i AWA_q1d_age -i AWA_q1d_0613\n",
        "alpha_ia_45_0613 <- compute_alpha_ia(\n",
        "    AWA_q1d_age,\n",
        "    AWA_q1d_0613,\n",
        "    \"annotatorAge\",\n",
        "    45.0,\n",
        "    \"predicted_q1d_ratings_a_person_(aged_45-49)_in_the_United_States\",\n",
        "    \"gpt-3.5-turbo-\\\"0613\\\"\",\n",
        "    \"\\\"alpha\\\"[ia]\"\n",
        ")\n",
        "print(alpha_ia_45_0613)"
      ],
      "metadata": {
        "id": "mOeDG2jfTppZ"
      },
      "execution_count": null,
      "outputs": []
    },
    {
      "cell_type": "code",
      "source": [
        "# Import data between languages. via\n",
        "# https://www.askpython.com/python/examples/\n",
        "# use-r-and-python-in-the-same-notebook\n",
        "%%R -i AWA_q1d_age -i AWA_q1d_0301\n",
        "alpha_ia_50_0301 <- compute_alpha_ia(\n",
        "    AWA_q1d_age,\n",
        "    AWA_q1d_0301,\n",
        "    \"annotatorAge\",\n",
        "    50.0,\n",
        "    \"predicted_q1d_ratings_a_person_(aged_50-54)_in_the_United_States\",\n",
        "    \"gpt-3.5-turbo-\\\"0301\\\"\",\n",
        "    \"\\\"alpha\\\"[ia]\"\n",
        ")\n",
        "print(alpha_ia_50_0301)"
      ],
      "metadata": {
        "id": "6q0ISJUUTyki"
      },
      "execution_count": null,
      "outputs": []
    },
    {
      "cell_type": "code",
      "source": [
        "# Import data between languages. via\n",
        "# https://www.askpython.com/python/examples/\n",
        "# use-r-and-python-in-the-same-notebook\n",
        "%%R -i AWA_q1d_age -i AWA_q1d_0613\n",
        "alpha_ia_50_0613 <- compute_alpha_ia(\n",
        "    AWA_q1d_age,\n",
        "    AWA_q1d_0613,\n",
        "    \"annotatorAge\",\n",
        "    50.0,\n",
        "    \"predicted_q1d_ratings_a_person_(aged_50-54)_in_the_United_States\",\n",
        "    \"gpt-3.5-turbo-\\\"0613\\\"\",\n",
        "    \"\\\"alpha\\\"[ia]\"\n",
        ")\n",
        "print(alpha_ia_50_0613)"
      ],
      "metadata": {
        "id": "YidO6zeVTzgI"
      },
      "execution_count": null,
      "outputs": []
    },
    {
      "cell_type": "code",
      "source": [
        "# Import data between languages. via\n",
        "# https://www.askpython.com/python/examples/\n",
        "# use-r-and-python-in-the-same-notebook\n",
        "%%R -i AWA_q1d_age -i AWA_q1d_0301\n",
        "alpha_ia_55_0301 <- compute_alpha_ia(\n",
        "    AWA_q1d_age,\n",
        "    AWA_q1d_0301,\n",
        "    \"annotatorAge\",\n",
        "    55.0,\n",
        "    \"predicted_q1d_ratings_a_person_(aged_55-59)_in_the_United_States\",\n",
        "    \"gpt-3.5-turbo-\\\"0301\\\"\",\n",
        "    \"\\\"alpha\\\"[ia]\"\n",
        ")\n",
        "print(alpha_ia_55_0301)"
      ],
      "metadata": {
        "id": "TaAB0wRFUDuY"
      },
      "execution_count": null,
      "outputs": []
    },
    {
      "cell_type": "code",
      "source": [
        "# Import data between languages. via\n",
        "# https://www.askpython.com/python/examples/\n",
        "# use-r-and-python-in-the-same-notebook\n",
        "%%R -i AWA_q1d_age -i AWA_q1d_0613\n",
        "alpha_ia_55_0613 <- compute_alpha_ia(\n",
        "    AWA_q1d_age,\n",
        "    AWA_q1d_0613,\n",
        "    \"annotatorAge\",\n",
        "    55.0,\n",
        "    \"predicted_q1d_ratings_a_person_(aged_55-59)_in_the_United_States\",\n",
        "    \"gpt-3.5-turbo-\\\"0613\\\"\",\n",
        "    \"\\\"alpha\\\"[ia]\"\n",
        ")\n",
        "print(alpha_ia_55_0613)"
      ],
      "metadata": {
        "id": "zfaK9EmlUE7J"
      },
      "execution_count": null,
      "outputs": []
    },
    {
      "cell_type": "code",
      "source": [
        "# Import data between languages. via\n",
        "# https://www.askpython.com/python/examples/\n",
        "# use-r-and-python-in-the-same-notebook\n",
        "%%R -i AWA_q1d_age -i AWA_q1d_0301\n",
        "alpha_ia_60_0301 <- compute_alpha_ia(\n",
        "    AWA_q1d_age,\n",
        "    AWA_q1d_0301,\n",
        "    \"annotatorAge\",\n",
        "    60.0,\n",
        "    \"predicted_q1d_ratings_a_person_(aged_60-64)_in_the_United_States\",\n",
        "    \"gpt-3.5-turbo-\\\"0301\\\"\",\n",
        "    \"\\\"alpha\\\"[ia]\"\n",
        ")\n",
        "print(alpha_ia_60_0301)"
      ],
      "metadata": {
        "id": "da4_9tKyU43l"
      },
      "execution_count": null,
      "outputs": []
    },
    {
      "cell_type": "code",
      "source": [
        "# Import data between languages. via\n",
        "# https://www.askpython.com/python/examples/\n",
        "# use-r-and-python-in-the-same-notebook\n",
        "%%R -i AWA_q1d_age -i AWA_q1d_0613\n",
        "alpha_ia_60_0613 <- compute_alpha_ia(\n",
        "    AWA_q1d_age,\n",
        "    AWA_q1d_0613,\n",
        "    \"annotatorAge\",\n",
        "    60.0,\n",
        "    \"predicted_q1d_ratings_a_person_(aged_60-64)_in_the_United_States\",\n",
        "    \"gpt-3.5-turbo-\\\"0613\\\"\",\n",
        "    \"\\\"alpha\\\"[ia]\"\n",
        ")\n",
        "print(alpha_ia_60_0613)"
      ],
      "metadata": {
        "id": "Sjr6TSibU9a4"
      },
      "execution_count": null,
      "outputs": []
    },
    {
      "cell_type": "code",
      "source": [
        "# Import data between languages. via\n",
        "# https://www.askpython.com/python/examples/\n",
        "# use-r-and-python-in-the-same-notebook\n",
        "%%R -i AWA_q1d_age -i AWA_q1d_0301\n",
        "alpha_ia_65_0301 <- compute_alpha_ia(\n",
        "    AWA_q1d_age,\n",
        "    AWA_q1d_0301,\n",
        "    \"annotatorAge\",\n",
        "    65.0,\n",
        "    \"predicted_q1d_ratings_a_person_(aged_65+)_in_the_United_States\",\n",
        "    \"gpt-3.5-turbo-\\\"0301\\\"\",\n",
        "    \"\\\"alpha\\\"[ia]\"\n",
        ")\n",
        "print(alpha_ia_65_0301)"
      ],
      "metadata": {
        "id": "GZsCuBf-VHjI"
      },
      "execution_count": null,
      "outputs": []
    },
    {
      "cell_type": "code",
      "source": [
        "# Import data between languages. via\n",
        "# https://www.askpython.com/python/examples/\n",
        "# use-r-and-python-in-the-same-notebook\n",
        "%%R -i AWA_q1d_age -i AWA_q1d_0613\n",
        "alpha_ia_65_0613 <- compute_alpha_ia(\n",
        "    AWA_q1d_age,\n",
        "    AWA_q1d_0613,\n",
        "    \"annotatorAge\",\n",
        "    65.0,\n",
        "    \"predicted_q1d_ratings_a_person_(aged_65+)_in_the_United_States\",\n",
        "    \"gpt-3.5-turbo-\\\"0613\\\"\",\n",
        "    \"\\\"alpha\\\"[ia]\"\n",
        ")\n",
        "print(alpha_ia_65_0613)"
      ],
      "metadata": {
        "id": "NV2EuVtRVJrY"
      },
      "execution_count": null,
      "outputs": []
    },
    {
      "cell_type": "code",
      "source": [
        "# Import data between languages. via\n",
        "# https://www.askpython.com/python/examples/\n",
        "# use-r-and-python-in-the-same-notebook\n",
        "%%R -i AWA_q1d_gender -i AWA_q1d_0301\n",
        "alpha_ia_man_0301 <- compute_alpha_ia(\n",
        "    AWA_q1d_gender,\n",
        "    AWA_q1d_0301,\n",
        "    \"annotatorGender\",\n",
        "    \"man\",\n",
        "    \"predicted_q1d_ratings_a_man/male_in_the_United_States\",\n",
        "    \"gpt-3.5-turbo-\\\"0301\\\"\",\n",
        "    \"\\\"alpha\\\"[ia]\"\n",
        ")\n",
        "print(alpha_ia_man_0301)"
      ],
      "metadata": {
        "id": "9UUoRdjNzQYp"
      },
      "execution_count": null,
      "outputs": []
    },
    {
      "cell_type": "code",
      "source": [
        "# Import data between languages. via\n",
        "# https://www.askpython.com/python/examples/\n",
        "# use-r-and-python-in-the-same-notebook\n",
        "%%R -i AWA_q1d_gender -i AWA_q1d_0613\n",
        "alpha_ia_man_0613 <- compute_alpha_ia(\n",
        "    AWA_q1d_gender,\n",
        "    AWA_q1d_0613,\n",
        "    \"annotatorGender\",\n",
        "    \"man\",\n",
        "    \"predicted_q1d_ratings_a_man/male_in_the_United_States\",\n",
        "    \"gpt-3.5-turbo-\\\"0613\\\"\",\n",
        "    \"\\\"alpha\\\"[ia]\"\n",
        ")\n",
        "print(alpha_ia_man_0613)"
      ],
      "metadata": {
        "id": "8C4qNzUtzgf4"
      },
      "execution_count": null,
      "outputs": []
    },
    {
      "cell_type": "code",
      "source": [
        "# Import data between languages. via\n",
        "# https://www.askpython.com/python/examples/\n",
        "# use-r-and-python-in-the-same-notebook\n",
        "%%R -i AWA_q1d_gender -i AWA_q1d_0301\n",
        "alpha_ia_woman_0301 <- compute_alpha_ia(\n",
        "    AWA_q1d_gender,\n",
        "    AWA_q1d_0301,\n",
        "    \"annotatorGender\",\n",
        "    \"woman\",\n",
        "    \"predicted_q1d_ratings_a_woman/female_in_the_United_States\",\n",
        "    \"gpt-3.5-turbo-\\\"0301\\\"\",\n",
        "    \"\\\"alpha\\\"[ia]\"\n",
        ")\n",
        "print(alpha_ia_woman_0301)"
      ],
      "metadata": {
        "id": "7wHhyAaT1zfl"
      },
      "execution_count": null,
      "outputs": []
    },
    {
      "cell_type": "code",
      "source": [
        "# Import data between languages. via\n",
        "# https://www.askpython.com/python/examples/\n",
        "# use-r-and-python-in-the-same-notebook\n",
        "%%R -i AWA_q1d_gender -i AWA_q1d_0613\n",
        "alpha_ia_woman_0613 <- compute_alpha_ia(\n",
        "    AWA_q1d_gender,\n",
        "    AWA_q1d_0613,\n",
        "    \"annotatorGender\",\n",
        "    \"woman\",\n",
        "    \"predicted_q1d_ratings_a_woman/female_in_the_United_States\",\n",
        "    \"gpt-3.5-turbo-\\\"0613\\\"\",\n",
        "    \"\\\"alpha\\\"[ia]\"\n",
        ")\n",
        "print(alpha_ia_woman_0613)"
      ],
      "metadata": {
        "id": "IolTMf9214NX"
      },
      "execution_count": null,
      "outputs": []
    },
    {
      "cell_type": "code",
      "source": [
        "# Import data between languages. via\n",
        "# https://www.askpython.com/python/examples/\n",
        "# use-r-and-python-in-the-same-notebook\n",
        "%%R -i AWA_q1d_gender -i AWA_q1d_0301\n",
        "alpha_ia_nonbinary_0301 <- compute_alpha_ia(\n",
        "    AWA_q1d_gender,\n",
        "    AWA_q1d_0301,\n",
        "    \"annotatorGender\",\n",
        "    \"nonBinary\",\n",
        "    \"predicted_q1d_ratings_a_non-binary_person_in_the_United_States\",\n",
        "    \"gpt-3.5-turbo-\\\"0301\\\"\",\n",
        "    \"\\\"alpha\\\"[ia]\"\n",
        ")\n",
        "print(alpha_ia_nonbinary_0301)"
      ],
      "metadata": {
        "id": "cVdZs9Qm2Srm"
      },
      "execution_count": null,
      "outputs": []
    },
    {
      "cell_type": "code",
      "source": [
        "# Import data between languages. via\n",
        "# https://www.askpython.com/python/examples/\n",
        "# use-r-and-python-in-the-same-notebook\n",
        "%%R -i AWA_q1d_gender -i AWA_q1d_0613\n",
        "alpha_ia_nonbinary_0613 <- compute_alpha_ia(\n",
        "    AWA_q1d_gender,\n",
        "    AWA_q1d_0613,\n",
        "    \"annotatorGender\",\n",
        "    \"nonBinary\",\n",
        "    \"predicted_q1d_ratings_a_non-binary_person_in_the_United_States\",\n",
        "    \"gpt-3.5-turbo-\\\"0613\\\"\",\n",
        "    \"\\\"alpha\\\"[ia]\"\n",
        ")\n",
        "print(alpha_ia_nonbinary_0613)"
      ],
      "metadata": {
        "id": "TSuYXjfv3bAh"
      },
      "execution_count": null,
      "outputs": []
    },
    {
      "cell_type": "code",
      "source": [
        "# Import data between languages. via\n",
        "# https://www.askpython.com/python/examples/\n",
        "# use-r-and-python-in-the-same-notebook\n",
        "%%R -i AWA_q1d_race -i AWA_q1d_0301\n",
        "alpha_ia_white_0301 <- compute_alpha_ia(\n",
        "    AWA_q1d_race,\n",
        "    AWA_q1d_0301,\n",
        "    \"annotatorRace\",\n",
        "    \"white\",\n",
        "    \"predicted_q1d_ratings_a_White/Caucasian_person_in_the_United_States\",\n",
        "    \"gpt-3.5-turbo-\\\"0301\\\"\",\n",
        "    \"\\\"alpha\\\"[ia]\"\n",
        ")\n",
        "print(alpha_ia_white_0301)"
      ],
      "metadata": {
        "id": "8ZOorknH46rU"
      },
      "execution_count": null,
      "outputs": []
    },
    {
      "cell_type": "code",
      "source": [
        "# Import data between languages. via\n",
        "# https://www.askpython.com/python/examples/\n",
        "# use-r-and-python-in-the-same-notebook\n",
        "%%R -i AWA_q1d_race -i AWA_q1d_0613\n",
        "alpha_ia_white_0613 <- compute_alpha_ia(\n",
        "    AWA_q1d_race,\n",
        "    AWA_q1d_0613,\n",
        "    \"annotatorRace\",\n",
        "    \"white\",\n",
        "    \"predicted_q1d_ratings_a_White/Caucasian_person_in_the_United_States\",\n",
        "    \"gpt-3.5-turbo-\\\"0613\\\"\",\n",
        "    \"\\\"alpha\\\"[ia]\"\n",
        ")\n",
        "print(alpha_ia_white_0613)"
      ],
      "metadata": {
        "id": "dWVsljVe6rVf"
      },
      "execution_count": null,
      "outputs": []
    },
    {
      "cell_type": "code",
      "source": [
        "# Import data between languages. via\n",
        "# https://www.askpython.com/python/examples/\n",
        "# use-r-and-python-in-the-same-notebook\n",
        "%%R -i AWA_q1d_race -i AWA_q1d_0301\n",
        "alpha_ia_black_0301 <- compute_alpha_ia(\n",
        "    AWA_q1d_race,\n",
        "    AWA_q1d_0301,\n",
        "    \"annotatorRace\",\n",
        "    \"black\",\n",
        "    \"predicted_q1d_ratings_a_Black/African_American_in_the_United_States\",\n",
        "    \"gpt-3.5-turbo-\\\"0301\\\"\",\n",
        "    \"\\\"alpha\\\"[ia]\"\n",
        ")\n",
        "print(alpha_ia_black_0301)"
      ],
      "metadata": {
        "id": "7u3sm0k48DHy"
      },
      "execution_count": null,
      "outputs": []
    },
    {
      "cell_type": "code",
      "source": [
        "# Import data between languages. via\n",
        "# https://www.askpython.com/python/examples/\n",
        "# use-r-and-python-in-the-same-notebook\n",
        "%%R -i AWA_q1d_race -i AWA_q1d_0613\n",
        "alpha_ia_black_0613 <- compute_alpha_ia(\n",
        "    AWA_q1d_race,\n",
        "    AWA_q1d_0613,\n",
        "    \"annotatorRace\",\n",
        "    \"black\",\n",
        "    \"predicted_q1d_ratings_a_Black/African_American_in_the_United_States\",\n",
        "    \"gpt-3.5-turbo-\\\"0613\\\"\",\n",
        "    \"\\\"alpha\\\"[ia]\"\n",
        ")\n",
        "print(alpha_ia_black_0613)"
      ],
      "metadata": {
        "id": "y-lIC7DW8_q8"
      },
      "execution_count": null,
      "outputs": []
    },
    {
      "cell_type": "code",
      "source": [
        "# Import data between languages. via\n",
        "# https://www.askpython.com/python/examples/\n",
        "# use-r-and-python-in-the-same-notebook\n",
        "%%R -i AWA_q1d_race -i AWA_q1d_0301\n",
        "alpha_ia_hisp_0301 <- compute_alpha_ia(\n",
        "    AWA_q1d_race,\n",
        "    AWA_q1d_0301,\n",
        "    \"annotatorRace\",\n",
        "    \"hisp\",\n",
        "    \"predicted_q1d_ratings_a_Hispanic/Latinx_person_in_the_United_States\",\n",
        "    \"gpt-3.5-turbo-\\\"0301\\\"\",\n",
        "    \"\\\"alpha\\\"[ia]\"\n",
        ")\n",
        "print(alpha_ia_hisp_0301)"
      ],
      "metadata": {
        "id": "wgX2Uu5i6lVo"
      },
      "execution_count": null,
      "outputs": []
    },
    {
      "cell_type": "code",
      "source": [
        "# Import data between languages. via\n",
        "# https://www.askpython.com/python/examples/\n",
        "# use-r-and-python-in-the-same-notebook\n",
        "%%R -i AWA_q1d_race -i AWA_q1d_0613\n",
        "alpha_ia_hisp_0613 <- compute_alpha_ia(\n",
        "    AWA_q1d_race,\n",
        "    AWA_q1d_0613,\n",
        "    \"annotatorRace\",\n",
        "    \"hisp\",\n",
        "    \"predicted_q1d_ratings_a_Hispanic/Latinx_person_in_the_United_States\",\n",
        "    \"gpt-3.5-turbo-\\\"0613\\\"\",\n",
        "    \"\\\"alpha\\\"[ia]\"\n",
        ")\n",
        "print(alpha_ia_hisp_0613)"
      ],
      "metadata": {
        "id": "WplkuNVA9C4z"
      },
      "execution_count": null,
      "outputs": []
    },
    {
      "cell_type": "markdown",
      "source": [
        "# Define a function to compute and interpret Krippendorff\"s alpha coefficients between the personas and the no-persona defaults"
      ],
      "metadata": {
        "id": "PH_xjvxC_XcR"
      }
    },
    {
      "cell_type": "code",
      "source": [
        "%%R\n",
        "compute_alpha_ib <- function(df, reference, model, measure) {\n",
        "    alpha_list <- c()\n",
        "    for (i in seq_along(colnames(df))) {\n",
        "        print(colnames(df)[i])\n",
        "        # Retrieve and interpret Krippendorff\"s alpha values. via\n",
        "        # https://cran.r-project.org/web/packages/irrCAC/vignettes/\n",
        "        # benchmarking.html\n",
        "        df_temp <- df[, c(reference, colnames(df)[i])]\n",
        "        df_temp <- as.matrix(sapply(df_temp, as.numeric))\n",
        "        a <- krippen.alpha.raw(df_temp,\n",
        "            weights = \"linear\",\n",
        "            c(1, 2, 3, 4, 5)\n",
        "        )\n",
        "        print(a$est)\n",
        "        print(a$categories)\n",
        "        print(landis.koch.bf(a$est$coeff.val, a$est$coeff.se))\n",
        "        if (i != 14) {\n",
        "            alpha_list <- c(alpha_list, a$est$coeff.val)\n",
        "        }\n",
        "    }\n",
        "    res <- data.frame(\n",
        "        alpha = alpha_list,\n",
        "        persona = colnames(df[, -14]),\n",
        "        model = rep(model, length(alpha)),\n",
        "        measure = rep(measure, length(alpha))\n",
        "    )\n",
        "    return(res)\n",
        "}"
      ],
      "metadata": {
        "id": "cG-AX80S_YLp"
      },
      "execution_count": null,
      "outputs": []
    },
    {
      "cell_type": "markdown",
      "source": [
        "# Call the `compute_alpha_ib` function to compute and interpret Krippendorff's alpha coefficients between the personas and the no-persona defaults"
      ],
      "metadata": {
        "id": "jNJutefO_1uK"
      }
    },
    {
      "cell_type": "code",
      "execution_count": null,
      "metadata": {
        "id": "9wPqBoRacFhf"
      },
      "outputs": [],
      "source": [
        "# Import data between languages. via\n",
        "# https://www.askpython.com/python/examples/\n",
        "# use-r-and-python-in-the-same-notebook\n",
        "%%R -i AWA_q1d_0301\n",
        "alpha_ib_0301 <- compute_alpha_ib(AWA_q1d_0301[, 2:21], \"predicted_q1d_ratings_base\", \"gpt-3.5-turbo-\\\"0301\\\"\", \"\\\"alpha\\\"[ib]\")\n",
        "print(alpha_ib_0301)"
      ]
    },
    {
      "cell_type": "code",
      "source": [
        "# Import data between languages. via\n",
        "# https://www.askpython.com/python/examples/\n",
        "# use-r-and-python-in-the-same-notebook\n",
        "%%R -i AWA_q1d_0613\n",
        "alpha_ib_0613 <- compute_alpha_ib(AWA_q1d_0613[, 2:21], \"predicted_q1d_ratings_base\", \"gpt-3.5-turbo-\\\"0613\\\"\", \"\\\"alpha\\\"[ib]\")\n",
        "print(alpha_ib_0613)"
      ],
      "metadata": {
        "id": "cLZ4t5Vajqpq"
      },
      "execution_count": null,
      "outputs": []
    },
    {
      "cell_type": "markdown",
      "source": [
        "# Plot Krippendorff's alpha coefficients and Bias"
      ],
      "metadata": {
        "id": "jA9N90tzmN6v"
      }
    },
    {
      "cell_type": "code",
      "source": [
        "%%R\n",
        "showtext_auto()\n",
        "data <- rbind(\n",
        "    alpha_ib_0301,\n",
        "    alpha_ib_0613,\n",
        "    alpha_ia_18_0301,\n",
        "    alpha_ia_18_0613,\n",
        "    alpha_ia_25_0301,\n",
        "    alpha_ia_25_0613,\n",
        "    alpha_ia_30_0301,\n",
        "    alpha_ia_30_0613,\n",
        "    alpha_ia_35_0301,\n",
        "    alpha_ia_35_0613,\n",
        "    alpha_ia_40_0301,\n",
        "    alpha_ia_40_0613,\n",
        "    alpha_ia_45_0301,\n",
        "    alpha_ia_45_0613,\n",
        "    alpha_ia_50_0301,\n",
        "    alpha_ia_50_0613,\n",
        "    alpha_ia_55_0301,\n",
        "    alpha_ia_55_0613,\n",
        "    alpha_ia_60_0301,\n",
        "    alpha_ia_60_0613,\n",
        "    alpha_ia_65_0301,\n",
        "    alpha_ia_65_0613,\n",
        "    alpha_ia_man_0301,\n",
        "    alpha_ia_man_0613,\n",
        "    alpha_ia_woman_0301,\n",
        "    alpha_ia_woman_0613,\n",
        "    alpha_ia_nonbinary_0301,\n",
        "    alpha_ia_nonbinary_0613,\n",
        "    alpha_ia_white_0301,\n",
        "    alpha_ia_white_0613,\n",
        "    alpha_ia_black_0301,\n",
        "    alpha_ia_black_0613,\n",
        "    alpha_ia_hisp_0301,\n",
        "    alpha_ia_hisp_0613\n",
        ")\n",
        "# Replace spaces with underscores. via\n",
        "# https://stackoverflow.com/a/53107084\n",
        "data$persona <- gsub(\"_\", \" \", data$persona)\n",
        "# Remove first few words. via\n",
        "# https://stackoverflow.com/a/64889117\n",
        "data$persona <- sub(\"^\\\\w+\\\\s\\\\w+\\\\s\\\\w+\\\\s\\\\w+\\\\s\", \"\", data$persona)\n",
        "# Remove everything after specified substring. via\n",
        "# https://stackoverflow.com/a/53503384\n",
        "data$persona <- sub(\"in the.+$\", \"\", data$persona)\n",
        "data$persona <- Map(paste, data$persona, \"...\")\n",
        "# Compute bias\n",
        "data$bias <- c(\n",
        "    rep(Gini_RSV(alpha_ib_0301$alpha[1:10])[[1]], 10),\n",
        "    rep(Gini_RSV(alpha_ib_0301$alpha[11:13])[[1]], 3),\n",
        "    rep(Gini_RSV(alpha_ib_0301$alpha[14:19])[[1]], 6),\n",
        "    rep(Gini_RSV(alpha_ib_0613$alpha[1:10])[[1]], 10),\n",
        "    rep(Gini_RSV(alpha_ib_0613$alpha[11:13])[[1]], 3),\n",
        "    rep(Gini_RSV(alpha_ib_0613$alpha[14:19])[[1]], 6),\n",
        "    rep(0, 32)\n",
        ")\n",
        "data$labs <- c(\n",
        "    rep(format(round(Gini_RSV(alpha_ib_0301$alpha[1:10])[[1]], digits = 3),\n",
        "        nsmall = 3\n",
        "    ), 10),\n",
        "    rep(format(round(Gini_RSV(alpha_ib_0301$alpha[11:13])[[1]], digits = 3),\n",
        "        nsmall = 3\n",
        "    ), 3),\n",
        "    rep(format(round(Gini_RSV(alpha_ib_0301$alpha[14:19])[[1]], digits = 3),\n",
        "        nsmall = 3\n",
        "    ), 6),\n",
        "    rep(format(round(Gini_RSV(alpha_ib_0613$alpha[1:10])[[1]], digits = 3),\n",
        "        nsmall = 3\n",
        "    ), 10),\n",
        "    rep(format(round(Gini_RSV(alpha_ib_0613$alpha[11:13])[[1]], digits = 3),\n",
        "        nsmall = 3\n",
        "    ), 3),\n",
        "    rep(format(round(Gini_RSV(alpha_ib_0613$alpha[14:19])[[1]], digits = 3),\n",
        "        nsmall = 3\n",
        "    ), 6),\n",
        "    rep(\"NA\", 32)\n",
        ")\n",
        "data$attribute <- c(\n",
        "    rep(\"Age~range\", 10),\n",
        "    rep(\"Gender~identity\", 3),\n",
        "    rep(\"Race/Ethnicity\", 6),\n",
        "    rep(\"Age~range\", 10),\n",
        "    rep(\"Gender~identity\", 3),\n",
        "    rep(\"Race/Ethnicity\", 6),\n",
        "    rep(\"Age~range\", 20),\n",
        "    rep(\"Gender~identity\", 6),\n",
        "    rep(\"Race/Ethnicity\", 6)\n",
        ")\n",
        "data$grp <- c(rep(1, 70))\n",
        "# Dot plots. via\n",
        "# https://uc-r.github.io/cleveland-dot-plots\n",
        "g1 <- ggplot(\n",
        "    data,\n",
        "    aes(alpha, grp)\n",
        ") +\n",
        "    geom_line(aes(group = grp),\n",
        "        size = 0.05\n",
        "    ) +\n",
        "    geom_point(size = 0.1) +\n",
        "    # Label max value dots. via\n",
        "    # https://stackoverflow.com/a/48351513\n",
        "    geom_text(\n",
        "        data = . %>% group_by(measure, attribute, model) %>%\n",
        "            filter(alpha == max(alpha)),\n",
        "        # Wrap and truncate text. via\n",
        "        # https://stackoverflow.com/a/73357493\n",
        "        aes(label = str_wrap(persona, width = 22)),\n",
        "        hjust = 0,\n",
        "        family = \"Arial\",\n",
        "        size = 7 / .pt,\n",
        "        nudge_x = 0.01,\n",
        "        lineheight = 1\n",
        "    ) +\n",
        "    scale_x_continuous(\n",
        "        breaks = c(-.25, 0, .25, .5, .75, 1),\n",
        "        limits = c(-.25, 1)\n",
        "    ) +\n",
        "    xlab(\"Krippendorff's alpha coefficient\") +\n",
        "    facet_nested(\n",
        "        rows = vars(measure, attribute, model),\n",
        "        switch = \"y\",\n",
        "        labeller = label_parsed,\n",
        "        strip = strip_nested(size = \"variable\")\n",
        "    ) +\n",
        "    theme(\n",
        "        axis.text.y = element_blank(),\n",
        "        axis.title.y = element_blank(),\n",
        "        axis.ticks.y = element_blank(),\n",
        "        axis.ticks = element_line(size = 0.1),\n",
        "        axis.text = element_text(\n",
        "            family = \"Arial\",\n",
        "            size = 7\n",
        "        ),\n",
        "        strip.text.y.left = element_text(\n",
        "            angle = 0,\n",
        "            family = \"Arial\",\n",
        "            size = 7\n",
        "        ),\n",
        "        strip.background = element_rect(\n",
        "            colour = \"white\",\n",
        "            fill = \"#ECECEC\"\n",
        "        ),\n",
        "        panel.grid = element_line(\n",
        "            color = \"black\",\n",
        "            size = 0.1,\n",
        "            linetype = 2\n",
        "        ),\n",
        "        panel.grid.major.y = element_blank(),\n",
        "        panel.grid.minor.y = element_blank(),\n",
        "        panel.grid.minor.x = element_blank(),\n",
        "        panel.spacing.y = unit(0, \"lines\"),\n",
        "        panel.background = element_rect(\n",
        "            color = \"black\",\n",
        "            fill = \"white\",\n",
        "            linewidth = 0.1\n",
        "        ),\n",
        "        text = element_text(\n",
        "            family = \"Arial\",\n",
        "            size = 7\n",
        "        )\n",
        "    )\n",
        "data$alpha <- NULL\n",
        "data$persona <- NULL\n",
        "data <- data[!duplicated(data), ]\n",
        "g2 <- ggplot(\n",
        "    data,\n",
        "    aes(grp, bias)\n",
        ") +\n",
        "    geom_text(aes(label = labs),\n",
        "        hjust = -0.2,\n",
        "        family = \"Arial\",\n",
        "        size = 7 / .pt\n",
        "    ) +\n",
        "    coord_flip() +\n",
        "    ylab(\"Bias\") +\n",
        "    scale_y_continuous(\n",
        "        breaks = c(0.00, 1.00),\n",
        "        limits = c(0, 1)\n",
        "    ) +\n",
        "    geom_bar(\n",
        "        stat = \"identity\",\n",
        "        fill = \"black\"\n",
        "    ) +\n",
        "    facet_nested(\n",
        "        rows = vars(measure, attribute, model),\n",
        "        labeller = label_parsed\n",
        "    ) +\n",
        "    theme(\n",
        "        axis.text.y = element_blank(),\n",
        "        axis.title.y = element_blank(),\n",
        "        axis.ticks.y = element_blank(),\n",
        "        axis.ticks = element_line(size = 0.1),\n",
        "        axis.text = element_text(\n",
        "            family = \"Arial\",\n",
        "            size = 7\n",
        "        ),\n",
        "        strip.text = element_blank(),\n",
        "        strip.background = element_blank(),\n",
        "        panel.grid = element_line(\n",
        "            color = \"black\",\n",
        "            size = 0.1,\n",
        "            linetype = 2\n",
        "        ),\n",
        "        panel.grid.major.y = element_blank(),\n",
        "        panel.grid.minor.y = element_blank(),\n",
        "        panel.grid.minor.x = element_blank(),\n",
        "        panel.spacing.y = unit(0, \"lines\"),\n",
        "        panel.background = element_rect(\n",
        "            color = \"black\",\n",
        "            fill = \"white\",\n",
        "            linewidth = 0.1\n",
        "        ),\n",
        "        text = element_text(\n",
        "            family = \"Arial\",\n",
        "            size = 7\n",
        "        )\n",
        "    )\n",
        "g1 + g2 + plot_layout(widths = c(5, 1))\n",
        "ggsave(\n",
        "    \"/content/drive/MyDrive/datasets/cleaning/AWA_q1d.eps\",\n",
        "    height = 12,\n",
        "    width = 18,\n",
        "    units = \"cm\"\n",
        ")"
      ],
      "metadata": {
        "id": "tIUEN541xPpF"
      },
      "execution_count": null,
      "outputs": []
    }
  ],
  "metadata": {
    "colab": {
      "provenance": []
    },
    "kernelspec": {
      "display_name": "Python 3",
      "name": "python3"
    },
    "language_info": {
      "name": "python"
    }
  },
  "nbformat": 4,
  "nbformat_minor": 0
}