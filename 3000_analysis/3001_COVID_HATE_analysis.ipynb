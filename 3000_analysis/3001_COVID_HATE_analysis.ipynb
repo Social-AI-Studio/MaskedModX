{
  "cells": [
    {
      "cell_type": "markdown",
      "metadata": {
        "id": "2mgTQ5fMteAM"
      },
      "source": [
        "# Mount drive"
      ]
    },
    {
      "cell_type": "code",
      "execution_count": null,
      "metadata": {
        "id": "vjxwlPnNtjcL"
      },
      "outputs": [],
      "source": [
        "from google.colab import drive\n",
        "drive.mount('/content/drive')"
      ]
    },
    {
      "cell_type": "markdown",
      "metadata": {
        "id": "UOlE7aV3po-U"
      },
      "source": [
        "# Import libraries"
      ]
    },
    {
      "cell_type": "code",
      "execution_count": null,
      "metadata": {
        "id": "2JhfS0tSqKBj"
      },
      "outputs": [],
      "source": [
        "!pip install krippendorff"
      ]
    },
    {
      "cell_type": "code",
      "execution_count": 2,
      "metadata": {
        "id": "MdDzE809cvfZ"
      },
      "outputs": [],
      "source": [
        "import krippendorff\n",
        "import numpy as np\n",
        "import pandas as pd\n",
        "# Prevent AttributeError. via\n",
        "# https://stackoverflow.com/a/76404841\n",
        "pd.DataFrame.iteritems = pd.DataFrame.items\n",
        "from sklearn.metrics import f1_score"
      ]
    },
    {
      "cell_type": "code",
      "execution_count": 3,
      "metadata": {
        "id": "lE5S2M-394YJ"
      },
      "outputs": [],
      "source": [
        "%load_ext rpy2.ipython"
      ]
    },
    {
      "cell_type": "code",
      "execution_count": null,
      "metadata": {
        "id": "RRSZu_bS3gSY"
      },
      "outputs": [],
      "source": [
        "%%R\n",
        "install.packages(\"dplyr\")\n",
        "install.packages(\"ggh4x\")\n",
        "devtools::install_github(\"hadley/ggplot2\")\n",
        "devtools::install_github(\"cran/GiniWegNeg\")\n",
        "devtools::install_github(\"kgwet/irrCAC\")\n",
        "install.packages(\"patchwork\")\n",
        "install.packages(\"showtext\")\n",
        "install.packages(\"stringr\")\n",
        "library(dplyr)\n",
        "library(ggh4x)\n",
        "library(ggplot2)\n",
        "library(GiniWegNeg)\n",
        "library(irrCAC)\n",
        "library(patchwork)\n",
        "library(showtext)\n",
        "# Need to download Arial.ttf and upload it to your Google Drive prior.\n",
        "font_add(\"Arial\", regular = \"/content/drive/MyDrive/Arial.ttf\")\n",
        "library(stringr)"
      ]
    },
    {
      "cell_type": "markdown",
      "metadata": {
        "id": "a_jaYJJntkH7"
      },
      "source": [
        "# Import datasets"
      ]
    },
    {
      "cell_type": "code",
      "execution_count": 5,
      "metadata": {
        "id": "YEg_ED1g_AzZ"
      },
      "outputs": [],
      "source": [
        "COVID_HATE_0301 = pd.read_csv(\n",
        "    '/content/drive/MyDrive/datasets/cleaning/'\n",
        "    'COVID-HATE_predictions_cleaned_gpt-3.5-turbo-0301.tsv',\n",
        "    sep='\\t')\n",
        "COVID_HATE_0301 = COVID_HATE_0301.reset_index(drop=True)\n",
        "COVID_HATE_0301 = COVID_HATE_0301.astype('string')\n",
        "COVID_HATE_0613 = pd.read_csv(\n",
        "    '/content/drive/MyDrive/datasets/cleaning/'\n",
        "    'COVID-HATE_predictions_cleaned_gpt-3.5-turbo-0613.tsv',\n",
        "    sep='\\t')\n",
        "COVID_HATE_0613 = COVID_HATE_0613.reset_index(drop=True)\n",
        "COVID_HATE_0613 = COVID_HATE_0613.astype('string')"
      ]
    },
    {
      "cell_type": "markdown",
      "metadata": {
        "id": "XqX--cCk4qH0"
      },
      "source": [
        "# Compute macro F1-scores"
      ]
    },
    {
      "cell_type": "code",
      "execution_count": null,
      "metadata": {
        "id": "EL-YYd1AGRt3"
      },
      "outputs": [],
      "source": [
        "def compute_F1(df):\n",
        "    for i in df.iloc[:, 3:].columns:\n",
        "        print(i)\n",
        "        print(np.round(f1_score(df['label'],\n",
        "                                df[i],\n",
        "                                average='macro'),\n",
        "                       3))\n",
        "\n",
        "\n",
        "compute_F1(COVID_HATE_0301)\n",
        "print()\n",
        "compute_F1(COVID_HATE_0613)"
      ]
    },
    {
      "cell_type": "markdown",
      "metadata": {
        "id": "esq2Iywe4tM7"
      },
      "source": [
        "# Define a function to compute and interpret Krippendorff's alpha coefficients"
      ]
    },
    {
      "cell_type": "code",
      "execution_count": 7,
      "metadata": {
        "id": "T07rkzs73k_M"
      },
      "outputs": [],
      "source": [
        "%%R\n",
        "compute_alpha <- function(df, reference, model, measure) {\n",
        "    alpha_list <- c()\n",
        "    for (i in seq_along(colnames(df))) {\n",
        "        print(colnames(df)[i])\n",
        "        # Retrieve and interpret Krippendorff's alpha values. via\n",
        "        # https://cran.r-project.org/web/packages/irrCAC/vignettes/\n",
        "        # benchmarking.html\n",
        "        a <- krippen.alpha.raw(df[, c(reference, colnames(df)[i])])\n",
        "        print(a$est)\n",
        "        print(a$categories)\n",
        "        print(landis.koch.bf(a$est$coeff.val, a$est$coeff.se))\n",
        "        if (i > 1) {\n",
        "            alpha_list[(i - 1)] <- a$est$coeff.val\n",
        "        }\n",
        "    }\n",
        "    res <- data.frame(\n",
        "        alpha = alpha_list,\n",
        "        persona = colnames(df[, -1]),\n",
        "        model = rep(model, length(alpha)),\n",
        "        measure = rep(measure, length(alpha))\n",
        "    )\n",
        "    return(res)\n",
        "}"
      ]
    },
    {
      "cell_type": "markdown",
      "metadata": {
        "id": "wYQkxjHY_oOm"
      },
      "source": [
        "# Call the `compute_alpha` function to compute and interpret Krippendorff's alpha coefficients between the personas and the no-persona defaults"
      ]
    },
    {
      "cell_type": "code",
      "execution_count": null,
      "metadata": {
        "id": "GJWbhqjZ3zrD"
      },
      "outputs": [],
      "source": [
        "# Import data between languages. via\n",
        "# https://www.askpython.com/python/examples/\n",
        "# use-r-and-python-in-the-same-notebook\n",
        "%%R -i COVID_HATE_0301\n",
        "alpha_ib_0301 <- compute_alpha(COVID_HATE_0301[, 4:13], \"predicted_labels_base\", \"gpt-3.5-turbo-\\\"0301\\\"\", \"\\\"alpha\\\"[ib]\")\n",
        "print(alpha_ib_0301)"
      ]
    },
    {
      "cell_type": "code",
      "execution_count": null,
      "metadata": {
        "id": "Dh_s6rwW5g6X"
      },
      "outputs": [],
      "source": [
        "# Import data between languages. via\n",
        "# https://www.askpython.com/python/examples/\n",
        "# use-r-and-python-in-the-same-notebook\n",
        "%%R -i COVID_HATE_0613\n",
        "alpha_ib_0613 <- compute_alpha(COVID_HATE_0613[, 4:13], \"predicted_labels_base\", \"gpt-3.5-turbo-\\\"0613\\\"\", \"\\\"alpha\\\"[ib]\")\n",
        "print(alpha_ib_0613)"
      ]
    },
    {
      "cell_type": "markdown",
      "metadata": {
        "id": "tqxEimnW83lY"
      },
      "source": [
        "# Call the `compute_alpha` function to compute and interpret Krippendorff's alpha coefficients between personas and actual annotators"
      ]
    },
    {
      "cell_type": "code",
      "execution_count": null,
      "metadata": {
        "id": "p9XKDszL9BTA"
      },
      "outputs": [],
      "source": [
        "# Import data between languages. via\n",
        "# https://www.askpython.com/python/examples/\n",
        "# use-r-and-python-in-the-same-notebook\n",
        "%%R -i COVID_HATE_0301\n",
        "alpha_ia_0301 <- compute_alpha(COVID_HATE_0301[, c(3, 12:13)], \"label\", \"gpt-3.5-turbo-\\\"0301\\\"\", \"\\\"alpha\\\"[ia]\")\n",
        "print(alpha_ia_0301)"
      ]
    },
    {
      "cell_type": "code",
      "execution_count": null,
      "metadata": {
        "id": "khC-RYqD9JOQ"
      },
      "outputs": [],
      "source": [
        "# Import data between languages. via\n",
        "# https://www.askpython.com/python/examples/\n",
        "# use-r-and-python-in-the-same-notebook\n",
        "%%R -i COVID_HATE_0613\n",
        "alpha_ia_0613 <- compute_alpha(COVID_HATE_0613[, c(3, 12:13)], \"label\", \"gpt-3.5-turbo-\\\"0613\\\"\", \"\\\"alpha\\\"[ia]\")\n",
        "print(alpha_ia_0613)"
      ]
    },
    {
      "cell_type": "markdown",
      "source": [
        "# Plot Krippendorff's alpha coefficients and Bias"
      ],
      "metadata": {
        "id": "hTQvKxz05bKJ"
      }
    },
    {
      "cell_type": "code",
      "source": [
        "%%R\n",
        "showtext_auto()\n",
        "data <- rbind(alpha_ib_0301, alpha_ib_0613, alpha_ia_0301, alpha_ia_0613)\n",
        "# Replace spaces with underscores. via\n",
        "# https://stackoverflow.com/a/53107084\n",
        "data$persona <- gsub(\"_\", \" \", data$persona)\n",
        "# Remove first few words. via\n",
        "# https://stackoverflow.com/a/64889117\n",
        "data$persona <- sub(\"^\\\\w+\\\\s\\\\w+\\\\s\\\\w+\\\\s\", \"\", data$persona)\n",
        "# Remove everything after specified substring. via\n",
        "# https://stackoverflow.com/a/53503384\n",
        "data$persona <- sub(\"in the.+$\", \"\", data$persona)\n",
        "# Truncate character strings after certain number of characters. via\n",
        "# https://stackoverflow.com/a/46759426\n",
        "data$persona <- ifelse(nchar(data$persona) > 18,\n",
        "    paste0(substring(data$persona, 1, 16), \" ...\"),\n",
        "    data$persona\n",
        ")\n",
        "# Compute bias\n",
        "data$bias <- c(\n",
        "    rep(Gini_RSV(alpha_ib_0301$alpha[1:7])[[1]], 7),\n",
        "    rep(Gini_RSV(alpha_ib_0301$alpha[8:9])[[1]], 2),\n",
        "    rep(Gini_RSV(alpha_ib_0613$alpha[1:7])[[1]], 7),\n",
        "    rep(Gini_RSV(alpha_ib_0613$alpha[8:9])[[1]], 2),\n",
        "    rep(0, 4)\n",
        ")\n",
        "data$labs <- c(\n",
        "    rep(format(round(Gini_RSV(alpha_ib_0301$alpha[1:7])[[1]], digits = 3),\n",
        "        nsmall = 3\n",
        "    ), 7),\n",
        "    rep(format(round(Gini_RSV(alpha_ib_0301$alpha[8:9])[[1]], digits = 3),\n",
        "        nsmall = 3\n",
        "    ), 2),\n",
        "    rep(format(round(Gini_RSV(alpha_ib_0613$alpha[1:7])[[1]], digits = 3),\n",
        "        nsmall = 3\n",
        "    ), 7),\n",
        "    rep(format(round(Gini_RSV(alpha_ib_0613$alpha[8:9])[[1]], digits = 3),\n",
        "        nsmall = 3\n",
        "    ), 2),\n",
        "    rep(\"NA\", 4)\n",
        ")\n",
        "data$attribute <- c(\n",
        "    rep(\"Race/Nationality\", 7),\n",
        "    rep(\"Annotator~demographic\", 2),\n",
        "    rep(\"Race/Nationality\", 7),\n",
        "    rep(\"Annotator~demographic\", 6)\n",
        ")\n",
        "data$grp <- c(rep(1, 22))\n",
        "# Dot plots. via\n",
        "# https://uc-r.github.io/cleveland-dot-plots\n",
        "g1 <- ggplot(\n",
        "    data,\n",
        "    aes(alpha, grp)\n",
        ") +\n",
        "    geom_line(aes(group = grp),\n",
        "        size = 0.05\n",
        "    ) +\n",
        "    geom_point(size = 0.1) +\n",
        "    # Label max value dots. via\n",
        "    # https://stackoverflow.com/a/48351513\n",
        "    geom_text(\n",
        "        data = . %>% group_by(measure, attribute, model) %>%\n",
        "            filter(alpha == max(alpha)),\n",
        "        # Wrap and truncate text. via\n",
        "        # https://stackoverflow.com/a/73357493\n",
        "        aes(label = str_wrap(persona,\n",
        "            width = 8\n",
        "        )),\n",
        "        hjust = 0,\n",
        "        family = \"Arial\",\n",
        "        size = 7 / .pt,\n",
        "        nudge_x = 0.01,\n",
        "        lineheight = 1\n",
        "    ) +\n",
        "    xlim(0, 1) +\n",
        "    xlab(\"Krippendorff's alpha coefficient\") +\n",
        "    facet_nested(\n",
        "        rows = vars(measure, attribute, model),\n",
        "        switch = \"y\",\n",
        "        labeller = label_parsed,\n",
        "        strip = strip_nested(size = \"variable\")\n",
        "    ) +\n",
        "    theme(\n",
        "        axis.text.y = element_blank(),\n",
        "        axis.title.y = element_blank(),\n",
        "        axis.ticks.y = element_blank(),\n",
        "        axis.ticks = element_line(size = 0.1),\n",
        "        axis.text = element_text(\n",
        "            family = \"Arial\",\n",
        "            size = 7\n",
        "        ),\n",
        "        strip.text.y.left = element_text(\n",
        "            angle = 0,\n",
        "            family = \"Arial\",\n",
        "            size = 7\n",
        "        ),\n",
        "        strip.background = element_rect(\n",
        "            colour = \"white\",\n",
        "            fill = \"#ECECEC\"\n",
        "        ),\n",
        "        panel.grid = element_line(\n",
        "            color = \"black\",\n",
        "            size = 0.1,\n",
        "            linetype = 2\n",
        "        ),\n",
        "        panel.grid.major.y = element_blank(),\n",
        "        panel.grid.minor.y = element_blank(),\n",
        "        panel.grid.minor.x = element_blank(),\n",
        "        panel.spacing.y = unit(0, \"lines\"),\n",
        "        panel.background = element_rect(\n",
        "            color = \"black\",\n",
        "            fill = \"white\",\n",
        "            linewidth = 0.1\n",
        "        ),\n",
        "        text = element_text(\n",
        "            family = \"Arial\",\n",
        "            size = 7\n",
        "        )\n",
        "    )\n",
        "data$alpha <- NULL\n",
        "data$persona <- NULL\n",
        "data <- data[!duplicated(data), ]\n",
        "g2 <- ggplot(\n",
        "    data,\n",
        "    aes(grp, bias)\n",
        ") +\n",
        "    geom_text(aes(label = labs),\n",
        "        hjust = -0.2,\n",
        "        family = \"Arial\",\n",
        "        size = 7 / .pt\n",
        "    ) +\n",
        "    coord_flip() +\n",
        "    ylab(\"Bias\") +\n",
        "    scale_y_continuous(\n",
        "        breaks = c(0.00, 1.00),\n",
        "        limits = c(0, 1)\n",
        "    ) +\n",
        "    geom_bar(stat = \"identity\", fill = \"black\") +\n",
        "    facet_nested(\n",
        "        rows = vars(measure, attribute, model),\n",
        "        labeller = label_parsed\n",
        "    ) +\n",
        "    theme(\n",
        "        axis.text.y = element_blank(),\n",
        "        axis.title.y = element_blank(),\n",
        "        axis.ticks.y = element_blank(),\n",
        "        axis.ticks = element_line(size = 0.1),\n",
        "        axis.text = element_text(\n",
        "            family = \"Arial\",\n",
        "            size = 7\n",
        "        ),\n",
        "        strip.text = element_blank(),\n",
        "        strip.background = element_blank(),\n",
        "        panel.grid = element_line(\n",
        "            color = \"black\",\n",
        "            size = 0.1,\n",
        "            linetype = 2\n",
        "        ),\n",
        "        panel.grid.major.y = element_blank(),\n",
        "        panel.grid.minor.y = element_blank(),\n",
        "        panel.grid.minor.x = element_blank(),\n",
        "        panel.spacing.y = unit(0, \"lines\"),\n",
        "        panel.background = element_rect(\n",
        "            color = \"black\",\n",
        "            fill = \"white\",\n",
        "            linewidth = 0.1\n",
        "        ),\n",
        "        text = element_text(\n",
        "            family = \"Arial\",\n",
        "            size = 7\n",
        "        )\n",
        "    )\n",
        "g1 + g2 + plot_layout(widths = c(9, 1))\n",
        "ggsave(\n",
        "    \"/content/drive/MyDrive/datasets/cleaning/COVID-HATE.eps\",\n",
        "    height = 6,\n",
        "    width = 18,\n",
        "    units = \"cm\"\n",
        ")"
      ],
      "metadata": {
        "id": "WR1uMnYM3oFp"
      },
      "execution_count": 16,
      "outputs": []
    },
    {
      "cell_type": "markdown",
      "metadata": {
        "id": "6NH0nTMX4z28"
      },
      "source": [
        "# Double check Krippendorff's alpha coefficients"
      ]
    },
    {
      "cell_type": "code",
      "execution_count": null,
      "metadata": {
        "id": "zkjGEREVrGfp"
      },
      "outputs": [],
      "source": [
        "def double_check_alpha(df, reference):\n",
        "    for i in df.columns:\n",
        "        print(i)\n",
        "        print(np.round(krippendorff.alpha(\n",
        "            df[[reference, i]].T.to_numpy().tolist(),\n",
        "            level_of_measurement='nominal'), 3))\n",
        "\n",
        "\n",
        "double_check_alpha(COVID_HATE_0301.iloc[:, 3:], 'predicted_labels_base')\n",
        "print()\n",
        "double_check_alpha(COVID_HATE_0613.iloc[:, 3:], 'predicted_labels_base')\n",
        "print()\n",
        "double_check_alpha(COVID_HATE_0301.iloc[:, [2, 11, 12]], 'label')\n",
        "print()\n",
        "double_check_alpha(COVID_HATE_0613.iloc[:, [2, 11, 12]], 'label')"
      ]
    }
  ],
  "metadata": {
    "colab": {
      "provenance": []
    },
    "kernelspec": {
      "display_name": "Python 3",
      "name": "python3"
    },
    "language_info": {
      "name": "python"
    }
  },
  "nbformat": 4,
  "nbformat_minor": 0
}