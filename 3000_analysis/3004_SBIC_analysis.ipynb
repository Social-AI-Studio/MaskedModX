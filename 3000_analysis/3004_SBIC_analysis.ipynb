{
  "cells": [
    {
      "cell_type": "markdown",
      "metadata": {
        "id": "5A7D0mu-sDQA"
      },
      "source": [
        "# Mount drive"
      ]
    },
    {
      "cell_type": "code",
      "execution_count": null,
      "metadata": {
        "id": "dNkBiUUlr9T_"
      },
      "outputs": [],
      "source": [
        "from google.colab import drive\n",
        "drive.mount('/content/drive')"
      ]
    },
    {
      "cell_type": "markdown",
      "metadata": {
        "id": "tig8ikz8rwTQ"
      },
      "source": [
        "# Import libraries"
      ]
    },
    {
      "cell_type": "code",
      "execution_count": null,
      "metadata": {
        "id": "BVaBSlOMr03n"
      },
      "outputs": [],
      "source": [
        "!pip install krippendorff"
      ]
    },
    {
      "cell_type": "code",
      "execution_count": 3,
      "metadata": {
        "id": "MdDzE809cvfZ"
      },
      "outputs": [],
      "source": [
        "import krippendorff\n",
        "import numpy as np\n",
        "import pandas as pd\n",
        "# Prevent AttributeError. via\n",
        "# https://stackoverflow.com/a/76404841\n",
        "pd.DataFrame.iteritems = pd.DataFrame.items\n",
        "from scipy import stats\n",
        "from sklearn.metrics import f1_score"
      ]
    },
    {
      "cell_type": "code",
      "execution_count": 4,
      "metadata": {
        "id": "lE5S2M-394YJ"
      },
      "outputs": [],
      "source": [
        "%load_ext rpy2.ipython"
      ]
    },
    {
      "cell_type": "code",
      "execution_count": null,
      "metadata": {
        "id": "RRSZu_bS3gSY"
      },
      "outputs": [],
      "source": [
        "%%R\n",
        "install.packages(\"dplyr\")\n",
        "install.packages(\"ggh4x\")\n",
        "devtools::install_github(\"hadley/ggplot2\")\n",
        "devtools::install_github(\"cran/GiniWegNeg\")\n",
        "devtools::install_github(\"kgwet/irrCAC\")\n",
        "install.packages(\"patchwork\")\n",
        "install.packages(\"showtext\")\n",
        "install.packages(\"stringr\")\n",
        "library(dplyr)\n",
        "library(ggh4x)\n",
        "library(ggplot2)\n",
        "library(GiniWegNeg)\n",
        "library(irrCAC)\n",
        "library(patchwork)\n",
        "library(showtext)\n",
        "# Need to download Arial.ttf and upload it to your Google Drive prior.\n",
        "font_add(\"Arial\", regular = \"/content/drive/MyDrive/Arial.ttf\")\n",
        "library(stringr)"
      ]
    },
    {
      "cell_type": "markdown",
      "metadata": {
        "id": "ihY3ElJhsJRv"
      },
      "source": [
        "# Import datasets"
      ]
    },
    {
      "cell_type": "markdown",
      "metadata": {
        "id": "DOscO3ffrlVn"
      },
      "source": [
        "## Test set with annotations and annotator information"
      ]
    },
    {
      "cell_type": "code",
      "execution_count": 6,
      "metadata": {
        "id": "bCvlSEUlrpwF"
      },
      "outputs": [],
      "source": [
        "SBIC = pd.read_csv(\n",
        "    '/content/drive/MyDrive/datasets/SBIC.v2.tst.csv')\n",
        "SBIC = SBIC.reset_index(drop=True)"
      ]
    },
    {
      "cell_type": "markdown",
      "metadata": {
        "id": "43P-f4K1tUUr"
      },
      "source": [
        "## GPT annotations"
      ]
    },
    {
      "cell_type": "code",
      "execution_count": 7,
      "metadata": {
        "id": "YEg_ED1g_AzZ"
      },
      "outputs": [],
      "source": [
        "SBIC_0301 = pd.read_csv(\n",
        "    '/content/drive/MyDrive/datasets/cleaning/'\n",
        "    'SBIC_predictions_cleaned_gpt-3.5-turbo-0301.tsv',\n",
        "    sep='\\t')\n",
        "SBIC_0301 = SBIC_0301.reset_index(drop=True)\n",
        "SBIC_0301 = SBIC_0301.astype('string')\n",
        "SBIC_0613 = pd.read_csv(\n",
        "    '/content/drive/MyDrive/datasets/cleaning/'\n",
        "    'SBIC_predictions_cleaned_gpt-3.5-turbo-0613.tsv',\n",
        "    sep='\\t')\n",
        "SBIC_0613 = SBIC_0613.reset_index(drop=True)\n",
        "SBIC_0613 = SBIC_0613.astype('string')"
      ]
    },
    {
      "cell_type": "markdown",
      "metadata": {
        "id": "era6hcjMsMov"
      },
      "source": [
        "# Compute macro F1-scores"
      ]
    },
    {
      "cell_type": "code",
      "execution_count": null,
      "metadata": {
        "id": "C_8kcsmXwFTH"
      },
      "outputs": [],
      "source": [
        "def compute_F1(df):\n",
        "    for i in df.iloc[:, 15:].columns:\n",
        "        print(i)\n",
        "        print(np.round(f1_score(df['offensiveYN_mode'],\n",
        "                                df[i],\n",
        "                                labels=['1.0', '0.5', '0.0'],\n",
        "                                average='macro'),\n",
        "                       3))\n",
        "\n",
        "\n",
        "compute_F1(SBIC_0301)\n",
        "print()\n",
        "compute_F1(SBIC_0613)"
      ]
    },
    {
      "cell_type": "markdown",
      "metadata": {
        "id": "x60ezUDuxyJU"
      },
      "source": [
        "# Aggregate actual annotations by sociodemographic attribute"
      ]
    },
    {
      "cell_type": "code",
      "execution_count": 9,
      "metadata": {
        "id": "6wBR8Izjv8of"
      },
      "outputs": [],
      "source": [
        "# Pandas Groupby and mode. via\n",
        "# https://stackoverflow.com/a/54304691 and\n",
        "# https://stackoverflow.com/a/10374456\n",
        "SBIC_gender = SBIC.groupby(['post', 'annotatorGender'])['offensiveYN'].agg(\n",
        "    lambda x: stats.mode(x, nan_policy='omit')[0]).to_frame(\n",
        "    name='offensiveYN_mode').reset_index()\n",
        "SBIC_politics = SBIC.groupby(['post', 'annotatorPolitics'])['offensiveYN'].agg(\n",
        "    lambda x: stats.mode(x, nan_policy='omit')[0]).to_frame(\n",
        "    name='offensiveYN_mode').reset_index()\n",
        "SBIC_race = SBIC.groupby(['post', 'annotatorRace'])['offensiveYN'].agg(\n",
        "    lambda x: stats.mode(x, nan_policy='omit')[0]).to_frame(\n",
        "    name='offensiveYN_mode').reset_index()"
      ]
    },
    {
      "cell_type": "code",
      "execution_count": 10,
      "metadata": {
        "id": "LY_LT6Eu_9Cj"
      },
      "outputs": [],
      "source": [
        "SBIC_gender = SBIC_gender.astype('string')\n",
        "SBIC_politics = SBIC_politics.astype('string')\n",
        "SBIC_race = SBIC_race.astype('string')"
      ]
    },
    {
      "cell_type": "markdown",
      "metadata": {
        "id": "bdKjlRqFtdaz"
      },
      "source": [
        "# Define a function to compute and interpret Krippendorff's alpha coefficients between personas and actual annotators"
      ]
    },
    {
      "cell_type": "code",
      "execution_count": 11,
      "metadata": {
        "id": "T07rkzs73k_M"
      },
      "outputs": [],
      "source": [
        "%%R\n",
        "compute_alpha_ia <- function(df_gold, df_pred, demog_var, demog_spec, persona,\n",
        "                             model, measure) {\n",
        "    df_gold <- df_gold[df_gold[demog_var] == demog_spec, ]\n",
        "    df <- merge(df_gold, df_pred[c(\"post\", persona)], by = \"post\")\n",
        "    df <- na.omit(df[c(\"offensiveYN_mode\", persona)])\n",
        "    print(nrow(df))\n",
        "    # Retrieve and interpret Krippendorff's alpha values. via\n",
        "    # https://cran.r-project.org/web/packages/irrCAC/vignettes/\n",
        "    # benchmarking.html\n",
        "    a <- krippen.alpha.raw(df)\n",
        "    print(a$est)\n",
        "    print(a$categories)\n",
        "    print(landis.koch.bf(a$est$coeff.val, a$est$coeff.se))\n",
        "    res <- data.frame(\n",
        "        alpha = c(a$est$coeff.val),\n",
        "        persona = c(persona),\n",
        "        model = c(model),\n",
        "        measure = c(measure)\n",
        "    )\n",
        "    return(res)\n",
        "}"
      ]
    },
    {
      "cell_type": "markdown",
      "metadata": {
        "id": "NH19jVbh1-Hp"
      },
      "source": [
        "# Call the `compute_alpha_ia` function to compute and interpret Krippendorff's alpha coefficients between personas and actual annotators"
      ]
    },
    {
      "cell_type": "code",
      "execution_count": null,
      "metadata": {
        "id": "mQsYa7sQBDyV"
      },
      "outputs": [],
      "source": [
        "# Import data between languages. via\n",
        "# https://www.askpython.com/python/examples/\n",
        "# use-r-and-python-in-the-same-notebook\n",
        "%%R -i SBIC_gender -i SBIC_0301\n",
        "alpha_ia_man_0301 <- compute_alpha_ia(\n",
        "    SBIC_gender,\n",
        "    SBIC_0301,\n",
        "    \"annotatorGender\",\n",
        "    \"man\",\n",
        "    \"predicted_q1a_labels_a_man/male_in_the_United_States\",\n",
        "    \"gpt-3.5-turbo-\\\"0301\\\"\",\n",
        "    \"\\\"alpha\\\"[ia]\"\n",
        ")\n",
        "print(alpha_ia_man_0301)"
      ]
    },
    {
      "cell_type": "code",
      "execution_count": null,
      "metadata": {
        "id": "jo6fAUro0e5C"
      },
      "outputs": [],
      "source": [
        "# Import data between languages. via\n",
        "# https://www.askpython.com/python/examples/\n",
        "# use-r-and-python-in-the-same-notebook\n",
        "%%R -i SBIC_gender -i SBIC_0613\n",
        "alpha_ia_man_0613 <- compute_alpha_ia(\n",
        "    SBIC_gender,\n",
        "    SBIC_0613,\n",
        "    \"annotatorGender\",\n",
        "    \"man\",\n",
        "    \"predicted_q1a_labels_a_man/male_in_the_United_States\",\n",
        "    \"gpt-3.5-turbo-\\\"0613\\\"\",\n",
        "    \"\\\"alpha\\\"[ia]\"\n",
        ")\n",
        "print(alpha_ia_man_0613)"
      ]
    },
    {
      "cell_type": "code",
      "execution_count": null,
      "metadata": {
        "id": "YAz0x8up3I67"
      },
      "outputs": [],
      "source": [
        "# Import data between languages. via\n",
        "# https://www.askpython.com/python/examples/\n",
        "# use-r-and-python-in-the-same-notebook\n",
        "%%R -i SBIC_gender -i SBIC_0301\n",
        "alpha_ia_woman_0301 <- compute_alpha_ia(\n",
        "    SBIC_gender,\n",
        "    SBIC_0301,\n",
        "    \"annotatorGender\",\n",
        "    \"woman\",\n",
        "    \"predicted_q1a_labels_a_woman/female_in_the_United_States\",\n",
        "    \"gpt-3.5-turbo-\\\"0301\\\"\",\n",
        "    \"\\\"alpha\\\"[ia]\"\n",
        ")\n",
        "print(alpha_ia_woman_0301)"
      ]
    },
    {
      "cell_type": "code",
      "execution_count": null,
      "metadata": {
        "id": "Lc119cfT3bca"
      },
      "outputs": [],
      "source": [
        "# Import data between languages. via\n",
        "# https://www.askpython.com/python/examples/\n",
        "# use-r-and-python-in-the-same-notebook\n",
        "%%R -i SBIC_gender -i SBIC_0613\n",
        "alpha_ia_woman_0613 <- compute_alpha_ia(\n",
        "    SBIC_gender,\n",
        "    SBIC_0613,\n",
        "    \"annotatorGender\",\n",
        "    \"woman\",\n",
        "    \"predicted_q1a_labels_a_woman/female_in_the_United_States\",\n",
        "    \"gpt-3.5-turbo-\\\"0613\\\"\",\n",
        "    \"\\\"alpha\\\"[ia]\"\n",
        ")\n",
        "print(alpha_ia_woman_0613)"
      ]
    },
    {
      "cell_type": "code",
      "execution_count": null,
      "metadata": {
        "id": "nFI1m45l4lPD"
      },
      "outputs": [],
      "source": [
        "# Import data between languages. via\n",
        "# https://www.askpython.com/python/examples/\n",
        "# use-r-and-python-in-the-same-notebook\n",
        "%%R -i SBIC_politics -i SBIC_0301\n",
        "alpha_ia_liberal_0301 <- compute_alpha_ia(\n",
        "    SBIC_politics,\n",
        "    SBIC_0301,\n",
        "    \"annotatorPolitics\",\n",
        "    \"liberal\",\n",
        "    \"predicted_q1a_labels_a_liberal/progressive_in_the_United_States\",\n",
        "    \"gpt-3.5-turbo-\\\"0301\\\"\",\n",
        "    \"\\\"alpha\\\"[ia]\"\n",
        ")\n",
        "print(alpha_ia_liberal_0301)"
      ]
    },
    {
      "cell_type": "code",
      "execution_count": null,
      "metadata": {
        "id": "3iXzPXFO5XD7"
      },
      "outputs": [],
      "source": [
        "# Import data between languages. via\n",
        "# https://www.askpython.com/python/examples/\n",
        "# use-r-and-python-in-the-same-notebook\n",
        "%%R -i SBIC_politics -i SBIC_0613\n",
        "alpha_ia_liberal_0613 <- compute_alpha_ia(\n",
        "    SBIC_politics,\n",
        "    SBIC_0613,\n",
        "    \"annotatorPolitics\",\n",
        "    \"liberal\",\n",
        "    \"predicted_q1a_labels_a_liberal/progressive_in_the_United_States\",\n",
        "    \"gpt-3.5-turbo-\\\"0613\\\"\",\n",
        "    \"\\\"alpha\\\"[ia]\"\n",
        ")\n",
        "print(alpha_ia_liberal_0613)"
      ]
    },
    {
      "cell_type": "code",
      "execution_count": null,
      "metadata": {
        "id": "NO9A9qnHDlXR"
      },
      "outputs": [],
      "source": [
        "# Import data between languages. via\n",
        "# https://www.askpython.com/python/examples/\n",
        "# use-r-and-python-in-the-same-notebook\n",
        "%%R -i SBIC_politics -i SBIC_0301\n",
        "alpha_ia_modlib_0301 <- compute_alpha_ia(\n",
        "    SBIC_politics,\n",
        "    SBIC_0301,\n",
        "    \"annotatorPolitics\",\n",
        "    \"mod-liberal\",\n",
        "    \"predicted_q1a_labels_a_moderate_liberal_in_the_United_States\",\n",
        "    \"gpt-3.5-turbo-\\\"0301\\\"\",\n",
        "    \"\\\"alpha\\\"[ia]\"\n",
        ")\n",
        "print(alpha_ia_modlib_0301)"
      ]
    },
    {
      "cell_type": "code",
      "execution_count": null,
      "metadata": {
        "id": "BKOMMjZFOUtj"
      },
      "outputs": [],
      "source": [
        "# Import data between languages. via\n",
        "# https://www.askpython.com/python/examples/\n",
        "# use-r-and-python-in-the-same-notebook\n",
        "%%R -i SBIC_politics -i SBIC_0613\n",
        "alpha_ia_modlib_0613 <- compute_alpha_ia(\n",
        "    SBIC_politics,\n",
        "    SBIC_0613,\n",
        "    \"annotatorPolitics\",\n",
        "    \"mod-liberal\",\n",
        "    \"predicted_q1a_labels_a_moderate_liberal_in_the_United_States\",\n",
        "    \"gpt-3.5-turbo-\\\"0613\\\"\",\n",
        "    \"\\\"alpha\\\"[ia]\"\n",
        ")\n",
        "print(alpha_ia_modlib_0613)"
      ]
    },
    {
      "cell_type": "code",
      "execution_count": null,
      "metadata": {
        "id": "3phLNIlkGJIY"
      },
      "outputs": [],
      "source": [
        "# Import data between languages. via\n",
        "# https://www.askpython.com/python/examples/\n",
        "# use-r-and-python-in-the-same-notebook\n",
        "%%R -i SBIC_politics -i SBIC_0301\n",
        "alpha_ia_modcons_0301 <- compute_alpha_ia(\n",
        "    SBIC_politics,\n",
        "    SBIC_0301,\n",
        "    \"annotatorPolitics\",\n",
        "    \"mod-cons\",\n",
        "    \"predicted_q1a_labels_a_moderate_conservative_in_the_United_States\",\n",
        "    \"gpt-3.5-turbo-\\\"0301\\\"\",\n",
        "    \"\\\"alpha\\\"[ia]\"\n",
        ")\n",
        "print(alpha_ia_modcons_0301)"
      ]
    },
    {
      "cell_type": "code",
      "execution_count": null,
      "metadata": {
        "id": "ITLrZBgvpoqd"
      },
      "outputs": [],
      "source": [
        "# Import data between languages. via\n",
        "# https://www.askpython.com/python/examples/\n",
        "# use-r-and-python-in-the-same-notebook\n",
        "%%R -i SBIC_politics -i SBIC_0613\n",
        "alpha_ia_modcons_0613 <- compute_alpha_ia(\n",
        "    SBIC_politics,\n",
        "    SBIC_0613,\n",
        "    \"annotatorPolitics\",\n",
        "    \"mod-cons\",\n",
        "    \"predicted_q1a_labels_a_moderate_conservative_in_the_United_States\",\n",
        "    \"gpt-3.5-turbo-\\\"0613\\\"\",\n",
        "    \"\\\"alpha\\\"[ia]\"\n",
        ")\n",
        "print(alpha_ia_modcons_0613)"
      ]
    },
    {
      "cell_type": "code",
      "execution_count": null,
      "metadata": {
        "id": "W15quu9b6SEo"
      },
      "outputs": [],
      "source": [
        "# Import data between languages. via\n",
        "# https://www.askpython.com/python/examples/\n",
        "# use-r-and-python-in-the-same-notebook\n",
        "%%R -i SBIC_politics -i SBIC_0301\n",
        "alpha_ia_other_0301 <- compute_alpha_ia(\n",
        "    SBIC_politics,\n",
        "    SBIC_0301,\n",
        "    \"annotatorPolitics\",\n",
        "    \"other\",\n",
        "    \"predicted_q1a_labels_a_political_independent_in_the_United_States\",\n",
        "    \"gpt-3.5-turbo-\\\"0301\\\"\",\n",
        "    \"\\\"alpha\\\"[ia]\"\n",
        ")\n",
        "print(alpha_ia_other_0301)"
      ]
    },
    {
      "cell_type": "code",
      "execution_count": null,
      "metadata": {
        "id": "JyPlhN1u6WIY"
      },
      "outputs": [],
      "source": [
        "# Import data between languages. via\n",
        "# https://www.askpython.com/python/examples/\n",
        "# use-r-and-python-in-the-same-notebook\n",
        "%%R -i SBIC_politics -i SBIC_0613\n",
        "alpha_ia_other_0613 <- compute_alpha_ia(\n",
        "    SBIC_politics,\n",
        "    SBIC_0613,\n",
        "    \"annotatorPolitics\",\n",
        "    \"other\",\n",
        "    \"predicted_q1a_labels_a_political_independent_in_the_United_States\",\n",
        "    \"gpt-3.5-turbo-\\\"0613\\\"\",\n",
        "    \"\\\"alpha\\\"[ia]\"\n",
        ")\n",
        "print(alpha_ia_other_0613)"
      ]
    },
    {
      "cell_type": "code",
      "execution_count": null,
      "metadata": {
        "id": "TLYjHca18G5W"
      },
      "outputs": [],
      "source": [
        "# Import data between languages. via\n",
        "# https://www.askpython.com/python/examples/\n",
        "# use-r-and-python-in-the-same-notebook\n",
        "%%R -i SBIC_politics -i SBIC_0301\n",
        "alpha_ia_cons_0301 <- compute_alpha_ia(\n",
        "    SBIC_politics,\n",
        "    SBIC_0301,\n",
        "    \"annotatorPolitics\",\n",
        "    \"cons\",\n",
        "    \"predicted_q1a_labels_a_conservative_in_the_United_States\",\n",
        "    \"gpt-3.5-turbo-\\\"0301\\\"\",\n",
        "    \"\\\"alpha\\\"[ia]\"\n",
        ")\n",
        "print(alpha_ia_cons_0301)"
      ]
    },
    {
      "cell_type": "code",
      "execution_count": null,
      "metadata": {
        "id": "WuzfLoODF66p"
      },
      "outputs": [],
      "source": [
        "# Import data between languages. via\n",
        "# https://www.askpython.com/python/examples/\n",
        "# use-r-and-python-in-the-same-notebook\n",
        "%%R -i SBIC_politics -i SBIC_0613\n",
        "alpha_ia_cons_0613 <- compute_alpha_ia(\n",
        "    SBIC_politics,\n",
        "    SBIC_0613,\n",
        "    \"annotatorPolitics\",\n",
        "    \"cons\",\n",
        "    \"predicted_q1a_labels_a_conservative_in_the_United_States\",\n",
        "    \"gpt-3.5-turbo-\\\"0613\\\"\",\n",
        "    \"\\\"alpha\\\"[ia]\"\n",
        ")\n",
        "print(alpha_ia_cons_0613)"
      ]
    },
    {
      "cell_type": "code",
      "execution_count": null,
      "metadata": {
        "id": "cvmNXlLQGPMx"
      },
      "outputs": [],
      "source": [
        "# Import data between languages. via\n",
        "# https://www.askpython.com/python/examples/\n",
        "# use-r-and-python-in-the-same-notebook\n",
        "%%R -i SBIC_politics -i SBIC_0301\n",
        "alpha_ia_libert_0301 <- compute_alpha_ia(\n",
        "    SBIC_politics,\n",
        "    SBIC_0301,\n",
        "    \"annotatorPolitics\",\n",
        "    \"libert\",\n",
        "    \"predicted_q1a_labels_a_libertarian_in_the_United_States\",\n",
        "    \"gpt-3.5-turbo-\\\"0301\\\"\",\n",
        "    \"\\\"alpha\\\"[ia]\"\n",
        ")\n",
        "print(alpha_ia_libert_0301)"
      ]
    },
    {
      "cell_type": "code",
      "execution_count": null,
      "metadata": {
        "id": "KktDNzu_GiFR"
      },
      "outputs": [],
      "source": [
        "# Import data between languages. via\n",
        "# https://www.askpython.com/python/examples/\n",
        "# use-r-and-python-in-the-same-notebook\n",
        "%%R -i SBIC_politics -i SBIC_0613\n",
        "alpha_ia_libert_0613 <- compute_alpha_ia(\n",
        "    SBIC_politics,\n",
        "    SBIC_0613,\n",
        "    \"annotatorPolitics\",\n",
        "    \"libert\",\n",
        "    \"predicted_q1a_labels_a_libertarian_in_the_United_States\",\n",
        "    \"gpt-3.5-turbo-\\\"0613\\\"\",\n",
        "    \"\\\"alpha\\\"[ia]\"\n",
        ")\n",
        "print(alpha_ia_libert_0613)"
      ]
    },
    {
      "cell_type": "code",
      "execution_count": null,
      "metadata": {
        "id": "2qvEK3RmBjXz"
      },
      "outputs": [],
      "source": [
        "# Import data between languages. via\n",
        "# https://www.askpython.com/python/examples/\n",
        "# use-r-and-python-in-the-same-notebook\n",
        "%%R -i SBIC_race -i SBIC_0301\n",
        "alpha_ia_white_0301 <- compute_alpha_ia(\n",
        "    SBIC_race,\n",
        "    SBIC_0301,\n",
        "    \"annotatorRace\",\n",
        "    \"white\",\n",
        "    \"predicted_q1a_labels_a_White/Caucasian_person_in_the_United_States\",\n",
        "    \"gpt-3.5-turbo-\\\"0301\\\"\",\n",
        "    \"\\\"alpha\\\"[ia]\"\n",
        ")\n",
        "print(alpha_ia_white_0301)"
      ]
    },
    {
      "cell_type": "code",
      "execution_count": null,
      "metadata": {
        "id": "DQJWTwRlbAo7"
      },
      "outputs": [],
      "source": [
        "# Import data between languages. via\n",
        "# https://www.askpython.com/python/examples/\n",
        "# use-r-and-python-in-the-same-notebook\n",
        "%%R -i SBIC_race -i SBIC_0613\n",
        "alpha_ia_white_0613 <- compute_alpha_ia(\n",
        "    SBIC_race,\n",
        "    SBIC_0613,\n",
        "    \"annotatorRace\",\n",
        "    \"white\",\n",
        "    \"predicted_q1a_labels_a_White/Caucasian_person_in_the_United_States\",\n",
        "    \"gpt-3.5-turbo-\\\"0613\\\"\",\n",
        "    \"\\\"alpha\\\"[ia]\"\n",
        ")\n",
        "print(alpha_ia_white_0613)"
      ]
    },
    {
      "cell_type": "code",
      "execution_count": null,
      "metadata": {
        "id": "tLxyop7vCOwG"
      },
      "outputs": [],
      "source": [
        "# Import data between languages. via\n",
        "# https://www.askpython.com/python/examples/\n",
        "# use-r-and-python-in-the-same-notebook\n",
        "%%R -i SBIC_race -i SBIC_0301\n",
        "alpha_ia_hisp_0301 <- compute_alpha_ia(\n",
        "    SBIC_race,\n",
        "    SBIC_0301,\n",
        "    \"annotatorRace\",\n",
        "    \"hisp\",\n",
        "    \"predicted_q1a_labels_a_Hispanic/Latinx_person_in_the_United_States\",\n",
        "    \"gpt-3.5-turbo-\\\"0301\\\"\",\n",
        "    \"\\\"alpha\\\"[ia]\"\n",
        ")\n",
        "print(alpha_ia_hisp_0301)"
      ]
    },
    {
      "cell_type": "code",
      "execution_count": null,
      "metadata": {
        "id": "-tEAAK3oDU1Q"
      },
      "outputs": [],
      "source": [
        "# Import data between languages. via\n",
        "# https://www.askpython.com/python/examples/\n",
        "# use-r-and-python-in-the-same-notebook\n",
        "%%R -i SBIC_race -i SBIC_0613\n",
        "alpha_ia_hisp_0613 <- compute_alpha_ia(\n",
        "    SBIC_race,\n",
        "    SBIC_0613,\n",
        "    \"annotatorRace\",\n",
        "    \"hisp\",\n",
        "    \"predicted_q1a_labels_a_Hispanic/Latinx_person_in_the_United_States\",\n",
        "    \"gpt-3.5-turbo-\\\"0613\\\"\",\n",
        "    \"\\\"alpha\\\"[ia]\"\n",
        ")\n",
        "print(alpha_ia_hisp_0613)"
      ]
    },
    {
      "cell_type": "code",
      "execution_count": null,
      "metadata": {
        "id": "7Hat2fnadT9f"
      },
      "outputs": [],
      "source": [
        "# Import data between languages. via\n",
        "# https://www.askpython.com/python/examples/\n",
        "# use-r-and-python-in-the-same-notebook\n",
        "%%R -i SBIC_race -i SBIC_0301\n",
        "alpha_ia_asian_0301 <- compute_alpha_ia(\n",
        "    SBIC_race,\n",
        "    SBIC_0301,\n",
        "    \"annotatorRace\",\n",
        "    \"asian\",\n",
        "    \"predicted_q1a_labels_an_Asian/Asian_American_in_the_United_States\",\n",
        "    \"gpt-3.5-turbo-\\\"0301\\\"\",\n",
        "    \"\\\"alpha\\\"[ia]\"\n",
        ")\n",
        "print(alpha_ia_asian_0301)"
      ]
    },
    {
      "cell_type": "code",
      "execution_count": null,
      "metadata": {
        "id": "U2fajDYRDcUO"
      },
      "outputs": [],
      "source": [
        "# Import data between languages. via\n",
        "# https://www.askpython.com/python/examples/\n",
        "# use-r-and-python-in-the-same-notebook\n",
        "%%R -i SBIC_race -i SBIC_0613\n",
        "alpha_ia_asian_0613 <- compute_alpha_ia(\n",
        "    SBIC_race,\n",
        "    SBIC_0613,\n",
        "    \"annotatorRace\",\n",
        "    \"asian\",\n",
        "    \"predicted_q1a_labels_an_Asian/Asian_American_in_the_United_States\",\n",
        "    \"gpt-3.5-turbo-\\\"0613\\\"\",\n",
        "    \"\\\"alpha\\\"[ia]\"\n",
        ")\n",
        "print(alpha_ia_asian_0613)"
      ]
    },
    {
      "cell_type": "code",
      "execution_count": null,
      "metadata": {
        "id": "nJNIpZg0l6T7"
      },
      "outputs": [],
      "source": [
        "# Import data between languages. via\n",
        "# https://www.askpython.com/python/examples/\n",
        "# use-r-and-python-in-the-same-notebook\n",
        "%%R -i SBIC_race -i SBIC_0301\n",
        "alpha_ia_black_0301 <- compute_alpha_ia(\n",
        "    SBIC_race,\n",
        "    SBIC_0301,\n",
        "    \"annotatorRace\",\n",
        "    \"black\",\n",
        "    \"predicted_q1a_labels_a_Black/African_American_in_the_United_States\",\n",
        "    \"gpt-3.5-turbo-\\\"0301\\\"\",\n",
        "    \"\\\"alpha\\\"[ia]\"\n",
        ")\n",
        "print(alpha_ia_black_0301)"
      ]
    },
    {
      "cell_type": "code",
      "execution_count": null,
      "metadata": {
        "id": "7foj6XB2nid3"
      },
      "outputs": [],
      "source": [
        "# Import data between languages. via\n",
        "# https://www.askpython.com/python/examples/\n",
        "# use-r-and-python-in-the-same-notebook\n",
        "%%R -i SBIC_race -i SBIC_0613\n",
        "alpha_ia_black_0613 <- compute_alpha_ia(\n",
        "    SBIC_race,\n",
        "    SBIC_0613,\n",
        "    \"annotatorRace\",\n",
        "    \"black\",\n",
        "    \"predicted_q1a_labels_a_Black/African_American_in_the_United_States\",\n",
        "    \"gpt-3.5-turbo-\\\"0613\\\"\",\n",
        "    \"\\\"alpha\\\"[ia]\"\n",
        ")\n",
        "print(alpha_ia_black_0613)"
      ]
    },
    {
      "cell_type": "markdown",
      "metadata": {
        "id": "DiVZsiMAzCRP"
      },
      "source": [
        "# Define a function to compute and interpret Krippendorff\"s alpha coefficients between the personas and the no-persona defaults"
      ]
    },
    {
      "cell_type": "code",
      "execution_count": 36,
      "metadata": {
        "id": "dS3F48kkqOal"
      },
      "outputs": [],
      "source": [
        "%%R\n",
        "compute_alpha_ib <- function(df, reference, model, measure) {\n",
        "    alpha_list <- c()\n",
        "    for (i in seq_along(colnames(df))) {\n",
        "        print(colnames(df)[i])\n",
        "        # Retrieve and interpret Krippendorff's alpha values. via\n",
        "        # https://cran.r-project.org/web/packages/irrCAC/vignettes/\n",
        "        # benchmarking.html\n",
        "        a <- krippen.alpha.raw(df[, c(reference, colnames(df)[i])])\n",
        "        print(a$est)\n",
        "        print(a$categories)\n",
        "        print(landis.koch.bf(a$est$coeff.val, a$est$coeff.se))\n",
        "        if (i != 48) {\n",
        "            alpha_list <- c(alpha_list, a$est$coeff.val)\n",
        "        }\n",
        "    }\n",
        "    res <- data.frame(\n",
        "        alpha = alpha_list,\n",
        "        persona = colnames(df[, -48]),\n",
        "        model = rep(model, length(alpha)),\n",
        "        measure = rep(measure, length(alpha))\n",
        "    )\n",
        "    return(res)\n",
        "}"
      ]
    },
    {
      "cell_type": "markdown",
      "metadata": {
        "id": "jjSBoV282qc-"
      },
      "source": [
        "# Call the `compute_alpha_ib` function to compute and interpret Krippendorff's alpha coefficients between the personas and the no-persona defaults"
      ]
    },
    {
      "cell_type": "code",
      "execution_count": null,
      "metadata": {
        "id": "N5k7CmAgCApt"
      },
      "outputs": [],
      "source": [
        "# Import data between languages. via\n",
        "# https://www.askpython.com/python/examples/\n",
        "# use-r-and-python-in-the-same-notebook\n",
        "%%R -i SBIC_0301\n",
        "alpha_ib_0301 <- compute_alpha_ib(SBIC_0301[, 16:79], \"predicted_q1a_labels_base\", \"gpt-3.5-turbo-\\\"0301\\\"\", \"\\\"alpha\\\"[ib]\")\n",
        "print(alpha_ib_0301)"
      ]
    },
    {
      "cell_type": "code",
      "execution_count": null,
      "metadata": {
        "id": "UfDMMeHWwK9n"
      },
      "outputs": [],
      "source": [
        "# Import data between languages. via\n",
        "# https://www.askpython.com/python/examples/\n",
        "# use-r-and-python-in-the-same-notebook\n",
        "%%R -i SBIC_0613\n",
        "alpha_ib_0613 <- compute_alpha_ib(SBIC_0613[, 16:79], \"predicted_q1a_labels_base\", \"gpt-3.5-turbo-\\\"0613\\\"\", \"\\\"alpha\\\"[ib]\")\n",
        "print(alpha_ib_0613)"
      ]
    },
    {
      "cell_type": "markdown",
      "source": [
        "# Plot Krippendorff's alpha coefficients and Bias"
      ],
      "metadata": {
        "id": "v9vtoPA-d02e"
      }
    },
    {
      "cell_type": "code",
      "execution_count": 39,
      "metadata": {
        "id": "Mu3cWPrloyvn"
      },
      "outputs": [],
      "source": [
        "%%R\n",
        "showtext_auto()\n",
        "data <- rbind(\n",
        "    alpha_ib_0301,\n",
        "    alpha_ib_0613,\n",
        "    alpha_ia_man_0301,\n",
        "    alpha_ia_man_0613,\n",
        "    alpha_ia_woman_0301,\n",
        "    alpha_ia_woman_0613,\n",
        "    alpha_ia_liberal_0301,\n",
        "    alpha_ia_liberal_0613,\n",
        "    alpha_ia_modlib_0301,\n",
        "    alpha_ia_modlib_0613,\n",
        "    alpha_ia_modcons_0301,\n",
        "    alpha_ia_modcons_0613,\n",
        "    alpha_ia_other_0301,\n",
        "    alpha_ia_other_0613,\n",
        "    alpha_ia_cons_0301,\n",
        "    alpha_ia_cons_0613,\n",
        "    alpha_ia_libert_0301,\n",
        "    alpha_ia_libert_0613,\n",
        "    alpha_ia_white_0301,\n",
        "    alpha_ia_white_0613,\n",
        "    alpha_ia_hisp_0301,\n",
        "    alpha_ia_hisp_0613,\n",
        "    alpha_ia_asian_0301,\n",
        "    alpha_ia_asian_0613,\n",
        "    alpha_ia_black_0301,\n",
        "    alpha_ia_black_0613\n",
        ")\n",
        "# Replace spaces with underscores. via\n",
        "# https://stackoverflow.com/a/53107084\n",
        "data$persona <- gsub(\"_\", \" \", data$persona)\n",
        "# Remove first few words. via\n",
        "# https://stackoverflow.com/a/64889117\n",
        "data$persona <- sub(\"^\\\\w+\\\\s\\\\w+\\\\s\\\\w+\\\\s\\\\w+\\\\s\", \"\", data$persona)\n",
        "# Remove everything after specified substring. via\n",
        "# https://stackoverflow.com/a/53503384\n",
        "data$persona <- sub(\"in the.+$\", \"\", data$persona)\n",
        "data$persona <- Map(paste, data$persona, \"...\")\n",
        "# Compute bias\n",
        "data$bias <- c(\n",
        "    rep(Gini_RSV(alpha_ib_0301$alpha[1:9])[[1]], 9),\n",
        "    rep(Gini_RSV(alpha_ib_0301$alpha[10:14])[[1]], 5),\n",
        "    rep(Gini_RSV(alpha_ib_0301$alpha[15:25])[[1]], 11),\n",
        "    rep(Gini_RSV(alpha_ib_0301$alpha[26:42])[[1]], 17),\n",
        "    rep(Gini_RSV(alpha_ib_0301$alpha[43:47])[[1]], 5),\n",
        "    rep(Gini_RSV(alpha_ib_0301$alpha[48:53])[[1]], 6),\n",
        "    rep(Gini_RSV(alpha_ib_0301$alpha[54:63])[[1]], 10),\n",
        "    rep(Gini_RSV(alpha_ib_0613$alpha[1:9])[[1]], 9),\n",
        "    rep(Gini_RSV(alpha_ib_0613$alpha[10:14])[[1]], 5),\n",
        "    rep(Gini_RSV(alpha_ib_0613$alpha[15:25])[[1]], 11),\n",
        "    rep(Gini_RSV(alpha_ib_0613$alpha[26:42])[[1]], 17),\n",
        "    rep(Gini_RSV(alpha_ib_0613$alpha[43:47])[[1]], 5),\n",
        "    rep(Gini_RSV(alpha_ib_0613$alpha[48:53])[[1]], 6),\n",
        "    rep(Gini_RSV(alpha_ib_0613$alpha[54:63])[[1]], 10),\n",
        "    rep(0, 24)\n",
        ")\n",
        "data$labs <- c(\n",
        "    rep(format(round(Gini_RSV(alpha_ib_0301$alpha[1:9])[[1]], digits = 3),\n",
        "        nsmall = 3\n",
        "    ), 9),\n",
        "    rep(format(round(Gini_RSV(alpha_ib_0301$alpha[10:14])[[1]], digits = 3),\n",
        "        nsmall = 3\n",
        "    ), 5),\n",
        "    rep(format(round(Gini_RSV(alpha_ib_0301$alpha[15:25])[[1]], digits = 3),\n",
        "        nsmall = 3\n",
        "    ), 11),\n",
        "    rep(format(round(Gini_RSV(alpha_ib_0301$alpha[26:42])[[1]], digits = 3),\n",
        "        nsmall = 3\n",
        "    ), 17),\n",
        "    rep(format(round(Gini_RSV(alpha_ib_0301$alpha[43:47])[[1]], digits = 3),\n",
        "        nsmall = 3\n",
        "    ), 5),\n",
        "    rep(format(round(Gini_RSV(alpha_ib_0301$alpha[48:53])[[1]], digits = 3),\n",
        "        nsmall = 3\n",
        "    ), 6),\n",
        "    rep(format(round(Gini_RSV(alpha_ib_0301$alpha[54:63])[[1]], digits = 3),\n",
        "        nsmall = 3\n",
        "    ), 10),\n",
        "    rep(format(round(Gini_RSV(alpha_ib_0613$alpha[1:9])[[1]], digits = 3),\n",
        "        nsmall = 3\n",
        "    ), 9),\n",
        "    rep(format(round(Gini_RSV(alpha_ib_0613$alpha[10:14])[[1]], digits = 3),\n",
        "        nsmall = 3\n",
        "    ), 5),\n",
        "    rep(format(round(Gini_RSV(alpha_ib_0613$alpha[15:25])[[1]], digits = 3),\n",
        "        nsmall = 3\n",
        "    ), 11),\n",
        "    rep(format(round(Gini_RSV(alpha_ib_0613$alpha[26:42])[[1]], digits = 3),\n",
        "        nsmall = 3\n",
        "    ), 17),\n",
        "    rep(format(round(Gini_RSV(alpha_ib_0613$alpha[43:47])[[1]], digits = 3),\n",
        "        nsmall = 3\n",
        "    ), 5),\n",
        "    rep(format(round(Gini_RSV(alpha_ib_0613$alpha[48:53])[[1]], digits = 3),\n",
        "        nsmall = 3\n",
        "    ), 6),\n",
        "    rep(format(round(Gini_RSV(alpha_ib_0613$alpha[54:63])[[1]], digits = 3),\n",
        "        nsmall = 3\n",
        "    ), 10),\n",
        "    rep(\"NA\", 24)\n",
        ")\n",
        "data$attribute <- c(\n",
        "    rep(\"Age/Body\", 9),\n",
        "    rep(\"Crime/Violence/Tragedy~victim\", 5),\n",
        "    rep(\"Culture/Origin/Religion\", 11),\n",
        "    rep(\"Gender/Gender~identity/Sexuality\", 17),\n",
        "    rep(\"Mental~or~physical~disability/Disorder\", 5),\n",
        "    rep(\"Race/Ethnicity\", 6),\n",
        "    rep(\"Socio-economic/Political/Lifestyle\", 10),\n",
        "    rep(\"Age/Body\", 9),\n",
        "    rep(\"Crime/Violence/Tragedy~victim\", 5),\n",
        "    rep(\"Culture/Origin/Religion\", 11),\n",
        "    rep(\"Gender/Gender~identity/Sexuality\", 17),\n",
        "    rep(\"Mental~or~physical~disability/Disorder\", 5),\n",
        "    rep(\"Race/Ethnicity\", 6),\n",
        "    rep(\"Socio-economic/Political/Lifestyle\", 10),\n",
        "    rep(\"Gender/Gender~identity/Sexuality\", 4),\n",
        "    rep(\"Socio-economic/Political/Lifestyle\", 12),\n",
        "    rep(\"Race/Ethnicity\", 8)\n",
        ")\n",
        "data$grp <- c(rep(1, 150))\n",
        "# Dot plots. via\n",
        "# https://uc-r.github.io/cleveland-dot-plots\n",
        "g1 <- ggplot(data, aes(alpha, grp)) +\n",
        "    geom_line(aes(group = grp), size = 0.05) +\n",
        "    geom_point(size = 0.1) +\n",
        "    # Label max value dots. via\n",
        "    # https://stackoverflow.com/a/48351513\n",
        "    geom_text(\n",
        "        data = . %>% group_by(measure, attribute, model) %>%\n",
        "            filter(alpha == max(alpha)),\n",
        "        # Wrap and truncate text. via\n",
        "        # https://stackoverflow.com/a/73357493\n",
        "        aes(label = str_wrap(persona, width = 13)),\n",
        "        hjust = 0,\n",
        "        family = \"Arial\",\n",
        "        size = 7 / .pt,\n",
        "        nudge_x = 0.02,\n",
        "        lineheight = 1\n",
        "    ) +\n",
        "    scale_x_continuous(\n",
        "        breaks = c(-.5, -.25, 0, .25, .5, .75, 1),\n",
        "        limits = c(-.5, 1)\n",
        "    ) +\n",
        "    xlab(\"Krippendorff's alpha coefficient\") +\n",
        "    facet_nested(\n",
        "        rows = vars(measure, attribute, model),\n",
        "        switch = \"y\",\n",
        "        labeller = label_parsed,\n",
        "        strip = strip_nested(size = \"variable\")\n",
        "    ) +\n",
        "    theme(\n",
        "        axis.text.y = element_blank(),\n",
        "        axis.title.y = element_blank(),\n",
        "        axis.ticks.y = element_blank(),\n",
        "        axis.ticks = element_line(size = 0.1),\n",
        "        axis.text = element_text(\n",
        "            family = \"Arial\",\n",
        "            size = 7\n",
        "        ),\n",
        "        strip.text.y.left = element_text(\n",
        "            angle = 0,\n",
        "            family = \"Arial\",\n",
        "            size = 7\n",
        "        ),\n",
        "        strip.background = element_rect(\n",
        "            colour = \"white\",\n",
        "            fill = \"#ECECEC\"\n",
        "        ),\n",
        "        panel.grid = element_line(\n",
        "            color = \"black\",\n",
        "            size = 0.1,\n",
        "            linetype = 2\n",
        "        ),\n",
        "        panel.grid.major.y = element_blank(),\n",
        "        panel.grid.minor.y = element_blank(),\n",
        "        panel.grid.minor.x = element_blank(),\n",
        "        panel.spacing.y = unit(0, \"lines\"),\n",
        "        panel.background = element_rect(\n",
        "            color = \"black\",\n",
        "            fill = \"white\",\n",
        "            linewidth = 0.1\n",
        "        ),\n",
        "        text = element_text(\n",
        "            family = \"Arial\",\n",
        "            size = 7\n",
        "        )\n",
        "    )\n",
        "data$alpha <- NULL\n",
        "data$persona <- NULL\n",
        "data <- data[!duplicated(data), ]\n",
        "g2 <- ggplot(data, aes(grp, bias)) +\n",
        "    geom_text(aes(label = labs),\n",
        "        hjust = -0.1,\n",
        "        family = \"Arial\",\n",
        "        size = 7 / .pt\n",
        "    ) +\n",
        "    coord_flip() +\n",
        "    ylab(\"Bias\") +\n",
        "    scale_y_continuous(\n",
        "        breaks = c(0.00, 1.00),\n",
        "        limits = c(0, 1)\n",
        "    ) +\n",
        "    geom_bar(stat = \"identity\", fill = \"black\") +\n",
        "    facet_nested(\n",
        "        rows = vars(measure, attribute, model),\n",
        "        labeller = label_parsed\n",
        "    ) +\n",
        "    theme(\n",
        "        axis.text.y = element_blank(),\n",
        "        axis.title.y = element_blank(),\n",
        "        axis.ticks.y = element_blank(),\n",
        "        axis.ticks = element_line(size = 0.1),\n",
        "        axis.text = element_text(\n",
        "            family = \"Arial\",\n",
        "            size = 7\n",
        "        ),\n",
        "        strip.text = element_blank(),\n",
        "        strip.background = element_blank(),\n",
        "        panel.grid = element_line(\n",
        "            color = \"black\",\n",
        "            size = 0.1,\n",
        "            linetype = 2\n",
        "        ),\n",
        "        panel.grid.major.y = element_blank(),\n",
        "        panel.grid.minor.y = element_blank(),\n",
        "        panel.grid.minor.x = element_blank(),\n",
        "        panel.spacing.y = unit(0, \"lines\"),\n",
        "        panel.background = element_rect(\n",
        "            color = \"black\",\n",
        "            fill = \"white\",\n",
        "            linewidth = 0.1\n",
        "        ),\n",
        "        text = element_text(\n",
        "            family = \"Arial\",\n",
        "            size = 7\n",
        "        )\n",
        "    )\n",
        "g1 + g2 + plot_layout(widths = c(3, 1))\n",
        "ggsave(\n",
        "    \"/content/drive/MyDrive/datasets/cleaning/SBIC.eps\",\n",
        "    height = 20,\n",
        "    width = 18,\n",
        "    units = \"cm\"\n",
        ")"
      ]
    },
    {
      "cell_type": "markdown",
      "source": [
        "# Bias score computation using finer-grained categories of personas"
      ],
      "metadata": {
        "id": "icU7OULnnJgM"
      }
    },
    {
      "cell_type": "code",
      "source": [
        "%%R\n",
        "# Religion\n",
        "print('Religion')\n",
        "print(round(Gini_RSV(alpha_ib_0301$alpha[15:20])[[1]], digits = 3))\n",
        "print(round(Gini_RSV(alpha_ib_0613$alpha[15:20])[[1]], digits = 3))\n",
        "\n",
        "# Origin\n",
        "print('Origin')\n",
        "print(round(Gini_RSV(alpha_ib_0301$alpha[23:25])[[1]], digits = 3))\n",
        "print(round(Gini_RSV(alpha_ib_0613$alpha[23:25])[[1]], digits = 3))\n",
        "\n",
        "# Age\n",
        "print('Age')\n",
        "print(round(Gini_RSV(alpha_ib_0301$alpha[1:2])[[1]], digits = 3))\n",
        "print(round(Gini_RSV(alpha_ib_0613$alpha[1:2])[[1]], digits = 3))\n",
        "\n",
        "# Weight\n",
        "print('Weight')\n",
        "print(round(Gini_RSV(alpha_ib_0301$alpha[3:4])[[1]], digits = 3))\n",
        "print(round(Gini_RSV(alpha_ib_0613$alpha[3:4])[[1]], digits = 3))\n",
        "\n",
        "# Weight\n",
        "print('Height')\n",
        "print(round(Gini_RSV(alpha_ib_0301$alpha[5:6])[[1]], digits = 3))\n",
        "print(round(Gini_RSV(alpha_ib_0613$alpha[5:6])[[1]], digits = 3))\n",
        "\n",
        "# Attractiveness\n",
        "print('Attractiveness')\n",
        "print(round(Gini_RSV(alpha_ib_0301$alpha[7:8])[[1]], digits = 3))\n",
        "print(round(Gini_RSV(alpha_ib_0613$alpha[7:8])[[1]], digits = 3))\n",
        "\n",
        "# Socio-economic\n",
        "print('Socio-economic')\n",
        "print(round(Gini_RSV(alpha_ib_0301$alpha[54:56])[[1]], digits = 3))\n",
        "print(round(Gini_RSV(alpha_ib_0613$alpha[54:56])[[1]], digits = 3))\n",
        "\n",
        "# Political\n",
        "print('Political')\n",
        "print(round(Gini_RSV(alpha_ib_0301$alpha[57:62])[[1]], digits = 3))\n",
        "print(round(Gini_RSV(alpha_ib_0613$alpha[57:62])[[1]], digits = 3))"
      ],
      "metadata": {
        "id": "b00jt5vQnS6L"
      },
      "execution_count": null,
      "outputs": []
    },
    {
      "cell_type": "markdown",
      "metadata": {
        "id": "aOhHaMnFOVDR"
      },
      "source": [
        "# Double check Krippendorff's alpha coefficients"
      ]
    },
    {
      "cell_type": "code",
      "execution_count": null,
      "metadata": {
        "id": "Ov8T9qefOU6K"
      },
      "outputs": [],
      "source": [
        "def double_check_alpha(df):\n",
        "    for i in df.columns:\n",
        "        print(i)\n",
        "        print(np.round(krippendorff.alpha(\n",
        "            df[['predicted_q1a_labels_base',\n",
        "                i]].T.to_numpy().tolist(),\n",
        "            level_of_measurement='nominal'), 3))\n",
        "\n",
        "\n",
        "double_check_alpha(SBIC_0301.iloc[:, 15:])\n",
        "print()\n",
        "double_check_alpha(SBIC_0613.iloc[:, 15:])"
      ]
    }
  ],
  "metadata": {
    "colab": {
      "provenance": []
    },
    "kernelspec": {
      "display_name": "Python 3",
      "name": "python3"
    },
    "language_info": {
      "name": "python"
    }
  },
  "nbformat": 4,
  "nbformat_minor": 0
}