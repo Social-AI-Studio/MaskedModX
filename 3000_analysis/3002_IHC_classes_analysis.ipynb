{
  "cells": [
    {
      "cell_type": "markdown",
      "source": [
        "# Mount drive"
      ],
      "metadata": {
        "id": "yrgHR3UFdwR9"
      }
    },
    {
      "cell_type": "code",
      "source": [
        "from google.colab import drive\n",
        "drive.mount('/content/drive')"
      ],
      "metadata": {
        "id": "SpEe5UCtd0X9"
      },
      "execution_count": null,
      "outputs": []
    },
    {
      "cell_type": "markdown",
      "source": [
        "# Import libraries"
      ],
      "metadata": {
        "id": "OLvOgYkLgRSI"
      }
    },
    {
      "cell_type": "code",
      "source": [
        "!pip install krippendorff"
      ],
      "metadata": {
        "id": "OkTXCDE2qMyY"
      },
      "execution_count": null,
      "outputs": []
    },
    {
      "cell_type": "code",
      "execution_count": 3,
      "metadata": {
        "id": "MdDzE809cvfZ"
      },
      "outputs": [],
      "source": [
        "import krippendorff\n",
        "import numpy as np\n",
        "import pandas as pd\n",
        "# Prevent AttributeError. via\n",
        "# https://stackoverflow.com/a/76404841\n",
        "pd.DataFrame.iteritems = pd.DataFrame.items\n",
        "from sklearn.metrics import f1_score"
      ]
    },
    {
      "cell_type": "code",
      "execution_count": 4,
      "metadata": {
        "id": "lE5S2M-394YJ"
      },
      "outputs": [],
      "source": [
        "%load_ext rpy2.ipython"
      ]
    },
    {
      "cell_type": "code",
      "execution_count": null,
      "metadata": {
        "id": "RRSZu_bS3gSY"
      },
      "outputs": [],
      "source": [
        "%%R\n",
        "install.packages(\"dplyr\")\n",
        "install.packages(\"ggh4x\")\n",
        "devtools::install_github(\"hadley/ggplot2\")\n",
        "devtools::install_github(\"cran/GiniWegNeg\")\n",
        "devtools::install_github(\"kgwet/irrCAC\")\n",
        "install.packages(\"patchwork\")\n",
        "install.packages(\"showtext\")\n",
        "install.packages(\"stringr\")\n",
        "library(dplyr)\n",
        "library(ggh4x)\n",
        "library(ggplot2)\n",
        "library(GiniWegNeg)\n",
        "library(irrCAC)\n",
        "library(patchwork)\n",
        "library(showtext)\n",
        "# Need to download Arial.ttf and upload it to your Google Drive prior.\n",
        "font_add(\"Arial\", regular = \"/content/drive/MyDrive/Arial.ttf\")\n",
        "library(stringr)"
      ]
    },
    {
      "cell_type": "markdown",
      "source": [
        "# Import datasets"
      ],
      "metadata": {
        "id": "EFQOwtSCd2Eu"
      }
    },
    {
      "cell_type": "code",
      "execution_count": 6,
      "metadata": {
        "id": "YEg_ED1g_AzZ"
      },
      "outputs": [],
      "source": [
        "IHC_classes_0301 = pd.read_csv(\n",
        "    '/content/drive/MyDrive/datasets/cleaning/'\n",
        "    'IHC_classes_predictions_cleaned_gpt-3.5-turbo-0301.tsv',\n",
        "    sep='\\t')\n",
        "IHC_classes_0301  = IHC_classes_0301.reset_index(drop=True)\n",
        "IHC_classes_0613 = pd.read_csv(\n",
        "    '/content/drive/MyDrive/datasets/cleaning/'\n",
        "    'IHC_classes_predictions_cleaned_gpt-3.5-turbo-0613.tsv',\n",
        "    sep='\\t')\n",
        "IHC_classes_0613 = IHC_classes_0613.reset_index(drop=True)"
      ]
    },
    {
      "cell_type": "markdown",
      "source": [
        "# Compute macro F1-scores"
      ],
      "metadata": {
        "id": "YrXsSoi3d7cW"
      }
    },
    {
      "cell_type": "code",
      "source": [
        "def compute_F1(df):\n",
        "    for i in df.iloc[:, 2:].columns:\n",
        "        print(i)\n",
        "        print(np.round(f1_score(df['class'],\n",
        "                                df[i],\n",
        "                                average='macro'),\n",
        "                       3))\n",
        "\n",
        "\n",
        "compute_F1(IHC_classes_0301)\n",
        "print()\n",
        "compute_F1(IHC_classes_0613)"
      ],
      "metadata": {
        "id": "xfeFPiV0H7ek"
      },
      "execution_count": null,
      "outputs": []
    },
    {
      "cell_type": "markdown",
      "source": [
        "# Define a function to compute and interpret Krippendorff's alpha coefficients"
      ],
      "metadata": {
        "id": "DGHBXBE1ehpX"
      }
    },
    {
      "cell_type": "code",
      "source": [
        "%%R\n",
        "compute_alpha <- function(df, reference, model, measure) {\n",
        "    alpha_list <- c()\n",
        "    for (i in seq_along(colnames(df))) {\n",
        "        print(colnames(df)[i])\n",
        "        # Retrieve and interpret Krippendorff's alpha values. via\n",
        "        # https://cran.r-project.org/web/packages/irrCAC/vignettes/\n",
        "        # benchmarking.html\n",
        "        a <- krippen.alpha.raw(df[, c(reference, colnames(df)[i])])\n",
        "        print(a$est)\n",
        "        print(a$categories)\n",
        "        print(landis.koch.bf(a$est$coeff.val, a$est$coeff.se))\n",
        "        if (i > 1) {\n",
        "            alpha_list[(i - 1)] <- a$est$coeff.val\n",
        "        }\n",
        "    }\n",
        "    res <- data.frame(\n",
        "        alpha = alpha_list,\n",
        "        persona = colnames(df[, -1]),\n",
        "        model = rep(model, length(alpha)),\n",
        "        measure = rep(measure, length(alpha))\n",
        "    )\n",
        "    return(res)\n",
        "}"
      ],
      "metadata": {
        "id": "T07rkzs73k_M"
      },
      "execution_count": 8,
      "outputs": []
    },
    {
      "cell_type": "markdown",
      "source": [
        "# Call the `compute_alpha` function to compute and interpret Krippendorff's alpha coefficients between the personas and the no-persona defaults"
      ],
      "metadata": {
        "id": "1NC0VWgaxSaR"
      }
    },
    {
      "cell_type": "code",
      "source": [
        "# Import data between languages. via\n",
        "# https://www.askpython.com/python/examples/\n",
        "# use-r-and-python-in-the-same-notebook\n",
        "%%R -i IHC_classes_0301\n",
        "alpha_ib_0301 <- compute_alpha(IHC_classes_0301[, 3:22], \"predicted_classes_base\", \"gpt-3.5-turbo-\\\"0301\\\"\", \"\\\"alpha\\\"[ib]\")\n",
        "print(alpha_ib_0301)"
      ],
      "metadata": {
        "id": "GJWbhqjZ3zrD"
      },
      "execution_count": null,
      "outputs": []
    },
    {
      "cell_type": "code",
      "source": [
        "# Import data between languages. via\n",
        "# https://www.askpython.com/python/examples/\n",
        "# use-r-and-python-in-the-same-notebook\n",
        "%%R -i IHC_classes_0613\n",
        "alpha_ib_0613 <- compute_alpha(IHC_classes_0613[, 3:22], \"predicted_classes_base\", \"gpt-3.5-turbo-\\\"0613\\\"\", \"\\\"alpha\\\"[ib]\")\n",
        "print(alpha_ib_0613)"
      ],
      "metadata": {
        "id": "rqyZML1fAsb-"
      },
      "execution_count": null,
      "outputs": []
    },
    {
      "cell_type": "markdown",
      "source": [
        "# Plot Krippendorff's alpha coefficients and Bias"
      ],
      "metadata": {
        "id": "H964p80uPtrM"
      }
    },
    {
      "cell_type": "code",
      "source": [
        "%%R\n",
        "showtext_auto()\n",
        "data <- rbind(alpha_ib_0301, alpha_ib_0613)\n",
        "# Replace spaces with underscores. via\n",
        "# https://stackoverflow.com/a/53107084\n",
        "data$persona <- gsub(\"_\", \" \", data$persona)\n",
        "# Remove first few words. via\n",
        "# https://stackoverflow.com/a/64889117\n",
        "data$persona <- sub(\"^\\\\w+\\\\s\\\\w+\\\\s\\\\w+\\\\s\", \"\", data$persona)\n",
        "# Remove everything after specified substring. via\n",
        "# https://stackoverflow.com/a/53503384\n",
        "data$persona <- sub(\"in the.+$\", \"\", data$persona)\n",
        "data$persona <- Map(paste, data$persona, \"...\")\n",
        "# Compute bias\n",
        "data$bias <- c(\n",
        "    rep(Gini_RSV(alpha_ib_0301$alpha[1:4])[[1]], 4),\n",
        "    rep(Gini_RSV(alpha_ib_0301$alpha[5:7])[[1]], 3),\n",
        "    rep(Gini_RSV(alpha_ib_0301$alpha[8:13])[[1]], 6),\n",
        "    rep(Gini_RSV(alpha_ib_0301$alpha[14:19])[[1]], 6),\n",
        "    rep(Gini_RSV(alpha_ib_0613$alpha[1:4])[[1]], 4),\n",
        "    rep(Gini_RSV(alpha_ib_0613$alpha[5:7])[[1]], 3),\n",
        "    rep(Gini_RSV(alpha_ib_0613$alpha[8:13])[[1]], 6),\n",
        "    rep(Gini_RSV(alpha_ib_0613$alpha[14:19])[[1]], 6)\n",
        ")\n",
        "data$labs <- c(\n",
        "    rep(format(round(Gini_RSV(alpha_ib_0301$alpha[1:4])[[1]], digits = 3),\n",
        "        nsmall = 3\n",
        "    ), 4),\n",
        "    rep(format(round(Gini_RSV(alpha_ib_0301$alpha[5:7])[[1]], digits = 3),\n",
        "        nsmall = 3\n",
        "    ), 3),\n",
        "    rep(format(round(Gini_RSV(alpha_ib_0301$alpha[8:13])[[1]], digits = 3),\n",
        "        nsmall = 3\n",
        "    ), 6),\n",
        "    rep(format(round(Gini_RSV(alpha_ib_0301$alpha[14:19])[[1]], digits = 3),\n",
        "        nsmall = 3\n",
        "    ), 6),\n",
        "    rep(format(round(Gini_RSV(alpha_ib_0613$alpha[1:4])[[1]], digits = 3),\n",
        "        nsmall = 3\n",
        "    ), 4),\n",
        "    rep(format(round(Gini_RSV(alpha_ib_0613$alpha[5:7])[[1]], digits = 3),\n",
        "        nsmall = 3\n",
        "    ), 3),\n",
        "    rep(format(round(Gini_RSV(alpha_ib_0613$alpha[8:13])[[1]], digits = 3),\n",
        "        nsmall = 3\n",
        "    ), 6),\n",
        "    rep(format(round(Gini_RSV(alpha_ib_0613$alpha[14:19])[[1]], digits = 3),\n",
        "        nsmall = 3\n",
        "    ), 6)\n",
        ")\n",
        "data$attribute <- c(\n",
        "    rep(\"Gender/Gender~identity/Sexuality\", 4),\n",
        "    rep(\"Origin\", 3),\n",
        "    rep(\"Race/Ethnicity\", 6),\n",
        "    rep(\"Religion\", 6),\n",
        "    rep(\"Gender/Gender~identity/Sexuality\", 4),\n",
        "    rep(\"Origin\", 3),\n",
        "    rep(\"Race/Ethnicity\", 6),\n",
        "    rep(\"Religion\", 6)\n",
        ")\n",
        "data$grp <- c(rep(1, 38))\n",
        "# Dot plots. via\n",
        "# https://uc-r.github.io/cleveland-dot-plots\n",
        "g1 <- ggplot(\n",
        "    data,\n",
        "    aes(alpha, grp)\n",
        ") +\n",
        "    geom_line(aes(group = grp),\n",
        "        size = 0.05\n",
        "    ) +\n",
        "    geom_point(size = 0.1) +\n",
        "    # Label max value dots. via\n",
        "    # https://stackoverflow.com/a/48351513\n",
        "    geom_text(\n",
        "        data = . %>% group_by(attribute, model) %>%\n",
        "            filter(alpha == max(alpha)),\n",
        "        # Wrap and truncate text. via\n",
        "        # https://stackoverflow.com/a/73357493\n",
        "        aes(label = str_wrap(persona,\n",
        "            width = 18\n",
        "        )),\n",
        "        hjust = 0,\n",
        "        family = \"Arial\",\n",
        "        size = 7 / .pt,\n",
        "        nudge_x = 0.01,\n",
        "        lineheight = 1\n",
        "    ) +\n",
        "    scale_x_continuous(\n",
        "        breaks = c(-.25, 0, .25, .5, .75, 1),\n",
        "        limits = c(-.25, 1)\n",
        "    ) +\n",
        "    xlab(\"Krippendorff's alpha coefficient\") +\n",
        "    facet_nested(\n",
        "        rows = vars(attribute, model),\n",
        "        switch = \"y\",\n",
        "        labeller = label_parsed,\n",
        "        strip = strip_nested(size = \"variable\")\n",
        "    ) +\n",
        "    theme(\n",
        "        axis.text.y = element_blank(),\n",
        "        axis.title.y = element_blank(),\n",
        "        axis.ticks.y = element_blank(),\n",
        "        axis.ticks = element_line(size = 0.1),\n",
        "        axis.text = element_text(\n",
        "            family = \"Arial\",\n",
        "            size = 7\n",
        "        ),\n",
        "        strip.text.y.left = element_text(\n",
        "            angle = 0,\n",
        "            family = \"Arial\",\n",
        "            size = 7\n",
        "        ),\n",
        "        strip.background = element_rect(\n",
        "            colour = \"white\",\n",
        "            fill = \"#ECECEC\"\n",
        "        ),\n",
        "        panel.grid = element_line(\n",
        "            color = \"black\",\n",
        "            size = 0.1,\n",
        "            linetype = 2\n",
        "        ),\n",
        "        panel.grid.major.y = element_blank(),\n",
        "        panel.grid.minor.y = element_blank(),\n",
        "        panel.grid.minor.x = element_blank(),\n",
        "        panel.spacing.y = unit(0, \"lines\"),\n",
        "        panel.background = element_rect(\n",
        "            color = \"black\",\n",
        "            fill = \"white\",\n",
        "            linewidth = 0.1\n",
        "        ),\n",
        "        text = element_text(\n",
        "            family = \"Arial\",\n",
        "            size = 7\n",
        "        )\n",
        "    )\n",
        "data$alpha <- NULL\n",
        "data$persona <- NULL\n",
        "data <- data[!duplicated(data), ]\n",
        "g2 <- ggplot(\n",
        "    data,\n",
        "    aes(grp, bias)\n",
        ") +\n",
        "    geom_text(aes(label = labs),\n",
        "        hjust = -0.2,\n",
        "        family = \"Arial\",\n",
        "        size = 7 / .pt\n",
        "    ) +\n",
        "    coord_flip() +\n",
        "    ylab(\"Bias\") +\n",
        "    scale_y_continuous(\n",
        "        breaks = c(0.00, 1.00),\n",
        "        limits = c(0, 1)\n",
        "    ) +\n",
        "    geom_bar(\n",
        "        stat = \"identity\",\n",
        "        fill = \"black\"\n",
        "    ) +\n",
        "    facet_nested(\n",
        "        rows = vars(attribute, model),\n",
        "        labeller = label_parsed\n",
        "    ) +\n",
        "    theme(\n",
        "        axis.text.y = element_blank(),\n",
        "        axis.title.y = element_blank(),\n",
        "        axis.ticks.y = element_blank(),\n",
        "        axis.ticks = element_line(size = 0.1),\n",
        "        axis.text = element_text(\n",
        "            family = \"Arial\",\n",
        "            size = 7\n",
        "        ),\n",
        "        strip.text = element_blank(),\n",
        "        strip.background = element_blank(),\n",
        "        panel.grid = element_line(\n",
        "            color = \"black\",\n",
        "            size = 0.1,\n",
        "            linetype = 2\n",
        "        ),\n",
        "        panel.grid.major.y = element_blank(),\n",
        "        panel.grid.minor.y = element_blank(),\n",
        "        panel.grid.minor.x = element_blank(),\n",
        "        panel.spacing.y = unit(0, \"lines\"),\n",
        "        panel.background = element_rect(\n",
        "            color = \"black\",\n",
        "            fill = \"white\",\n",
        "            linewidth = 0.1\n",
        "        ),\n",
        "        text = element_text(\n",
        "            family = \"Arial\",\n",
        "            size = 7\n",
        "        )\n",
        "    )\n",
        "g1 + g2 + plot_layout(widths = c(4, 1))\n",
        "ggsave(\n",
        "    \"/content/drive/MyDrive/datasets/cleaning/IHC_classes.eps\",\n",
        "    height = 8,\n",
        "    width = 18,\n",
        "    units = \"cm\"\n",
        ")"
      ],
      "metadata": {
        "id": "RkaJLVRvPxoH"
      },
      "execution_count": 11,
      "outputs": []
    },
    {
      "cell_type": "markdown",
      "source": [
        "# Double check Krippendorff's alpha coefficients"
      ],
      "metadata": {
        "id": "T_iW3VYCqVTw"
      }
    },
    {
      "cell_type": "code",
      "source": [
        "def double_check_alpha(df, reference):\n",
        "    for i in df.columns:\n",
        "        print(i)\n",
        "        print(np.round(krippendorff.alpha(\n",
        "            df[[reference, i]].T.to_numpy().tolist(),\n",
        "            level_of_measurement='nominal'), 3))\n",
        "\n",
        "\n",
        "double_check_alpha(IHC_classes_0301.iloc[:, 2:], 'predicted_classes_base')\n",
        "print()\n",
        "double_check_alpha(IHC_classes_0613.iloc[:, 2:], 'predicted_classes_base')"
      ],
      "metadata": {
        "id": "MZqBkI-6AMrs"
      },
      "execution_count": null,
      "outputs": []
    }
  ],
  "metadata": {
    "colab": {
      "provenance": []
    },
    "kernelspec": {
      "display_name": "Python 3",
      "name": "python3"
    },
    "language_info": {
      "name": "python"
    }
  },
  "nbformat": 4,
  "nbformat_minor": 0
}