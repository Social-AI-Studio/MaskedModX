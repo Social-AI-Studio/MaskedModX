{
  "nbformat": 4,
  "nbformat_minor": 0,
  "metadata": {
    "colab": {
      "provenance": [],
      "machine_shape": "hm",
      "gpuType": "A100"
    },
    "kernelspec": {
      "name": "python3",
      "display_name": "Python 3"
    },
    "language_info": {
      "name": "python"
    },
    "accelerator": "GPU"
  },
  "cells": [
    {
      "cell_type": "markdown",
      "source": [
        "# Mount drive"
      ],
      "metadata": {
        "id": "vDaPkpBkUdNj"
      }
    },
    {
      "cell_type": "code",
      "source": [
        "from google.colab import drive\n",
        "drive.mount(\"/content/drive\")"
      ],
      "metadata": {
        "id": "03IvRW_dUbFb"
      },
      "execution_count": null,
      "outputs": []
    },
    {
      "cell_type": "markdown",
      "source": [
        "# Import libraries"
      ],
      "metadata": {
        "id": "20fJ8J891X_-"
      }
    },
    {
      "cell_type": "code",
      "source": [
        "!pip install --upgrade pip  # ensures that pip is current\n",
        "!git clone https://github.com/google-research/bleurt.git\n",
        "%cd bleurt\n",
        "!pip install ."
      ],
      "metadata": {
        "id": "AIvxIx53RMEi"
      },
      "execution_count": null,
      "outputs": []
    },
    {
      "cell_type": "code",
      "execution_count": null,
      "metadata": {
        "id": "H_FpuOpAXgqu"
      },
      "outputs": [],
      "source": [
        "from bleurt import score\n",
        "import numpy as np\n",
        "import pandas as pd\n",
        "# Prevent AttributeError. via\n",
        "# https://stackoverflow.com/a/76404841\n",
        "pd.DataFrame.iteritems = pd.DataFrame.items\n",
        "from statistics import mean\n",
        "import urllib.request\n",
        "from zipfile import ZipFile"
      ]
    },
    {
      "cell_type": "code",
      "source": [
        "%load_ext rpy2.ipython"
      ],
      "metadata": {
        "id": "Idbi3ze_Xn7U"
      },
      "execution_count": null,
      "outputs": []
    },
    {
      "cell_type": "code",
      "source": [
        "%%R\n",
        "install.packages(\"dplyr\")\n",
        "install.packages(\"ggh4x\")\n",
        "devtools::install_github(\"hadley/ggplot2\")\n",
        "devtools::install_github(\"cran/GiniWegNeg\")\n",
        "install.packages(\"patchwork\")\n",
        "install.packages(\"showtext\")\n",
        "install.packages(\"stringr\")\n",
        "library(dplyr)\n",
        "library(ggh4x)\n",
        "library(ggplot2)\n",
        "library(GiniWegNeg)\n",
        "library(patchwork)\n",
        "library(showtext)\n",
        "# Need to download Arial.ttf and upload it to your Google Drive prior.\n",
        "font_add(\"Arial\", regular = \"/content/drive/MyDrive/Arial.ttf\")\n",
        "library(stringr)"
      ],
      "metadata": {
        "id": "E85Heh-UXoze"
      },
      "execution_count": null,
      "outputs": []
    },
    {
      "cell_type": "markdown",
      "source": [
        "# Import datasets"
      ],
      "metadata": {
        "id": "EXHWFJW23GXl"
      }
    },
    {
      "cell_type": "code",
      "source": [
        "IHC_NLE_0301 = pd.read_csv(\n",
        "    '/content/drive/MyDrive/datasets/cleaning/'\n",
        "    'IHC_NLE_predictions_cleaned_gpt-3.5-turbo-0301.tsv',\n",
        "    sep='\\t')\n",
        "IHC_NLE_0301  = IHC_NLE_0301.reset_index(drop=True)\n",
        "IHC_NLE_0613 = pd.read_csv(\n",
        "    '/content/drive/MyDrive/datasets/cleaning/'\n",
        "    'IHC_NLE_predictions_cleaned_gpt-3.5-turbo-0613.tsv',\n",
        "    sep='\\t')\n",
        "IHC_NLE_0613 = IHC_NLE_0613.reset_index(drop=True)"
      ],
      "metadata": {
        "id": "ZP3sW0ri3i8W"
      },
      "execution_count": null,
      "outputs": []
    },
    {
      "cell_type": "markdown",
      "source": [
        "# Download the **BLEURT-20** checkpoint"
      ],
      "metadata": {
        "id": "52ylhmE-Nxi7"
      }
    },
    {
      "cell_type": "code",
      "source": [
        "urllib.request.urlretrieve(\n",
        "    'https://storage.googleapis.com/bleurt-oss-21/BLEURT-20.zip',\n",
        "    '/content/drive/MyDrive/BLEURT-20.zip')"
      ],
      "metadata": {
        "id": "u0WYXltrj8Re"
      },
      "execution_count": null,
      "outputs": []
    },
    {
      "cell_type": "code",
      "source": [
        "# Unzip file. via\n",
        "# https://www.geeksforgeeks.org/unzipping-files-in-python/\n",
        "with ZipFile('/content/drive/MyDrive/BLEURT-20.zip',\n",
        "             'r') as zObject:\n",
        "    zObject.extractall('/content/drive/MyDrive/')"
      ],
      "metadata": {
        "id": "opd0DPBNmpDo"
      },
      "execution_count": null,
      "outputs": []
    },
    {
      "cell_type": "markdown",
      "source": [
        "# Define a function to get BLEURT scores"
      ],
      "metadata": {
        "id": "O4AefhcWUseX"
      }
    },
    {
      "cell_type": "code",
      "source": [
        "checkpoint = \"/content/drive/MyDrive/BLEURT-20\"\n",
        "# Use BLEURT as a Python library. via\n",
        "# https://github.com/google-research/bleurt/tree/master\n",
        "base = 'predicted_NLE_base_implied_statement_of_implicitly_hateful_tweet'\n",
        "def get_BLEURT_scores(df, model):\n",
        "    personas = []\n",
        "    bleurt_scores = []\n",
        "    for i in df.iloc[:, 5:]:\n",
        "        if 'implied_statement_of_implicitly_hateful_tweet' in i:\n",
        "            references = df[base].tolist()\n",
        "            candidates = df[i].tolist()\n",
        "            scorer = score.BleurtScorer(checkpoint)\n",
        "            scores = scorer.score(references=references, candidates=candidates)\n",
        "            print(i)\n",
        "            print(np.round(mean(scores), 3))\n",
        "            personas.append(i)\n",
        "            bleurt_scores.append(mean(scores))\n",
        "            model_list = [model] * len(personas)\n",
        "    return pd.DataFrame(list(zip(personas, bleurt_scores, model_list)),\n",
        "                        columns =['persona', 'BLEURT', 'model'])"
      ],
      "metadata": {
        "id": "OExI6Zv4Rm8E"
      },
      "execution_count": null,
      "outputs": []
    },
    {
      "cell_type": "markdown",
      "source": [
        "# Call the `get_BLEURT_scores` function"
      ],
      "metadata": {
        "id": "8O0aHgFvUw0X"
      }
    },
    {
      "cell_type": "markdown",
      "source": [
        "You will require around 8.7GB of GPU RAM. Paid versions of Colab will give you access to faster GPUs. Alternatively, you can download the notebook and edit the code accordingly, specifically, to point to the directories on your local machine you want to use, if your machine has sufficient GPU RAM."
      ],
      "metadata": {
        "id": "K_j9eum0U3Hn"
      }
    },
    {
      "cell_type": "code",
      "source": [
        "bleurt_0301 = get_BLEURT_scores(IHC_NLE_0301, 'gpt-3.5-turbo-\\\"0301\\\"')"
      ],
      "metadata": {
        "id": "zUD9tza_RrQK"
      },
      "execution_count": null,
      "outputs": []
    },
    {
      "cell_type": "code",
      "source": [
        "bleurt_0613 = get_BLEURT_scores(IHC_NLE_0613, 'gpt-3.5-turbo-\\\"0613\\\"')"
      ],
      "metadata": {
        "id": "GSVKJTmcRwL9"
      },
      "execution_count": null,
      "outputs": []
    },
    {
      "cell_type": "markdown",
      "source": [
        "# Plot mean BLEURT scores and Bias"
      ],
      "metadata": {
        "id": "9elGXGAaGo62"
      }
    },
    {
      "cell_type": "code",
      "source": [
        "%%R -i bleurt_0301 -i bleurt_0613\n",
        "showtext_auto()\n",
        "rownames(bleurt_0301) <- NULL\n",
        "rownames(bleurt_0613) <- NULL\n",
        "data <- rbind(bleurt_0301, bleurt_0613)\n",
        "# Replace spaces with underscores. via\n",
        "# https://stackoverflow.com/a/53107084\n",
        "data$persona <- gsub(\"_\", \" \", data$persona)\n",
        "# Remove first few words. via\n",
        "# https://stackoverflow.com/a/64889117\n",
        "data$persona <- sub(\"^\\\\w+\\\\s\\\\w+\\\\s\\\\w+\\\\s\", \"\", data$persona)\n",
        "# Remove everything after specified substring. via\n",
        "# https://stackoverflow.com/a/53503384\n",
        "data$persona <- sub(\"States.+$\", \"States\", data$persona)\n",
        "# Compute bias\n",
        "data$bias <- c(\n",
        "    rep(Gini_RSV(bleurt_0301$BLEURT[1:4])[[1]], 4),\n",
        "    rep(Gini_RSV(bleurt_0301$BLEURT[5:7])[[1]], 3),\n",
        "    rep(Gini_RSV(bleurt_0301$BLEURT[8:13])[[1]], 6),\n",
        "    rep(Gini_RSV(bleurt_0301$BLEURT[14:19])[[1]], 6),\n",
        "    rep(Gini_RSV(bleurt_0613$BLEURT[1:4])[[1]], 4),\n",
        "    rep(Gini_RSV(bleurt_0613$BLEURT[5:7])[[1]], 3),\n",
        "    rep(Gini_RSV(bleurt_0613$BLEURT[8:13])[[1]], 6),\n",
        "    rep(Gini_RSV(bleurt_0613$BLEURT[14:19])[[1]], 6)\n",
        ")\n",
        "data$labs <- c(\n",
        "    rep(format(round(Gini_RSV(bleurt_0301$BLEURT[1:4])[[1]], digits = 3),\n",
        "        nsmall = 3\n",
        "    ), 4),\n",
        "    rep(format(round(Gini_RSV(bleurt_0301$BLEURT[5:7])[[1]], digits = 3),\n",
        "        nsmall = 3\n",
        "    ), 3),\n",
        "    rep(format(round(Gini_RSV(bleurt_0301$BLEURT[8:13])[[1]], digits = 3),\n",
        "        nsmall = 3\n",
        "    ), 6),\n",
        "    rep(format(round(Gini_RSV(bleurt_0301$BLEURT[14:19])[[1]], digits = 3),\n",
        "        nsmall = 3\n",
        "    ), 6),\n",
        "    rep(format(round(Gini_RSV(bleurt_0613$BLEURT[1:4])[[1]], digits = 3),\n",
        "        nsmall = 3\n",
        "    ), 4),\n",
        "    rep(format(round(Gini_RSV(bleurt_0613$BLEURT[5:7])[[1]], digits = 3),\n",
        "        nsmall = 3\n",
        "    ), 3),\n",
        "    rep(format(round(Gini_RSV(bleurt_0613$BLEURT[8:13])[[1]], digits = 3),\n",
        "        nsmall = 3\n",
        "    ), 6),\n",
        "    rep(format(round(Gini_RSV(bleurt_0613$BLEURT[14:19])[[1]], digits = 3),\n",
        "        nsmall = 3\n",
        "    ), 6)\n",
        ")\n",
        "data$attribute <- c(\n",
        "    rep(\"Gender/Gender~identity/Sexuality\", 4),\n",
        "    rep(\"Origin\", 3),\n",
        "    rep(\"Race/Ethnicity\", 6),\n",
        "    rep(\"Religion\", 6),\n",
        "    rep(\"Gender/Gender~identity/Sexuality\", 4),\n",
        "    rep(\"Origin\", 3),\n",
        "    rep(\"Race/Ethnicity\", 6),\n",
        "    rep(\"Religion\", 6)\n",
        ")\n",
        "data$grp <- c(rep(1, 38))\n",
        "# Dot plots. via\n",
        "# https://uc-r.github.io/cleveland-dot-plots\n",
        "g1 <- ggplot(\n",
        "    data,\n",
        "    aes(BLEURT, grp)\n",
        ") +\n",
        "    geom_line(aes(group = grp),\n",
        "        size = 0.05\n",
        "    ) +\n",
        "    geom_point(size = 0.1) +\n",
        "    # Label max value dots. via\n",
        "    # https://stackoverflow.com/a/48351513\n",
        "    geom_text(\n",
        "        data = . %>% group_by(attribute, model) %>%\n",
        "            filter(BLEURT == max(BLEURT)),\n",
        "        # Wrap and truncate text. via\n",
        "        # https://stackoverflow.com/a/73357493\n",
        "        aes(label = str_wrap(persona, width = 20)),\n",
        "        hjust = 0,\n",
        "        family = \"Arial\",\n",
        "        size = 7 / .pt,\n",
        "        nudge_x = 0.01,\n",
        "        lineheight = 1\n",
        "    ) +\n",
        "    scale_x_continuous(\n",
        "        breaks = c(0, .25, .5, .75, 1),\n",
        "        limits = c(0, 1)\n",
        "    ) +\n",
        "    xlab(\"Mean BLEURT\") +\n",
        "    facet_nested(\n",
        "        rows = vars(attribute, model),\n",
        "        switch = \"y\",\n",
        "        labeller = label_parsed,\n",
        "        strip = strip_nested(size = \"variable\")\n",
        "    ) +\n",
        "    theme(\n",
        "        axis.text.y = element_blank(),\n",
        "        axis.title.y = element_blank(),\n",
        "        axis.ticks.y = element_blank(),\n",
        "        axis.ticks = element_line(size = 0.1),\n",
        "        axis.text = element_text(\n",
        "            family = \"Arial\",\n",
        "            size = 7\n",
        "        ),\n",
        "        strip.text.y.left = element_text(\n",
        "            angle = 0,\n",
        "            family = \"Arial\",\n",
        "            size = 7\n",
        "        ),\n",
        "        strip.background = element_rect(\n",
        "            colour = \"white\",\n",
        "            fill = \"#ECECEC\"\n",
        "        ),\n",
        "        panel.grid = element_line(\n",
        "            color = \"black\",\n",
        "            size = 0.1,\n",
        "            linetype = 2\n",
        "        ),\n",
        "        panel.grid.major.y = element_blank(),\n",
        "        panel.grid.minor.y = element_blank(),\n",
        "        panel.grid.minor.x = element_blank(),\n",
        "        panel.spacing.y = unit(0, \"lines\"),\n",
        "        panel.background = element_rect(\n",
        "            color = \"black\",\n",
        "            fill = \"white\",\n",
        "            linewidth = 0.1\n",
        "        ),\n",
        "        text = element_text(\n",
        "            family = \"Arial\",\n",
        "            size = 7\n",
        "        )\n",
        "    )\n",
        "data$BLEURT <- NULL\n",
        "data$persona <- NULL\n",
        "data <- data[!duplicated(data), ]\n",
        "g2 <- ggplot(\n",
        "    data,\n",
        "    aes(grp, bias)\n",
        ") +\n",
        "    geom_text(aes(label = labs),\n",
        "        hjust = -0.2,\n",
        "        family = \"Arial\",\n",
        "        size = 7 / .pt\n",
        "    ) +\n",
        "    coord_flip() +\n",
        "    ylab(\"Bias\") +\n",
        "    scale_y_continuous(\n",
        "        breaks = c(0.00, 1.00),\n",
        "        limits = c(0, 1)\n",
        "    ) +\n",
        "    geom_bar(stat = \"identity\", fill = \"black\") +\n",
        "    facet_nested(\n",
        "        rows = vars(attribute, model),\n",
        "        labeller = label_parsed,\n",
        "        strip = strip_nested(size = \"variable\")\n",
        "    ) +\n",
        "    theme(\n",
        "        axis.text.y = element_blank(),\n",
        "        axis.title.y = element_blank(),\n",
        "        axis.ticks.y = element_blank(),\n",
        "        axis.ticks = element_line(size = 0.1),\n",
        "        axis.text = element_text(\n",
        "            family = \"Arial\",\n",
        "            size = 7\n",
        "        ),\n",
        "        strip.text = element_blank(),\n",
        "        strip.background = element_blank(),\n",
        "        panel.grid = element_line(\n",
        "            color = \"black\",\n",
        "            size = 0.1,\n",
        "            linetype = 2\n",
        "        ),\n",
        "        panel.grid.major.y = element_blank(),\n",
        "        panel.grid.minor.y = element_blank(),\n",
        "        panel.grid.minor.x = element_blank(),\n",
        "        panel.spacing.y = unit(0, \"lines\"),\n",
        "        panel.background = element_rect(\n",
        "            color = \"black\",\n",
        "            fill = \"white\",\n",
        "            linewidth = 0.1\n",
        "        ),\n",
        "        text = element_text(\n",
        "            family = \"Arial\",\n",
        "            size = 7\n",
        "        )\n",
        "    )\n",
        "g1 + g2 + plot_layout(widths = c(5, 1))\n",
        "ggsave(\n",
        "    \"/content/drive/MyDrive/datasets/cleaning/IHC_NLE.eps\",\n",
        "    height = 8,\n",
        "    width = 18,\n",
        "    units = \"cm\"\n",
        ")"
      ],
      "metadata": {
        "id": "acJBIyOHXxG2"
      },
      "execution_count": null,
      "outputs": []
    }
  ]
}