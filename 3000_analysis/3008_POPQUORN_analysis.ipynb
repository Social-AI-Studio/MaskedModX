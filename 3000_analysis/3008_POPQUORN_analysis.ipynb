{
  "cells": [
    {
      "cell_type": "markdown",
      "metadata": {
        "id": "st2_PkptOrVe"
      },
      "source": [
        "# Mount drive"
      ]
    },
    {
      "cell_type": "code",
      "execution_count": null,
      "metadata": {
        "id": "5-s2R46FOvU3"
      },
      "outputs": [],
      "source": [
        "from google.colab import drive\n",
        "drive.mount('/content/drive')"
      ]
    },
    {
      "cell_type": "markdown",
      "metadata": {
        "id": "SwIUc0syOArO"
      },
      "source": [
        "# Import libraries"
      ]
    },
    {
      "cell_type": "code",
      "execution_count": null,
      "metadata": {
        "id": "MdDzE809cvfZ"
      },
      "outputs": [],
      "source": [
        "import numpy as np\n",
        "import pandas as pd\n",
        "# Prevent AttributeError. via\n",
        "# https://stackoverflow.com/a/76404841\n",
        "pd.DataFrame.iteritems = pd.DataFrame.items\n",
        "import statistics"
      ]
    },
    {
      "cell_type": "code",
      "execution_count": null,
      "metadata": {
        "id": "lE5S2M-394YJ"
      },
      "outputs": [],
      "source": [
        "%load_ext rpy2.ipython"
      ]
    },
    {
      "cell_type": "code",
      "execution_count": null,
      "metadata": {
        "id": "RRSZu_bS3gSY"
      },
      "outputs": [],
      "source": [
        "%%R\n",
        "install.packages(\"dplyr\")\n",
        "install.packages(\"ggh4x\")\n",
        "devtools::install_github(\"hadley/ggplot2\")\n",
        "devtools::install_github(\"cran/GiniWegNeg\")\n",
        "devtools::install_github(\"kgwet/irrCAC\")\n",
        "install.packages(\"patchwork\")\n",
        "install.packages(\"showtext\")\n",
        "install.packages(\"stringr\")\n",
        "library(dplyr)\n",
        "library(ggh4x)\n",
        "library(ggplot2)\n",
        "library(GiniWegNeg)\n",
        "library(irrCAC)\n",
        "library(patchwork)\n",
        "library(showtext)\n",
        "# Need to download Arial.ttf and upload it to your Google Drive prior.\n",
        "font_add(\"Arial\", regular = \"/content/drive/MyDrive/Arial.ttf\")\n",
        "library(stringr)"
      ]
    },
    {
      "cell_type": "markdown",
      "metadata": {
        "id": "DWKbtsOEPPV-"
      },
      "source": [
        "# Import datasets"
      ]
    },
    {
      "cell_type": "markdown",
      "metadata": {
        "id": "rKnRGG4XccOj"
      },
      "source": [
        "## Dataset with annotations and annotator information"
      ]
    },
    {
      "cell_type": "code",
      "execution_count": null,
      "metadata": {
        "id": "S1cs6QAtkgfV"
      },
      "outputs": [],
      "source": [
        "raw_data = pd.read_csv('/content/drive/MyDrive/datasets/raw_data.csv')\n",
        "raw_data = raw_data.reset_index(drop=True)"
      ]
    },
    {
      "cell_type": "markdown",
      "metadata": {
        "id": "SzlxS648lUnJ"
      },
      "source": [
        "## GPT annotations"
      ]
    },
    {
      "cell_type": "code",
      "execution_count": null,
      "metadata": {
        "id": "YEg_ED1g_AzZ"
      },
      "outputs": [],
      "source": [
        "POPQUORN_0301 = pd.read_csv(\n",
        "    '/content/drive/MyDrive/datasets/cleaning/'\n",
        "    'POPQUORN_predictions_cleaned_gpt-3.5-turbo-0301.tsv',\n",
        "    sep='\\t')\n",
        "POPQUORN_0301 = POPQUORN_0301.reset_index(drop=True)\n",
        "POPQUORN_0613 = pd.read_csv(\n",
        "    '/content/drive/MyDrive/datasets/cleaning/'\n",
        "    'POPQUORN_predictions_cleaned_gpt-3.5-turbo-0613.tsv',\n",
        "    sep='\\t')\n",
        "POPQUORN_0613 = POPQUORN_0613.reset_index(drop=True)"
      ]
    },
    {
      "cell_type": "markdown",
      "metadata": {
        "id": "6IjDkrVfmAnp"
      },
      "source": [
        "# Aggregate actual annotations by demographic group"
      ]
    },
    {
      "cell_type": "code",
      "execution_count": null,
      "metadata": {
        "id": "ofcLsNkJl8Yd"
      },
      "outputs": [],
      "source": [
        "# Pandas Groupby and mode. via\n",
        "# https://stackoverflow.com/a/54304691 and\n",
        "# https://stackoverflow.com/a/10374456\n",
        "POPQUORN_age = raw_data.groupby(['text', 'age'])['offensiveness'].agg(\n",
        "    lambda x: int(np.round(statistics.mean(x)))).to_frame(\n",
        "    name='offensiveness_mean').reset_index()\n",
        "POPQUORN_education = raw_data.groupby(['text', 'education'])[\n",
        "    'offensiveness'].agg(lambda x: int(np.round(statistics.mean(x)))).to_frame(\n",
        "    name='offensiveness_mean').reset_index()\n",
        "POPQUORN_gender = raw_data.groupby(['text', 'gender'])['offensiveness'].agg(\n",
        "    lambda x: int(np.round(statistics.mean(x)))).to_frame(\n",
        "    name='offensiveness_mean').reset_index()\n",
        "POPQUORN_occupation = raw_data.groupby(['text', 'occupation'])[\n",
        "    'offensiveness'].agg(lambda x: int(np.round(statistics.mean(x)))).to_frame(\n",
        "    name='offensiveness_mean').reset_index()\n",
        "POPQUORN_race = raw_data.groupby(['text', 'race'])['offensiveness'].agg(\n",
        "    lambda x: int(np.round(statistics.mean(x)))).to_frame(\n",
        "    name='offensiveness_mean').reset_index()"
      ]
    },
    {
      "cell_type": "markdown",
      "metadata": {
        "id": "SiI9VNkQoFuh"
      },
      "source": [
        "# Define a function to compute and interpret Krippendorff's alpha coefficients between personas and actual annotators"
      ]
    },
    {
      "cell_type": "code",
      "execution_count": null,
      "metadata": {
        "id": "T07rkzs73k_M"
      },
      "outputs": [],
      "source": [
        "%%R\n",
        "compute_alpha_ia <- function(df_gold, df_pred, demog_var, demog_spec, persona,\n",
        "                             model, measure) {\n",
        "    df_gold <- df_gold[df_gold[demog_var] == demog_spec, ]\n",
        "    df <- merge(df_gold, df_pred[c(\"text\", persona)], by = \"text\")\n",
        "    df <- df[c(\"offensiveness_mean\", persona)]\n",
        "    print(nrow(df))\n",
        "    df <- as.matrix(sapply(df, as.numeric))\n",
        "    # Retrieve and interpret Krippendorff's alpha values. via\n",
        "    # https://cran.r-project.org/web/packages/irrCAC/vignettes/\n",
        "    # benchmarking.html\n",
        "    a <- krippen.alpha.raw(df,\n",
        "        weights = \"linear\",\n",
        "        categ.labels = c(1, 2, 3, 4, 5)\n",
        "    )\n",
        "    print(a$est)\n",
        "    print(a$categories)\n",
        "    print(landis.koch.bf(a$est$coeff.val, a$est$coeff.se))\n",
        "    res <- data.frame(\n",
        "        alpha = c(a$est$coeff.val),\n",
        "        persona = c(persona),\n",
        "        model = c(model),\n",
        "        measure = c(measure)\n",
        "    )\n",
        "    return(res)\n",
        "}"
      ]
    },
    {
      "cell_type": "markdown",
      "metadata": {
        "id": "ysOEfx4PpC3p"
      },
      "source": [
        "# Call the `compute_alpha_ia` function to compute and interpret Krippendorff's alpha coefficients between personas and actual annotators"
      ]
    },
    {
      "cell_type": "code",
      "execution_count": null,
      "metadata": {
        "id": "oOecsD02oxiD"
      },
      "outputs": [],
      "source": [
        "# Import data between languages. via\n",
        "# https://www.askpython.com/python/examples/\n",
        "# use-r-and-python-in-the-same-notebook\n",
        "%%R -i POPQUORN_age -i POPQUORN_0301\n",
        "alpha_ia_18_0301 <- compute_alpha_ia(\n",
        "    POPQUORN_age,\n",
        "    POPQUORN_0301,\n",
        "    \"age\",\n",
        "    \"18-24\",\n",
        "    \"predicted_scores_a_person_(aged_18-24)_in_the_United_States\",\n",
        "    \"gpt-3.5-turbo-\\\"0301\\\"\",\n",
        "    \"\\\"alpha\\\"[ia]\"\n",
        ")\n",
        "print(alpha_ia_18_0301)"
      ]
    },
    {
      "cell_type": "code",
      "execution_count": null,
      "metadata": {
        "id": "zomDiklOuQW_"
      },
      "outputs": [],
      "source": [
        "# Import data between languages. via\n",
        "# https://www.askpython.com/python/examples/\n",
        "# use-r-and-python-in-the-same-notebook\n",
        "%%R -i POPQUORN_age -i POPQUORN_0613\n",
        "alpha_ia_18_0613 <- compute_alpha_ia(\n",
        "    POPQUORN_age,\n",
        "    POPQUORN_0613,\n",
        "    \"age\",\n",
        "    \"18-24\",\n",
        "    \"predicted_scores_a_person_(aged_18-24)_in_the_United_States\",\n",
        "    \"gpt-3.5-turbo-\\\"0613\\\"\",\n",
        "    \"\\\"alpha\\\"[ia]\"\n",
        ")\n",
        "print(alpha_ia_18_0613)"
      ]
    },
    {
      "cell_type": "code",
      "execution_count": null,
      "metadata": {
        "id": "6ennukQsuFm5"
      },
      "outputs": [],
      "source": [
        "# Import data between languages. via\n",
        "# https://www.askpython.com/python/examples/\n",
        "# use-r-and-python-in-the-same-notebook\n",
        "%%R -i POPQUORN_age -i POPQUORN_0301\n",
        "alpha_ia_25_0301 <- compute_alpha_ia(\n",
        "    POPQUORN_age,\n",
        "    POPQUORN_0301,\n",
        "    \"age\",\n",
        "    \"25-29\",\n",
        "    \"predicted_scores_a_person_(aged_25-29)_in_the_United_States\",\n",
        "    \"gpt-3.5-turbo-\\\"0301\\\"\",\n",
        "    \"\\\"alpha\\\"[ia]\"\n",
        ")\n",
        "print(alpha_ia_25_0301)"
      ]
    },
    {
      "cell_type": "code",
      "execution_count": null,
      "metadata": {
        "id": "qFHsvAPuuoNI"
      },
      "outputs": [],
      "source": [
        "# Import data between languages. via\n",
        "# https://www.askpython.com/python/examples/\n",
        "# use-r-and-python-in-the-same-notebook\n",
        "%%R -i POPQUORN_age -i POPQUORN_0613\n",
        "alpha_ia_25_0613 <- compute_alpha_ia(\n",
        "    POPQUORN_age,\n",
        "    POPQUORN_0613,\n",
        "    \"age\",\n",
        "    \"25-29\",\n",
        "    \"predicted_scores_a_person_(aged_25-29)_in_the_United_States\",\n",
        "    \"gpt-3.5-turbo-\\\"0613\\\"\",\n",
        "    \"\\\"alpha\\\"[ia]\"\n",
        ")\n",
        "print(alpha_ia_25_0613)"
      ]
    },
    {
      "cell_type": "code",
      "execution_count": null,
      "metadata": {
        "id": "2fgk-7AquoTA"
      },
      "outputs": [],
      "source": [
        "# Import data between languages. via\n",
        "# https://www.askpython.com/python/examples/\n",
        "# use-r-and-python-in-the-same-notebook\n",
        "%%R -i POPQUORN_age -i POPQUORN_0301\n",
        "alpha_ia_30_0301 <- compute_alpha_ia(\n",
        "    POPQUORN_age,\n",
        "    POPQUORN_0301,\n",
        "    \"age\",\n",
        "    \"30-34\",\n",
        "    \"predicted_scores_a_person_(aged_30-34)_in_the_United_States\",\n",
        "    \"gpt-3.5-turbo-\\\"0301\\\"\",\n",
        "    \"\\\"alpha\\\"[ia]\"\n",
        ")\n",
        "print(alpha_ia_30_0301)"
      ]
    },
    {
      "cell_type": "code",
      "execution_count": null,
      "metadata": {
        "id": "hgs9UNSpvRUY"
      },
      "outputs": [],
      "source": [
        "# Import data between languages. via\n",
        "# https://www.askpython.com/python/examples/\n",
        "# use-r-and-python-in-the-same-notebook\n",
        "%%R -i POPQUORN_age -i POPQUORN_0613\n",
        "alpha_ia_30_0613 <- compute_alpha_ia(\n",
        "    POPQUORN_age,\n",
        "    POPQUORN_0613,\n",
        "    \"age\",\n",
        "    \"30-34\",\n",
        "    \"predicted_scores_a_person_(aged_30-34)_in_the_United_States\",\n",
        "    \"gpt-3.5-turbo-\\\"0613\\\"\",\n",
        "    \"\\\"alpha\\\"[ia]\"\n",
        ")\n",
        "print(alpha_ia_30_0613)"
      ]
    },
    {
      "cell_type": "code",
      "execution_count": null,
      "metadata": {
        "id": "vtuNF9aPvRXI"
      },
      "outputs": [],
      "source": [
        "# Import data between languages. via\n",
        "# https://www.askpython.com/python/examples/\n",
        "# use-r-and-python-in-the-same-notebook\n",
        "%%R -i POPQUORN_age -i POPQUORN_0301\n",
        "alpha_ia_35_0301 <- compute_alpha_ia(\n",
        "    POPQUORN_age,\n",
        "    POPQUORN_0301,\n",
        "    \"age\",\n",
        "    \"35-39\",\n",
        "    \"predicted_scores_a_person_(aged_35-39)_in_the_United_States\",\n",
        "    \"gpt-3.5-turbo-\\\"0301\\\"\",\n",
        "    \"\\\"alpha\\\"[ia]\"\n",
        ")\n",
        "print(alpha_ia_35_0301)"
      ]
    },
    {
      "cell_type": "code",
      "execution_count": null,
      "metadata": {
        "id": "AGfGoW6NvRZw"
      },
      "outputs": [],
      "source": [
        "# Import data between languages. via\n",
        "# https://www.askpython.com/python/examples/\n",
        "# use-r-and-python-in-the-same-notebook\n",
        "%%R -i POPQUORN_age -i POPQUORN_0613\n",
        "alpha_ia_35_0613 <- compute_alpha_ia(\n",
        "    POPQUORN_age,\n",
        "    POPQUORN_0613,\n",
        "    \"age\",\n",
        "    \"35-39\",\n",
        "    \"predicted_scores_a_person_(aged_35-39)_in_the_United_States\",\n",
        "    \"gpt-3.5-turbo-\\\"0613\\\"\",\n",
        "    \"\\\"alpha\\\"[ia]\"\n",
        ")\n",
        "print(alpha_ia_35_0613)"
      ]
    },
    {
      "cell_type": "code",
      "execution_count": null,
      "metadata": {
        "id": "Dd3Q0CMYvRcA"
      },
      "outputs": [],
      "source": [
        "# Import data between languages. via\n",
        "# https://www.askpython.com/python/examples/\n",
        "# use-r-and-python-in-the-same-notebook\n",
        "%%R -i POPQUORN_age -i POPQUORN_0301\n",
        "alpha_ia_40_0301 <- compute_alpha_ia(\n",
        "    POPQUORN_age,\n",
        "    POPQUORN_0301,\n",
        "    \"age\",\n",
        "    \"40-44\",\n",
        "    \"predicted_scores_a_person_(aged_40-44)_in_the_United_States\",\n",
        "    \"gpt-3.5-turbo-\\\"0301\\\"\",\n",
        "    \"\\\"alpha\\\"[ia]\"\n",
        ")\n",
        "print(alpha_ia_40_0301)"
      ]
    },
    {
      "cell_type": "code",
      "execution_count": null,
      "metadata": {
        "id": "mxx4GqYwvReQ"
      },
      "outputs": [],
      "source": [
        "# Import data between languages. via\n",
        "# https://www.askpython.com/python/examples/\n",
        "# use-r-and-python-in-the-same-notebook\n",
        "%%R -i POPQUORN_age -i POPQUORN_0613\n",
        "alpha_ia_40_0613 <- compute_alpha_ia(\n",
        "    POPQUORN_age,\n",
        "    POPQUORN_0613,\n",
        "    \"age\",\n",
        "    \"40-44\",\n",
        "    \"predicted_scores_a_person_(aged_40-44)_in_the_United_States\",\n",
        "    \"gpt-3.5-turbo-\\\"0613\\\"\",\n",
        "    \"\\\"alpha\\\"[ia]\"\n",
        ")\n",
        "print(alpha_ia_40_0613)"
      ]
    },
    {
      "cell_type": "code",
      "execution_count": null,
      "metadata": {
        "id": "CtGk3CJMvRgo"
      },
      "outputs": [],
      "source": [
        "# Import data between languages. via\n",
        "# https://www.askpython.com/python/examples/\n",
        "# use-r-and-python-in-the-same-notebook\n",
        "%%R -i POPQUORN_age -i POPQUORN_0301\n",
        "alpha_ia_45_0301 <- compute_alpha_ia(\n",
        "    POPQUORN_age,\n",
        "    POPQUORN_0301,\n",
        "    \"age\",\n",
        "    \"45-49\",\n",
        "    \"predicted_scores_a_person_(aged_45-49)_in_the_United_States\",\n",
        "    \"gpt-3.5-turbo-\\\"0301\\\"\",\n",
        "    \"\\\"alpha\\\"[ia]\"\n",
        ")\n",
        "print(alpha_ia_45_0301)"
      ]
    },
    {
      "cell_type": "code",
      "execution_count": null,
      "metadata": {
        "id": "Ug1gobcPvRiw"
      },
      "outputs": [],
      "source": [
        "# Import data between languages. via\n",
        "# https://www.askpython.com/python/examples/\n",
        "# use-r-and-python-in-the-same-notebook\n",
        "%%R -i POPQUORN_age -i POPQUORN_0613\n",
        "alpha_ia_45_0613 <- compute_alpha_ia(\n",
        "    POPQUORN_age,\n",
        "    POPQUORN_0613,\n",
        "    \"age\",\n",
        "    \"45-49\",\n",
        "    \"predicted_scores_a_person_(aged_45-49)_in_the_United_States\",\n",
        "    \"gpt-3.5-turbo-\\\"0613\\\"\",\n",
        "    \"\\\"alpha\\\"[ia]\"\n",
        ")\n",
        "print(alpha_ia_45_0613)"
      ]
    },
    {
      "cell_type": "code",
      "execution_count": null,
      "metadata": {
        "id": "3YOwxAbQvQoA"
      },
      "outputs": [],
      "source": [
        "# Import data between languages. via\n",
        "# https://www.askpython.com/python/examples/\n",
        "# use-r-and-python-in-the-same-notebook\n",
        "%%R -i POPQUORN_age -i POPQUORN_0301\n",
        "alpha_ia_50_0301 <- compute_alpha_ia(\n",
        "    POPQUORN_age,\n",
        "    POPQUORN_0301,\n",
        "    \"age\",\n",
        "    \"50-54\",\n",
        "    \"predicted_scores_a_person_(aged_50-54)_in_the_United_States\",\n",
        "    \"gpt-3.5-turbo-\\\"0301\\\"\",\n",
        "    \"\\\"alpha\\\"[ia]\"\n",
        ")\n",
        "print(alpha_ia_50_0301)"
      ]
    },
    {
      "cell_type": "code",
      "execution_count": null,
      "metadata": {
        "id": "ixFY1TYS1Jif"
      },
      "outputs": [],
      "source": [
        "# Import data between languages. via\n",
        "# https://www.askpython.com/python/examples/\n",
        "# use-r-and-python-in-the-same-notebook\n",
        "%%R -i POPQUORN_age -i POPQUORN_0613\n",
        "alpha_ia_50_0613 <- compute_alpha_ia(\n",
        "    POPQUORN_age,\n",
        "    POPQUORN_0613,\n",
        "    \"age\",\n",
        "    \"50-54\",\n",
        "    \"predicted_scores_a_person_(aged_50-54)_in_the_United_States\",\n",
        "    \"gpt-3.5-turbo-\\\"0613\\\"\",\n",
        "    \"\\\"alpha\\\"[ia]\"\n",
        ")\n",
        "print(alpha_ia_50_0613)"
      ]
    },
    {
      "cell_type": "code",
      "execution_count": null,
      "metadata": {
        "id": "ftasbeGT1JlP"
      },
      "outputs": [],
      "source": [
        "# Import data between languages. via\n",
        "# https://www.askpython.com/python/examples/\n",
        "# use-r-and-python-in-the-same-notebook\n",
        "%%R -i POPQUORN_age -i POPQUORN_0301\n",
        "alpha_ia_54_0301 <- compute_alpha_ia(\n",
        "    POPQUORN_age,\n",
        "    POPQUORN_0301,\n",
        "    \"age\",\n",
        "    \"54-59\",\n",
        "    \"predicted_scores_a_person_(aged_54-59)_in_the_United_States\",\n",
        "    \"gpt-3.5-turbo-\\\"0301\\\"\",\n",
        "    \"\\\"alpha\\\"[ia]\"\n",
        ")\n",
        "print(alpha_ia_54_0301)"
      ]
    },
    {
      "cell_type": "code",
      "execution_count": null,
      "metadata": {
        "id": "w4Fsvseb1Jnn"
      },
      "outputs": [],
      "source": [
        "# Import data between languages. via\n",
        "# https://www.askpython.com/python/examples/\n",
        "# use-r-and-python-in-the-same-notebook\n",
        "%%R -i POPQUORN_age -i POPQUORN_0613\n",
        "alpha_ia_54_0613 <- compute_alpha_ia(\n",
        "    POPQUORN_age,\n",
        "    POPQUORN_0613,\n",
        "    \"age\",\n",
        "    \"54-59\",\n",
        "    \"predicted_scores_a_person_(aged_54-59)_in_the_United_States\",\n",
        "    \"gpt-3.5-turbo-\\\"0613\\\"\",\n",
        "    \"\\\"alpha\\\"[ia]\"\n",
        ")\n",
        "print(alpha_ia_54_0613)"
      ]
    },
    {
      "cell_type": "code",
      "execution_count": null,
      "metadata": {
        "id": "NGtclS5t1Jp3"
      },
      "outputs": [],
      "source": [
        "# Import data between languages. via\n",
        "# https://www.askpython.com/python/examples/\n",
        "# use-r-and-python-in-the-same-notebook\n",
        "%%R -i POPQUORN_age -i POPQUORN_0301\n",
        "alpha_ia_60_0301 <- compute_alpha_ia(\n",
        "    POPQUORN_age,\n",
        "    POPQUORN_0301,\n",
        "    \"age\",\n",
        "    \"60-64\",\n",
        "    \"predicted_scores_a_person_(aged_60-64)_in_the_United_States\",\n",
        "    \"gpt-3.5-turbo-\\\"0301\\\"\",\n",
        "    \"\\\"alpha\\\"[ia]\"\n",
        ")\n",
        "print(alpha_ia_60_0301)"
      ]
    },
    {
      "cell_type": "code",
      "execution_count": null,
      "metadata": {
        "id": "s9Mq45LC1JsP"
      },
      "outputs": [],
      "source": [
        "# Import data between languages. via\n",
        "# https://www.askpython.com/python/examples/\n",
        "# use-r-and-python-in-the-same-notebook\n",
        "%%R -i POPQUORN_age -i POPQUORN_0613\n",
        "alpha_ia_60_0613 <- compute_alpha_ia(\n",
        "    POPQUORN_age,\n",
        "    POPQUORN_0613,\n",
        "    \"age\",\n",
        "    \"60-64\",\n",
        "    \"predicted_scores_a_person_(aged_60-64)_in_the_United_States\",\n",
        "    \"gpt-3.5-turbo-\\\"0613\\\"\",\n",
        "    \"\\\"alpha\\\"[ia]\"\n",
        ")\n",
        "print(alpha_ia_60_0613)"
      ]
    },
    {
      "cell_type": "code",
      "execution_count": null,
      "metadata": {
        "id": "DyoqYiZ51Juf"
      },
      "outputs": [],
      "source": [
        "# Import data between languages. via\n",
        "# https://www.askpython.com/python/examples/\n",
        "# use-r-and-python-in-the-same-notebook\n",
        "%%R -i POPQUORN_age -i POPQUORN_0301\n",
        "alpha_ia_65_0301 <- compute_alpha_ia(\n",
        "    POPQUORN_age,\n",
        "    POPQUORN_0301,\n",
        "    \"age\",\n",
        "    \">65\",\n",
        "    \"predicted_scores_a_person_(aged_>65)_in_the_United_States\",\n",
        "    \"gpt-3.5-turbo-\\\"0301\\\"\",\n",
        "    \"\\\"alpha\\\"[ia]\"\n",
        ")\n",
        "print(alpha_ia_65_0301)"
      ]
    },
    {
      "cell_type": "code",
      "execution_count": null,
      "metadata": {
        "id": "sJycGq9CvQvQ"
      },
      "outputs": [],
      "source": [
        "# Import data between languages. via\n",
        "# https://www.askpython.com/python/examples/\n",
        "# use-r-and-python-in-the-same-notebook\n",
        "%%R -i POPQUORN_age -i POPQUORN_0613\n",
        "alpha_ia_65_0613 <- compute_alpha_ia(\n",
        "    POPQUORN_age,\n",
        "    POPQUORN_0613,\n",
        "    \"age\",\n",
        "    \">65\",\n",
        "    \"predicted_scores_a_person_(aged_>65)_in_the_United_States\",\n",
        "    \"gpt-3.5-turbo-\\\"0613\\\"\",\n",
        "    \"\\\"alpha\\\"[ia]\"\n",
        ")\n",
        "print(alpha_ia_65_0613)"
      ]
    },
    {
      "cell_type": "code",
      "execution_count": null,
      "metadata": {
        "id": "lT2Fn1VVvQyJ"
      },
      "outputs": [],
      "source": [
        "# Import data between languages. via\n",
        "# https://www.askpython.com/python/examples/\n",
        "# use-r-and-python-in-the-same-notebook\n",
        "%%R -i POPQUORN_education -i POPQUORN_0301\n",
        "alpha_ia_lesshigh_0301 <- compute_alpha_ia(\n",
        "    POPQUORN_education,\n",
        "    POPQUORN_0301,\n",
        "    \"education\",\n",
        "    \"Less than a high school diploma\",\n",
        "    \"predicted_scores_a_person_(whose_education_level_is_less_than_a_high_school_diploma)_in_the_United_States\",\n",
        "    \"gpt-3.5-turbo-\\\"0301\\\"\",\n",
        "    \"\\\"alpha\\\"[ia]\"\n",
        ")\n",
        "print(alpha_ia_lesshigh_0301)"
      ]
    },
    {
      "cell_type": "code",
      "execution_count": null,
      "metadata": {
        "id": "YluOKAWi33Qv"
      },
      "outputs": [],
      "source": [
        "# Import data between languages. via\n",
        "# https://www.askpython.com/python/examples/\n",
        "# use-r-and-python-in-the-same-notebook\n",
        "%%R -i POPQUORN_education -i POPQUORN_0613\n",
        "alpha_ia_lesshigh_0613 <- compute_alpha_ia(\n",
        "    POPQUORN_education,\n",
        "    POPQUORN_0613,\n",
        "    \"education\",\n",
        "    \"Less than a high school diploma\",\n",
        "    \"predicted_scores_a_person_(whose_education_level_is_less_than_a_high_school_diploma)_in_the_United_States\",\n",
        "    \"gpt-3.5-turbo-\\\"0613\\\"\",\n",
        "    \"\\\"alpha\\\"[ia]\"\n",
        ")\n",
        "print(alpha_ia_lesshigh_0613)"
      ]
    },
    {
      "cell_type": "code",
      "execution_count": null,
      "metadata": {
        "id": "HmQ6u3ue42DX"
      },
      "outputs": [],
      "source": [
        "# Import data between languages. via\n",
        "# https://www.askpython.com/python/examples/\n",
        "# use-r-and-python-in-the-same-notebook\n",
        "%%R -i POPQUORN_education -i POPQUORN_0301\n",
        "alpha_ia_high_0301 <- compute_alpha_ia(\n",
        "    POPQUORN_education,\n",
        "    POPQUORN_0301,\n",
        "    \"education\",\n",
        "    \"High school diploma or equivalent\",\n",
        "    \"predicted_scores_a_person_(whose_education_level_is_a_high_school_diploma_or_equivalent)_in_the_United_States\",\n",
        "    \"gpt-3.5-turbo-\\\"0301\\\"\",\n",
        "    \"\\\"alpha\\\"[ia]\"\n",
        ")\n",
        "print(alpha_ia_high_0301)"
      ]
    },
    {
      "cell_type": "code",
      "execution_count": null,
      "metadata": {
        "id": "gSqg3dNe46l-"
      },
      "outputs": [],
      "source": [
        "# Import data between languages. via\n",
        "# https://www.askpython.com/python/examples/\n",
        "# use-r-and-python-in-the-same-notebook\n",
        "%%R -i POPQUORN_education -i POPQUORN_0613\n",
        "alpha_ia_high_0613 <- compute_alpha_ia(\n",
        "    POPQUORN_education,\n",
        "    POPQUORN_0613,\n",
        "    \"education\",\n",
        "    \"High school diploma or equivalent\",\n",
        "    \"predicted_scores_a_person_(whose_education_level_is_a_high_school_diploma_or_equivalent)_in_the_United_States\",\n",
        "    \"gpt-3.5-turbo-\\\"0613\\\"\",\n",
        "    \"\\\"alpha\\\"[ia]\"\n",
        ")\n",
        "print(alpha_ia_high_0613)"
      ]
    },
    {
      "cell_type": "code",
      "execution_count": null,
      "metadata": {
        "id": "OB7niNkv49W-"
      },
      "outputs": [],
      "source": [
        "# Import data between languages. via\n",
        "# https://www.askpython.com/python/examples/\n",
        "# use-r-and-python-in-the-same-notebook\n",
        "%%R -i POPQUORN_education -i POPQUORN_0301\n",
        "alpha_ia_college_0301 <- compute_alpha_ia(\n",
        "    POPQUORN_education,\n",
        "    POPQUORN_0301,\n",
        "    \"education\",\n",
        "    \"College degree\",\n",
        "    \"predicted_scores_a_person_(whose_education_level_is_a_college_degree)_in_the_United_States\",\n",
        "    \"gpt-3.5-turbo-\\\"0301\\\"\",\n",
        "    \"\\\"alpha\\\"[ia]\"\n",
        ")\n",
        "print(alpha_ia_college_0301)"
      ]
    },
    {
      "cell_type": "code",
      "execution_count": null,
      "metadata": {
        "id": "EgrWBGpgEl3E"
      },
      "outputs": [],
      "source": [
        "# Import data between languages. via\n",
        "# https://www.askpython.com/python/examples/\n",
        "# use-r-and-python-in-the-same-notebook\n",
        "%%R -i POPQUORN_education -i POPQUORN_0613\n",
        "alpha_ia_college_0613 <- compute_alpha_ia(\n",
        "    POPQUORN_education,\n",
        "    POPQUORN_0613,\n",
        "    \"education\",\n",
        "    \"College degree\",\n",
        "    \"predicted_scores_a_person_(whose_education_level_is_a_college_degree)_in_the_United_States\",\n",
        "    \"gpt-3.5-turbo-\\\"0613\\\"\",\n",
        "    \"\\\"alpha\\\"[ia]\"\n",
        ")\n",
        "print(alpha_ia_college_0613)"
      ]
    },
    {
      "cell_type": "code",
      "execution_count": null,
      "metadata": {
        "id": "j8cj558TE7Ic"
      },
      "outputs": [],
      "source": [
        "# Import data between languages. via\n",
        "# https://www.askpython.com/python/examples/\n",
        "# use-r-and-python-in-the-same-notebook\n",
        "%%R -i POPQUORN_education -i POPQUORN_0301\n",
        "alpha_ia_grad_0301 <- compute_alpha_ia(\n",
        "    POPQUORN_education,\n",
        "    POPQUORN_0301,\n",
        "    \"education\",\n",
        "    \"Graduate degree\",\n",
        "    \"predicted_scores_a_person_(whose_education_level_is_a_graduate_degree)_in_the_United_States\",\n",
        "    \"gpt-3.5-turbo-\\\"0301\\\"\",\n",
        "    \"\\\"alpha\\\"[ia]\"\n",
        ")\n",
        "print(alpha_ia_grad_0301)"
      ]
    },
    {
      "cell_type": "code",
      "execution_count": null,
      "metadata": {
        "id": "77JscXCt3idG"
      },
      "outputs": [],
      "source": [
        "# Import data between languages. via\n",
        "# https://www.askpython.com/python/examples/\n",
        "# use-r-and-python-in-the-same-notebook\n",
        "%%R -i POPQUORN_education -i POPQUORN_0613\n",
        "alpha_ia_grad_0613 <- compute_alpha_ia(\n",
        "    POPQUORN_education,\n",
        "    POPQUORN_0613,\n",
        "    \"education\",\n",
        "    \"Graduate degree\",\n",
        "    \"predicted_scores_a_person_(whose_education_level_is_a_graduate_degree)_in_the_United_States\",\n",
        "    \"gpt-3.5-turbo-\\\"0613\\\"\",\n",
        "    \"\\\"alpha\\\"[ia]\"\n",
        ")\n",
        "print(alpha_ia_grad_0613)"
      ]
    },
    {
      "cell_type": "code",
      "execution_count": null,
      "metadata": {
        "id": "L9qewxasGfG8"
      },
      "outputs": [],
      "source": [
        "# Import data between languages. via\n",
        "# https://www.askpython.com/python/examples/\n",
        "# use-r-and-python-in-the-same-notebook\n",
        "%%R -i POPQUORN_gender -i POPQUORN_0301\n",
        "alpha_ia_man_0301 <- compute_alpha_ia(\n",
        "    POPQUORN_gender,\n",
        "    POPQUORN_0301,\n",
        "    \"gender\",\n",
        "    \"Man\",\n",
        "    \"predicted_scores_a_man_in_the_United_States\",\n",
        "    \"gpt-3.5-turbo-\\\"0301\\\"\",\n",
        "    \"\\\"alpha\\\"[ia]\"\n",
        ")\n",
        "print(alpha_ia_man_0301)"
      ]
    },
    {
      "cell_type": "code",
      "execution_count": null,
      "metadata": {
        "id": "8-GEHCcRH07c"
      },
      "outputs": [],
      "source": [
        "# Import data between languages. via\n",
        "# https://www.askpython.com/python/examples/\n",
        "# use-r-and-python-in-the-same-notebook\n",
        "%%R -i POPQUORN_gender -i POPQUORN_0613\n",
        "alpha_ia_man_0613 <- compute_alpha_ia(\n",
        "    POPQUORN_gender,\n",
        "    POPQUORN_0613,\n",
        "    \"gender\",\n",
        "    \"Man\",\n",
        "    \"predicted_scores_a_man_in_the_United_States\",\n",
        "    \"gpt-3.5-turbo-\\\"0613\\\"\",\n",
        "    \"\\\"alpha\\\"[ia]\"\n",
        ")\n",
        "print(alpha_ia_man_0613)"
      ]
    },
    {
      "cell_type": "code",
      "execution_count": null,
      "metadata": {
        "id": "-x2FLJTnH7x7"
      },
      "outputs": [],
      "source": [
        "# Import data between languages. via\n",
        "# https://www.askpython.com/python/examples/\n",
        "# use-r-and-python-in-the-same-notebook\n",
        "%%R -i POPQUORN_gender -i POPQUORN_0301\n",
        "alpha_ia_woman_0301 <- compute_alpha_ia(\n",
        "    POPQUORN_gender,\n",
        "    POPQUORN_0301,\n",
        "    \"gender\",\n",
        "    \"Woman\",\n",
        "    \"predicted_scores_a_woman_in_the_United_States\",\n",
        "    \"gpt-3.5-turbo-\\\"0301\\\"\",\n",
        "    \"\\\"alpha\\\"[ia]\"\n",
        ")\n",
        "print(alpha_ia_woman_0301)"
      ]
    },
    {
      "cell_type": "code",
      "execution_count": null,
      "metadata": {
        "id": "DNyixXE5H_cE"
      },
      "outputs": [],
      "source": [
        "# Import data between languages. via\n",
        "# https://www.askpython.com/python/examples/\n",
        "# use-r-and-python-in-the-same-notebook\n",
        "%%R -i POPQUORN_gender -i POPQUORN_0613\n",
        "alpha_ia_woman_0613 <- compute_alpha_ia(\n",
        "    POPQUORN_gender,\n",
        "    POPQUORN_0613,\n",
        "    \"gender\",\n",
        "    \"Woman\",\n",
        "    \"predicted_scores_a_woman_in_the_United_States\",\n",
        "    \"gpt-3.5-turbo-\\\"0613\\\"\",\n",
        "    \"\\\"alpha\\\"[ia]\"\n",
        ")\n",
        "print(alpha_ia_woman_0613)"
      ]
    },
    {
      "cell_type": "code",
      "execution_count": null,
      "metadata": {
        "id": "VBSpOFTpICJs"
      },
      "outputs": [],
      "source": [
        "# Import data between languages. via\n",
        "# https://www.askpython.com/python/examples/\n",
        "# use-r-and-python-in-the-same-notebook\n",
        "%%R -i POPQUORN_gender -i POPQUORN_0301\n",
        "alpha_ia_nonbinary_0301 <- compute_alpha_ia(\n",
        "    POPQUORN_gender,\n",
        "    POPQUORN_0301,\n",
        "    \"gender\",\n",
        "    \"Non-binary\",\n",
        "    \"predicted_scores_a_non-binary_person_in_the_United_States\",\n",
        "    \"gpt-3.5-turbo-\\\"0301\\\"\",\n",
        "    \"\\\"alpha\\\"[ia]\"\n",
        ")\n",
        "print(alpha_ia_nonbinary_0301)"
      ]
    },
    {
      "cell_type": "code",
      "execution_count": null,
      "metadata": {
        "id": "jpir3pmtIJhs"
      },
      "outputs": [],
      "source": [
        "# Import data between languages. via\n",
        "# https://www.askpython.com/python/examples/\n",
        "# use-r-and-python-in-the-same-notebook\n",
        "%%R -i POPQUORN_gender -i POPQUORN_0613\n",
        "alpha_ia_nonbinary_0613 <- compute_alpha_ia(\n",
        "    POPQUORN_gender,\n",
        "    POPQUORN_0613,\n",
        "    \"gender\",\n",
        "    \"Non-binary\",\n",
        "    \"predicted_scores_a_non-binary_person_in_the_United_States\",\n",
        "    \"gpt-3.5-turbo-\\\"0613\\\"\",\n",
        "    \"\\\"alpha\\\"[ia]\"\n",
        ")\n",
        "print(alpha_ia_nonbinary_0613)"
      ]
    },
    {
      "cell_type": "code",
      "execution_count": null,
      "metadata": {
        "id": "5-zbJ2uT3iiI"
      },
      "outputs": [],
      "source": [
        "# Import data between languages. via\n",
        "# https://www.askpython.com/python/examples/\n",
        "# use-r-and-python-in-the-same-notebook\n",
        "%%R -i POPQUORN_occupation -i POPQUORN_0301\n",
        "alpha_ia_employed_0301 <- compute_alpha_ia(\n",
        "    POPQUORN_occupation,\n",
        "    POPQUORN_0301,\n",
        "    \"occupation\",\n",
        "    \"Employed\",\n",
        "    \"predicted_scores_an_employed_person_in_the_United_States\",\n",
        "    \"gpt-3.5-turbo-\\\"0301\\\"\",\n",
        "    \"\\\"alpha\\\"[ia]\"\n",
        ")\n",
        "print(alpha_ia_employed_0301)"
      ]
    },
    {
      "cell_type": "code",
      "execution_count": null,
      "metadata": {
        "id": "nrNVevIxYUWT"
      },
      "outputs": [],
      "source": [
        "# Import data between languages. via\n",
        "# https://www.askpython.com/python/examples/\n",
        "# use-r-and-python-in-the-same-notebook\n",
        "%%R -i POPQUORN_occupation -i POPQUORN_0613\n",
        "alpha_ia_employed_0613 <- compute_alpha_ia(\n",
        "    POPQUORN_occupation,\n",
        "    POPQUORN_0613,\n",
        "    \"occupation\",\n",
        "    \"Employed\",\n",
        "    \"predicted_scores_an_employed_person_in_the_United_States\",\n",
        "    \"gpt-3.5-turbo-\\\"0613\\\"\",\n",
        "    \"\\\"alpha\\\"[ia]\"\n",
        ")\n",
        "print(alpha_ia_employed_0613)"
      ]
    },
    {
      "cell_type": "code",
      "execution_count": null,
      "metadata": {
        "id": "wuIKkNliYW7B"
      },
      "outputs": [],
      "source": [
        "# Import data between languages. via\n",
        "# https://www.askpython.com/python/examples/\n",
        "# use-r-and-python-in-the-same-notebook\n",
        "%%R -i POPQUORN_occupation -i POPQUORN_0301\n",
        "alpha_ia_unemployed_0301 <- compute_alpha_ia(\n",
        "    POPQUORN_occupation,\n",
        "    POPQUORN_0301,\n",
        "    \"occupation\",\n",
        "    \"Unemployed\",\n",
        "    \"predicted_scores_an_unemployed_person_in_the_United_States\",\n",
        "    \"gpt-3.5-turbo-\\\"0301\\\"\",\n",
        "    \"\\\"alpha\\\"[ia]\"\n",
        ")\n",
        "print(alpha_ia_unemployed_0301)"
      ]
    },
    {
      "cell_type": "code",
      "execution_count": null,
      "metadata": {
        "id": "6swb5yy3Yqgo"
      },
      "outputs": [],
      "source": [
        "# Import data between languages. via\n",
        "# https://www.askpython.com/python/examples/\n",
        "# use-r-and-python-in-the-same-notebook\n",
        "%%R -i POPQUORN_occupation -i POPQUORN_0613\n",
        "alpha_ia_unemployed_0613 <- compute_alpha_ia(\n",
        "    POPQUORN_occupation,\n",
        "    POPQUORN_0613,\n",
        "    \"occupation\",\n",
        "    \"Unemployed\",\n",
        "    \"predicted_scores_an_unemployed_person_in_the_United_States\",\n",
        "    \"gpt-3.5-turbo-\\\"0613\\\"\",\n",
        "    \"\\\"alpha\\\"[ia]\"\n",
        ")\n",
        "print(alpha_ia_unemployed_0613)"
      ]
    },
    {
      "cell_type": "code",
      "execution_count": null,
      "metadata": {
        "id": "fsYhSUckZqTQ"
      },
      "outputs": [],
      "source": [
        "# Import data between languages. via\n",
        "# https://www.askpython.com/python/examples/\n",
        "# use-r-and-python-in-the-same-notebook\n",
        "%%R -i POPQUORN_occupation -i POPQUORN_0301\n",
        "alpha_ia_selfemp_0301 <- compute_alpha_ia(\n",
        "    POPQUORN_occupation,\n",
        "    POPQUORN_0301,\n",
        "    \"occupation\",\n",
        "    \"Self-employed\",\n",
        "    \"predicted_scores_a_self-employed_person_in_the_United_States\",\n",
        "    \"gpt-3.5-turbo-\\\"0301\\\"\",\n",
        "    \"\\\"alpha\\\"[ia]\"\n",
        ")\n",
        "print(alpha_ia_selfemp_0301)"
      ]
    },
    {
      "cell_type": "code",
      "execution_count": null,
      "metadata": {
        "id": "Eh8ILFqDZwxB"
      },
      "outputs": [],
      "source": [
        "# Import data between languages. via\n",
        "# https://www.askpython.com/python/examples/\n",
        "# use-r-and-python-in-the-same-notebook\n",
        "%%R -i POPQUORN_occupation -i POPQUORN_0613\n",
        "alpha_ia_selfemp_0613 <- compute_alpha_ia(\n",
        "    POPQUORN_occupation,\n",
        "    POPQUORN_0613,\n",
        "    \"occupation\",\n",
        "    \"Self-employed\",\n",
        "    \"predicted_scores_a_self-employed_person_in_the_United_States\",\n",
        "    \"gpt-3.5-turbo-\\\"0613\\\"\",\n",
        "    \"\\\"alpha\\\"[ia]\"\n",
        ")\n",
        "print(alpha_ia_selfemp_0613)"
      ]
    },
    {
      "cell_type": "code",
      "execution_count": null,
      "metadata": {
        "id": "JAoE8PyfZzRZ"
      },
      "outputs": [],
      "source": [
        "# Import data between languages. via\n",
        "# https://www.askpython.com/python/examples/\n",
        "# use-r-and-python-in-the-same-notebook\n",
        "%%R -i POPQUORN_occupation -i POPQUORN_0301\n",
        "alpha_ia_retired_0301 <- compute_alpha_ia(\n",
        "    POPQUORN_occupation,\n",
        "    POPQUORN_0301,\n",
        "    \"occupation\",\n",
        "    \"Retired\",\n",
        "    \"predicted_scores_a_retiree_in_the_United_States\",\n",
        "    \"gpt-3.5-turbo-\\\"0301\\\"\",\n",
        "    \"\\\"alpha\\\"[ia]\"\n",
        ")\n",
        "print(alpha_ia_retired_0301)"
      ]
    },
    {
      "cell_type": "code",
      "execution_count": null,
      "metadata": {
        "id": "CDtPQJLLaAOx"
      },
      "outputs": [],
      "source": [
        "# Import data between languages. via\n",
        "# https://www.askpython.com/python/examples/\n",
        "# use-r-and-python-in-the-same-notebook\n",
        "%%R -i POPQUORN_occupation -i POPQUORN_0613\n",
        "alpha_ia_retired_0613 <- compute_alpha_ia(\n",
        "    POPQUORN_occupation,\n",
        "    POPQUORN_0613,\n",
        "    \"occupation\",\n",
        "    \"Retired\",\n",
        "    \"predicted_scores_a_retiree_in_the_United_States\",\n",
        "    \"gpt-3.5-turbo-\\\"0613\\\"\",\n",
        "    \"\\\"alpha\\\"[ia]\"\n",
        ")\n",
        "print(alpha_ia_retired_0613)"
      ]
    },
    {
      "cell_type": "code",
      "execution_count": null,
      "metadata": {
        "id": "yVJlFLFHal2R"
      },
      "outputs": [],
      "source": [
        "# Import data between languages. via\n",
        "# https://www.askpython.com/python/examples/\n",
        "# use-r-and-python-in-the-same-notebook\n",
        "%%R -i POPQUORN_occupation -i POPQUORN_0301\n",
        "alpha_ia_student_0301 <- compute_alpha_ia(\n",
        "    POPQUORN_occupation,\n",
        "    POPQUORN_0301,\n",
        "    \"occupation\",\n",
        "    \"Student\",\n",
        "    \"predicted_scores_a_student_in_the_United_States\",\n",
        "    \"gpt-3.5-turbo-\\\"0301\\\"\",\n",
        "    \"\\\"alpha\\\"[ia]\"\n",
        ")\n",
        "print(alpha_ia_student_0301)"
      ]
    },
    {
      "cell_type": "code",
      "execution_count": null,
      "metadata": {
        "id": "iKLzakSKarox"
      },
      "outputs": [],
      "source": [
        "# Import data between languages. via\n",
        "# https://www.askpython.com/python/examples/\n",
        "# use-r-and-python-in-the-same-notebook\n",
        "%%R -i POPQUORN_occupation -i POPQUORN_0613\n",
        "alpha_ia_student_0613 <- compute_alpha_ia(\n",
        "    POPQUORN_occupation,\n",
        "    POPQUORN_0613,\n",
        "    \"occupation\",\n",
        "    \"Student\",\n",
        "    \"predicted_scores_a_student_in_the_United_States\",\n",
        "    \"gpt-3.5-turbo-\\\"0613\\\"\",\n",
        "    \"\\\"alpha\\\"[ia]\"\n",
        ")\n",
        "print(alpha_ia_student_0613)"
      ]
    },
    {
      "cell_type": "code",
      "execution_count": null,
      "metadata": {
        "id": "36J1l1i6avk_"
      },
      "outputs": [],
      "source": [
        "# Import data between languages. via\n",
        "# https://www.askpython.com/python/examples/\n",
        "# use-r-and-python-in-the-same-notebook\n",
        "%%R -i POPQUORN_occupation -i POPQUORN_0301\n",
        "alpha_ia_homemaker_0301 <- compute_alpha_ia(\n",
        "    POPQUORN_occupation,\n",
        "    POPQUORN_0301,\n",
        "    \"occupation\",\n",
        "    \"Homemaker\",\n",
        "    \"predicted_scores_a_homemaker_in_the_United_States\",\n",
        "    \"gpt-3.5-turbo-\\\"0301\\\"\",\n",
        "    \"\\\"alpha\\\"[ia]\"\n",
        ")\n",
        "print(alpha_ia_homemaker_0301)"
      ]
    },
    {
      "cell_type": "code",
      "execution_count": null,
      "metadata": {
        "id": "2T3EbdVca3J_"
      },
      "outputs": [],
      "source": [
        "# Import data between languages. via\n",
        "# https://www.askpython.com/python/examples/\n",
        "# use-r-and-python-in-the-same-notebook\n",
        "%%R -i POPQUORN_occupation -i POPQUORN_0613\n",
        "alpha_ia_homemaker_0613 <- compute_alpha_ia(\n",
        "    POPQUORN_occupation,\n",
        "    POPQUORN_0613,\n",
        "    \"occupation\",\n",
        "    \"Homemaker\",\n",
        "    \"predicted_scores_a_homemaker_in_the_United_States\",\n",
        "    \"gpt-3.5-turbo-\\\"0613\\\"\",\n",
        "    \"\\\"alpha\\\"[ia]\"\n",
        ")\n",
        "print(alpha_ia_homemaker_0613)"
      ]
    },
    {
      "cell_type": "code",
      "execution_count": null,
      "metadata": {
        "id": "JKjzMchRc5hH"
      },
      "outputs": [],
      "source": [
        "# Import data between languages. via\n",
        "# https://www.askpython.com/python/examples/\n",
        "# use-r-and-python-in-the-same-notebook\n",
        "%%R -i POPQUORN_race -i POPQUORN_0301\n",
        "alpha_ia_white_0301 <- compute_alpha_ia(\n",
        "    POPQUORN_race,\n",
        "    POPQUORN_0301,\n",
        "    \"race\",\n",
        "    \"White\",\n",
        "    \"predicted_scores_a_White_person_in_the_United_States\",\n",
        "    \"gpt-3.5-turbo-\\\"0301\\\"\",\n",
        "    \"\\\"alpha\\\"[ia]\"\n",
        ")\n",
        "print(alpha_ia_white_0301)"
      ]
    },
    {
      "cell_type": "code",
      "execution_count": null,
      "metadata": {
        "id": "tGv6qD3YdAPJ"
      },
      "outputs": [],
      "source": [
        "# Import data between languages. via\n",
        "# https://www.askpython.com/python/examples/\n",
        "# use-r-and-python-in-the-same-notebook\n",
        "%%R -i POPQUORN_race -i POPQUORN_0613\n",
        "alpha_ia_white_0613 <- compute_alpha_ia(\n",
        "    POPQUORN_race,\n",
        "    POPQUORN_0613,\n",
        "    \"race\",\n",
        "    \"White\",\n",
        "    \"predicted_scores_a_White_person_in_the_United_States\",\n",
        "    \"gpt-3.5-turbo-\\\"0613\\\"\",\n",
        "    \"\\\"alpha\\\"[ia]\"\n",
        ")\n",
        "print(alpha_ia_white_0613)"
      ]
    },
    {
      "cell_type": "code",
      "execution_count": null,
      "metadata": {
        "id": "Ndq87dNadEyI"
      },
      "outputs": [],
      "source": [
        "# Import data between languages. via\n",
        "# https://www.askpython.com/python/examples/\n",
        "# use-r-and-python-in-the-same-notebook\n",
        "%%R -i POPQUORN_race -i POPQUORN_0301\n",
        "alpha_ia_black_0301 <- compute_alpha_ia(\n",
        "    POPQUORN_race,\n",
        "    POPQUORN_0301,\n",
        "    \"race\",\n",
        "    \"Black or African American\",\n",
        "    \"predicted_scores_a_Black_or_African_American_in_the_United_States\",\n",
        "    \"gpt-3.5-turbo-\\\"0301\\\"\",\n",
        "    \"\\\"alpha\\\"[ia]\"\n",
        ")\n",
        "print(alpha_ia_black_0301)"
      ]
    },
    {
      "cell_type": "code",
      "execution_count": null,
      "metadata": {
        "id": "Rm3mf6e6dJzg"
      },
      "outputs": [],
      "source": [
        "# Import data between languages. via\n",
        "# https://www.askpython.com/python/examples/\n",
        "# use-r-and-python-in-the-same-notebook\n",
        "%%R -i POPQUORN_race -i POPQUORN_0613\n",
        "alpha_ia_black_0613 <- compute_alpha_ia(\n",
        "    POPQUORN_race,\n",
        "    POPQUORN_0613,\n",
        "    \"race\",\n",
        "    \"Black or African American\",\n",
        "    \"predicted_scores_a_Black_or_African_American_in_the_United_States\",\n",
        "    \"gpt-3.5-turbo-\\\"0613\\\"\",\n",
        "    \"\\\"alpha\\\"[ia]\"\n",
        ")\n",
        "print(alpha_ia_black_0613)"
      ]
    },
    {
      "cell_type": "code",
      "execution_count": null,
      "metadata": {
        "id": "Otz80NkrdODw"
      },
      "outputs": [],
      "source": [
        "# Import data between languages. via\n",
        "# https://www.askpython.com/python/examples/\n",
        "# use-r-and-python-in-the-same-notebook\n",
        "%%R -i POPQUORN_race -i POPQUORN_0301\n",
        "alpha_ia_asian_0301 <- compute_alpha_ia(\n",
        "    POPQUORN_race,\n",
        "    POPQUORN_0301,\n",
        "    \"race\",\n",
        "    \"Asian\",\n",
        "    \"predicted_scores_an_Asian_in_the_United_States\",\n",
        "    \"gpt-3.5-turbo-\\\"0301\\\"\",\n",
        "    \"\\\"alpha\\\"[ia]\"\n",
        ")\n",
        "print(alpha_ia_asian_0301)"
      ]
    },
    {
      "cell_type": "code",
      "execution_count": null,
      "metadata": {
        "id": "wVLm0duPdXRA"
      },
      "outputs": [],
      "source": [
        "# Import data between languages. via\n",
        "# https://www.askpython.com/python/examples/\n",
        "# use-r-and-python-in-the-same-notebook\n",
        "%%R -i POPQUORN_race -i POPQUORN_0613\n",
        "alpha_ia_asian_0613 <- compute_alpha_ia(\n",
        "    POPQUORN_race,\n",
        "    POPQUORN_0613,\n",
        "    \"race\",\n",
        "    \"Asian\",\n",
        "    \"predicted_scores_an_Asian_in_the_United_States\",\n",
        "    \"gpt-3.5-turbo-\\\"0613\\\"\",\n",
        "    \"\\\"alpha\\\"[ia]\"\n",
        ")\n",
        "print(alpha_ia_asian_0613)"
      ]
    },
    {
      "cell_type": "code",
      "execution_count": null,
      "metadata": {
        "id": "FWycGwwudbG4"
      },
      "outputs": [],
      "source": [
        "# Import data between languages. via\n",
        "# https://www.askpython.com/python/examples/\n",
        "# use-r-and-python-in-the-same-notebook\n",
        "%%R -i POPQUORN_race -i POPQUORN_0301\n",
        "alpha_ia_aian_0301 <- compute_alpha_ia(\n",
        "    POPQUORN_race,\n",
        "    POPQUORN_0301,\n",
        "    \"race\",\n",
        "    \"Native American\",\n",
        "    \"predicted_scores_an_American_Indian_or_Alaska_Native_in_the_United_States\",\n",
        "    \"gpt-3.5-turbo-\\\"0301\\\"\",\n",
        "    \"\\\"alpha\\\"[ia]\"\n",
        ")\n",
        "print(alpha_ia_aian_0301)"
      ]
    },
    {
      "cell_type": "code",
      "execution_count": null,
      "metadata": {
        "id": "03OogL41dffh"
      },
      "outputs": [],
      "source": [
        "# Import data between languages. via\n",
        "# https://www.askpython.com/python/examples/\n",
        "# use-r-and-python-in-the-same-notebook\n",
        "%%R -i POPQUORN_race -i POPQUORN_0613\n",
        "alpha_ia_aian_0613 <- compute_alpha_ia(\n",
        "    POPQUORN_race,\n",
        "    POPQUORN_0613,\n",
        "    \"race\",\n",
        "    \"Native American\",\n",
        "    \"predicted_scores_an_American_Indian_or_Alaska_Native_in_the_United_States\",\n",
        "    \"gpt-3.5-turbo-\\\"0613\\\"\",\n",
        "    \"\\\"alpha\\\"[ia]\"\n",
        ")\n",
        "print(alpha_ia_aian_0613)"
      ]
    },
    {
      "cell_type": "markdown",
      "metadata": {
        "id": "O3ZIqutPJq-K"
      },
      "source": [
        "# Define a function to compute and interpret Krippendorff\"s alpha coefficients between the personas and the no-persona defaults"
      ]
    },
    {
      "cell_type": "code",
      "execution_count": null,
      "metadata": {
        "id": "1NFJdDrk3ikO"
      },
      "outputs": [],
      "source": [
        "%%R\n",
        "compute_alpha_ib <- function(df, reference, model, measure) {\n",
        "    alpha_list <- c()\n",
        "    for (i in seq_along(colnames(df))) {\n",
        "        print(colnames(df)[i])\n",
        "        # Retrieve and interpret Krippendorff's alpha values. via\n",
        "        # https://cran.r-project.org/web/packages/irrCAC/vignettes/\n",
        "        # benchmarking.html\n",
        "        df_temp <- df[, c(reference, colnames(df)[i])]\n",
        "        df_temp <- as.matrix(sapply(df_temp, as.numeric))\n",
        "        a <- krippen.alpha.raw(df_temp,\n",
        "            weights = \"linear\",\n",
        "            c(1, 2, 3, 4, 5)\n",
        "        )\n",
        "        print(a$est)\n",
        "        print(a$categories)\n",
        "        print(landis.koch.bf(a$est$coeff.val, a$est$coeff.se))\n",
        "        if (i != 16) {\n",
        "            alpha_list <- c(alpha_list, a$est$coeff.val)\n",
        "        }\n",
        "    }\n",
        "    res <- data.frame(\n",
        "        alpha = alpha_list,\n",
        "        persona = colnames(df[, -16]),\n",
        "        model = rep(model, length(alpha)),\n",
        "        measure = rep(measure, length(alpha))\n",
        "    )\n",
        "    return(res)\n",
        "}"
      ]
    },
    {
      "cell_type": "markdown",
      "metadata": {
        "id": "rVBCuQzjJ_XB"
      },
      "source": [
        "# Call the `compute_alpha_ib` function to compute and interpret Krippendorff's alpha coefficients between the personas and the no-persona defaults"
      ]
    },
    {
      "cell_type": "code",
      "execution_count": null,
      "metadata": {
        "id": "zx1VSzOaJ_Ex"
      },
      "outputs": [],
      "source": [
        "# Import data between languages. via\n",
        "# https://www.askpython.com/python/examples/\n",
        "# use-r-and-python-in-the-same-notebook\n",
        "%%R -i POPQUORN_0301\n",
        "alpha_ib_0301 <- compute_alpha_ib(POPQUORN_0301[, 2:31], \"predicted_scores_base\", \"gpt-3.5-turbo-\\\"0301\\\"\", \"\\\"alpha\\\"[ib]\")\n",
        "print(alpha_ib_0301)"
      ]
    },
    {
      "cell_type": "code",
      "execution_count": null,
      "metadata": {
        "id": "F4wLiGiXFPfJ"
      },
      "outputs": [],
      "source": [
        "# Import data between languages. via\n",
        "# https://www.askpython.com/python/examples/\n",
        "# use-r-and-python-in-the-same-notebook\n",
        "%%R -i POPQUORN_0613\n",
        "alpha_ib_0613 <- compute_alpha_ib(POPQUORN_0613[, 2:31], \"predicted_scores_base\", \"gpt-3.5-turbo-\\\"0613\\\"\", \"\\\"alpha\\\"[ib]\")\n",
        "print(alpha_ib_0613)"
      ]
    },
    {
      "cell_type": "markdown",
      "source": [
        "# Plot Krippendorff's alpha coefficients and Bias"
      ],
      "metadata": {
        "id": "erPaQo4VmsDH"
      }
    },
    {
      "cell_type": "code",
      "source": [
        "%%R\n",
        "showtext_auto()\n",
        "data <- rbind(\n",
        "    alpha_ib_0301,\n",
        "    alpha_ib_0613,\n",
        "    alpha_ia_18_0301,\n",
        "    alpha_ia_18_0613,\n",
        "    alpha_ia_25_0301,\n",
        "    alpha_ia_25_0613,\n",
        "    alpha_ia_30_0301,\n",
        "    alpha_ia_30_0613,\n",
        "    alpha_ia_35_0301,\n",
        "    alpha_ia_35_0613,\n",
        "    alpha_ia_40_0301,\n",
        "    alpha_ia_40_0613,\n",
        "    alpha_ia_45_0301,\n",
        "    alpha_ia_45_0613,\n",
        "    alpha_ia_50_0301,\n",
        "    alpha_ia_50_0613,\n",
        "    alpha_ia_54_0301,\n",
        "    alpha_ia_54_0613,\n",
        "    alpha_ia_60_0301,\n",
        "    alpha_ia_60_0613,\n",
        "    alpha_ia_65_0301,\n",
        "    alpha_ia_65_0613,\n",
        "    alpha_ia_lesshigh_0301,\n",
        "    alpha_ia_lesshigh_0613,\n",
        "    alpha_ia_high_0301,\n",
        "    alpha_ia_high_0613,\n",
        "    alpha_ia_college_0301,\n",
        "    alpha_ia_college_0613,\n",
        "    alpha_ia_grad_0301,\n",
        "    alpha_ia_grad_0613,\n",
        "    alpha_ia_man_0301,\n",
        "    alpha_ia_man_0613,\n",
        "    alpha_ia_woman_0301,\n",
        "    alpha_ia_woman_0613,\n",
        "    alpha_ia_nonbinary_0301,\n",
        "    alpha_ia_nonbinary_0613,\n",
        "    alpha_ia_employed_0301,\n",
        "    alpha_ia_employed_0613,\n",
        "    alpha_ia_unemployed_0301,\n",
        "    alpha_ia_unemployed_0613,\n",
        "    alpha_ia_selfemp_0301,\n",
        "    alpha_ia_selfemp_0613,\n",
        "    alpha_ia_retired_0301,\n",
        "    alpha_ia_retired_0613,\n",
        "    alpha_ia_student_0301,\n",
        "    alpha_ia_student_0613,\n",
        "    alpha_ia_homemaker_0301,\n",
        "    alpha_ia_homemaker_0613,\n",
        "    alpha_ia_white_0301,\n",
        "    alpha_ia_white_0613,\n",
        "    alpha_ia_black_0301,\n",
        "    alpha_ia_black_0613,\n",
        "    alpha_ia_asian_0301,\n",
        "    alpha_ia_asian_0613,\n",
        "    alpha_ia_aian_0301,\n",
        "    alpha_ia_aian_0613\n",
        ")\n",
        "# Replace spaces with underscores. via\n",
        "# https://stackoverflow.com/a/53107084\n",
        "data$persona <- gsub(\"_\", \" \", data$persona)\n",
        "# Remove first few words. via\n",
        "# https://stackoverflow.com/a/64889117\n",
        "data$persona <- sub(\"^\\\\w+\\\\s\\\\w+\\\\s\\\\w+\\\\s\", \"\", data$persona)\n",
        "# Remove everything after specified substring. via\n",
        "# https://stackoverflow.com/a/53503384\n",
        "data$persona <- sub(\"in.+$\", \"\", data$persona)\n",
        "data$persona <- Map(paste, data$persona, \"...\")\n",
        "# Remove substring. via\n",
        "# https://stackoverflow.com/a/74536951\n",
        "data$persona <- sub(\"person (whose education level is\", \"\",\n",
        "                    data$persona,\n",
        "                    fixed = TRUE)\n",
        "# Compute bias\n",
        "data$bias <- c(\n",
        "    rep(Gini_RSV(alpha_ib_0301$alpha[1:11])[[1]], 11),\n",
        "    rep(Gini_RSV(alpha_ib_0301$alpha[12:15])[[1]], 4),\n",
        "    rep(Gini_RSV(alpha_ib_0301$alpha[16:18])[[1]], 3),\n",
        "    rep(Gini_RSV(alpha_ib_0301$alpha[19:24])[[1]], 6),\n",
        "    rep(Gini_RSV(alpha_ib_0301$alpha[25:29])[[1]], 5),\n",
        "    rep(Gini_RSV(alpha_ib_0613$alpha[1:11])[[1]], 11),\n",
        "    rep(Gini_RSV(alpha_ib_0613$alpha[12:15])[[1]], 4),\n",
        "    rep(Gini_RSV(alpha_ib_0613$alpha[16:18])[[1]], 3),\n",
        "    rep(Gini_RSV(alpha_ib_0613$alpha[19:24])[[1]], 6),\n",
        "    rep(Gini_RSV(alpha_ib_0613$alpha[25:29])[[1]], 5),\n",
        "    rep(0, 54)\n",
        ")\n",
        "data$labs <- c(\n",
        "    rep(round(Gini_RSV(alpha_ib_0301$alpha[1:11])[[1]], digits = 3), 11),\n",
        "    rep(round(Gini_RSV(alpha_ib_0301$alpha[12:15])[[1]], digits = 3), 4),\n",
        "    rep(round(Gini_RSV(alpha_ib_0301$alpha[16:18])[[1]], digits = 3), 3),\n",
        "    rep(round(Gini_RSV(alpha_ib_0301$alpha[19:24])[[1]], digits = 3), 6),\n",
        "    rep(round(Gini_RSV(alpha_ib_0301$alpha[25:29])[[1]], digits = 3), 5),\n",
        "    rep(round(Gini_RSV(alpha_ib_0613$alpha[1:11])[[1]], digits = 3), 11),\n",
        "    rep(round(Gini_RSV(alpha_ib_0613$alpha[12:15])[[1]], digits = 3), 4),\n",
        "    rep(round(Gini_RSV(alpha_ib_0613$alpha[16:18])[[1]], digits = 3), 3),\n",
        "    rep(round(Gini_RSV(alpha_ib_0613$alpha[19:24])[[1]], digits = 3), 6),\n",
        "    rep(round(Gini_RSV(alpha_ib_0613$alpha[25:29])[[1]], digits = 3), 5),\n",
        "    rep(\"NA\", 54)\n",
        ")\n",
        "data$attribute <- c(\n",
        "    rep(\"Age~range\", 11),\n",
        "    rep(\"Education~level\", 4),\n",
        "    rep(\"Gender~identity\", 3),\n",
        "    rep(\"Occupation\", 6),\n",
        "    rep(\"Race/Ethnicity\", 5),\n",
        "    rep(\"Age~range\", 11),\n",
        "    rep(\"Education~level\", 4),\n",
        "    rep(\"Gender~identity\", 3),\n",
        "    rep(\"Occupation\", 6),\n",
        "    rep(\"Race/Ethnicity\", 5),\n",
        "    rep(\"Age~range\", 20),\n",
        "    rep(\"Education~level\", 8),\n",
        "    rep(\"Gender~identity\", 6),\n",
        "    rep(\"Occupation\", 12),\n",
        "    rep(\"Race/Ethnicity\", 8)\n",
        ")\n",
        "data$grp <- c(rep(1, 112))\n",
        "# Dot plots. via\n",
        "# https://uc-r.github.io/cleveland-dot-plots\n",
        "g1 <- ggplot(\n",
        "    data,\n",
        "    aes(alpha, grp)\n",
        ") +\n",
        "    geom_line(aes(group = grp),\n",
        "        size = 0.05\n",
        "    ) +\n",
        "    geom_point(size = 0.1) +\n",
        "    # Label max value dots. via\n",
        "    # https://stackoverflow.com/a/48351513\n",
        "    geom_text(\n",
        "        data = . %>% group_by(measure, attribute, model) %>%\n",
        "            filter(alpha == max(alpha)),\n",
        "        # Wrap and truncate text. via\n",
        "        # https://stackoverflow.com/a/73357493\n",
        "        aes(label = str_wrap(persona, width = 15)),\n",
        "        hjust = 0,\n",
        "        family = \"Arial\",\n",
        "        size = 7 / .pt,\n",
        "        nudge_x = 0.01,\n",
        "        lineheight = 1\n",
        "    ) +\n",
        "    scale_x_continuous(\n",
        "        breaks = c(-.5, -.25, 0, .25, .5, .75, 1),\n",
        "        limits = c(-.5, 1)\n",
        "    ) +\n",
        "    xlab(\"Krippendorff's alpha coefficient\") +\n",
        "    facet_nested(\n",
        "        rows = vars(measure, attribute, model),\n",
        "        switch = \"y\",\n",
        "        labeller = label_parsed,\n",
        "        strip = strip_nested(size = \"variable\")\n",
        "    ) +\n",
        "    theme(\n",
        "        axis.text.y = element_blank(),\n",
        "        axis.title.y = element_blank(),\n",
        "        axis.ticks.y = element_blank(),\n",
        "        axis.ticks = element_line(size = 0.1),\n",
        "        axis.text = element_text(\n",
        "            family = \"Arial\",\n",
        "            size = 7\n",
        "        ),\n",
        "        strip.text.y.left = element_text(\n",
        "            angle = 0,\n",
        "            family = \"Arial\",\n",
        "            size = 7\n",
        "        ),\n",
        "        strip.background = element_rect(\n",
        "            colour = \"white\",\n",
        "            fill = \"#ECECEC\"\n",
        "        ),\n",
        "        panel.grid = element_line(\n",
        "            color = \"black\",\n",
        "            size = 0.1,\n",
        "            linetype = 2\n",
        "        ),\n",
        "        panel.grid.major.y = element_blank(),\n",
        "        panel.grid.minor.y = element_blank(),\n",
        "        panel.grid.minor.x = element_blank(),\n",
        "        panel.spacing.y = unit(0, \"lines\"),\n",
        "        panel.background = element_rect(\n",
        "            color = \"black\",\n",
        "            fill = \"white\",\n",
        "            linewidth = 0.1\n",
        "        ),\n",
        "        text = element_text(\n",
        "            family = \"Arial\",\n",
        "            size = 7\n",
        "        )\n",
        "    )\n",
        "data$alpha <- NULL\n",
        "data$persona <- NULL\n",
        "data <- data[!duplicated(data), ]\n",
        "g2 <- ggplot(\n",
        "    data,\n",
        "    aes(grp, bias)\n",
        ") +\n",
        "    geom_text(aes(label = labs),\n",
        "        hjust = -0.1,\n",
        "        family = \"Arial\",\n",
        "        size = 7 / .pt\n",
        "    ) +\n",
        "    coord_flip() +\n",
        "    ylab(\"Bias\") +\n",
        "    scale_y_continuous(breaks = c(0.00, 1.00), limits = c(0, 1)) +\n",
        "    geom_bar(stat = \"identity\", fill = \"black\") +\n",
        "    facet_nested(\n",
        "        rows = vars(measure, attribute, model),\n",
        "        labeller = label_parsed\n",
        "    ) +\n",
        "    theme(\n",
        "        axis.text.y = element_blank(),\n",
        "        axis.title.y = element_blank(),\n",
        "        axis.ticks.y = element_blank(),\n",
        "        axis.ticks = element_line(size = 0.1),\n",
        "        axis.text = element_text(\n",
        "            family = \"Arial\",\n",
        "            size = 7\n",
        "        ),\n",
        "        strip.text = element_blank(),\n",
        "        strip.background = element_blank(),\n",
        "        panel.grid = element_line(\n",
        "            color = \"black\",\n",
        "            size = 0.1,\n",
        "            linetype = 2\n",
        "        ),\n",
        "        panel.grid.major.y = element_blank(),\n",
        "        panel.grid.minor.y = element_blank(),\n",
        "        panel.grid.minor.x = element_blank(),\n",
        "        panel.spacing.y = unit(0, \"lines\"),\n",
        "        panel.background = element_rect(\n",
        "            color = \"black\",\n",
        "            fill = \"white\",\n",
        "            linewidth = 0.1\n",
        "        ),\n",
        "        text = element_text(\n",
        "            family = \"Arial\",\n",
        "            size = 7\n",
        "        )\n",
        "    )\n",
        "g1 + g2 + plot_layout(widths = c(2.3, 1))\n",
        "ggsave(\n",
        "    \"/content/drive/MyDrive/datasets/cleaning/POPQUORN.eps\",\n",
        "    height = 20,\n",
        "    width = 18,\n",
        "    units = \"cm\"\n",
        ")"
      ],
      "metadata": {
        "id": "iEuA_jV4USXF"
      },
      "execution_count": null,
      "outputs": []
    }
  ],
  "metadata": {
    "colab": {
      "provenance": []
    },
    "kernelspec": {
      "display_name": "Python 3",
      "name": "python3"
    },
    "language_info": {
      "name": "python"
    }
  },
  "nbformat": 4,
  "nbformat_minor": 0
}