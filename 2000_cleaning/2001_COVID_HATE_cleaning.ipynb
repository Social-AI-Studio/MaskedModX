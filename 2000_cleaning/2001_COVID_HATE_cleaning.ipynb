{
  "cells": [
    {
      "cell_type": "markdown",
      "metadata": {
        "id": "20fJ8J891X_-"
      },
      "source": [
        "# Import libraries"
      ]
    },
    {
      "cell_type": "code",
      "execution_count": null,
      "metadata": {
        "id": "H_FpuOpAXgqu"
      },
      "outputs": [],
      "source": [
        "import os\n",
        "import pandas as pd"
      ]
    },
    {
      "cell_type": "markdown",
      "metadata": {
        "id": "vDaPkpBkUdNj"
      },
      "source": [
        "# Mount drive"
      ]
    },
    {
      "cell_type": "code",
      "execution_count": null,
      "metadata": {
        "id": "03IvRW_dUbFb"
      },
      "outputs": [],
      "source": [
        "from google.colab import drive\n",
        "drive.mount('/content/drive')"
      ]
    },
    {
      "cell_type": "markdown",
      "source": [
        "# Create directory to store cleaned data"
      ],
      "metadata": {
        "id": "A9EaCYi_uWGX"
      }
    },
    {
      "cell_type": "code",
      "source": [
        "os.makedirs('/content/drive/MyDrive/datasets/cleaning', exist_ok=True)"
      ],
      "metadata": {
        "id": "pCVtrgqGuYDG"
      },
      "execution_count": null,
      "outputs": []
    },
    {
      "cell_type": "markdown",
      "metadata": {
        "id": "EXHWFJW23GXl"
      },
      "source": [
        "# Import datasets"
      ]
    },
    {
      "cell_type": "code",
      "execution_count": null,
      "metadata": {
        "id": "GF9argYz4E2e"
      },
      "outputs": [],
      "source": [
        "COVID_HATE_0301 = pd.read_csv(\n",
        "    '/content/drive/MyDrive/datasets/COVID-HATE_gpt-3.5-turbo-0301/'\n",
        "    'COVID-HATE_predictions_all_gpt-3.5-turbo-0301.tsv',\n",
        "    sep='\\t')\n",
        "COVID_HATE_0613 = pd.read_csv(\n",
        "    '/content/drive/MyDrive/datasets/COVID-HATE_gpt-3.5-turbo-0613/'\n",
        "    'COVID-HATE_predictions_all_gpt-3.5-turbo-0613.tsv',\n",
        "    sep='\\t')\n",
        "COVID_HATE_0301 = COVID_HATE_0301.reset_index(drop=True)\n",
        "COVID_HATE_0613 = COVID_HATE_0613.reset_index(drop=True)"
      ]
    },
    {
      "cell_type": "markdown",
      "source": [
        "# Define a function to get the distribution of responses"
      ],
      "metadata": {
        "id": "TTq8pP7Au-rO"
      }
    },
    {
      "cell_type": "code",
      "execution_count": null,
      "metadata": {
        "id": "6Bnv7CcTfnXB"
      },
      "outputs": [],
      "source": [
        "def get_responses_distribution(df, model):\n",
        "    # Value counts across multiple columns. via\n",
        "    # https://stackoverflow.com/a/61565732\n",
        "    responses_distribution = df.iloc[:, 3:].stack().value_counts()\n",
        "    # Convert value_counts output to dataframe format. via\n",
        "    # https://stackoverflow.com/a/47136484\n",
        "    responses_distribution = responses_distribution.rename_axis(\n",
        "        'Responses').reset_index(name='Count')\n",
        "    responses_distribution.to_csv(\n",
        "        f'/content/drive/MyDrive/datasets/cleaning/'\n",
        "        f'COVID-HATE_responses_distribution_{model}.csv',\n",
        "        index=False)\n",
        "    # Count null values in dataframe. via\n",
        "    # https://stackoverflow.com/questions/26266362/\n",
        "    # how-do-i-count-the-nan-values-in-a-column-in-pandas-dataframe#\n",
        "    # comment74712638_26266451\n",
        "    print('Number of unusable responses is:')\n",
        "    print(df.iloc[:, 3:].isna().sum().sum())"
      ]
    },
    {
      "cell_type": "code",
      "source": [
        "get_responses_distribution(COVID_HATE_0301, 'gpt-3.5-turbo-0301')\n",
        "get_responses_distribution(COVID_HATE_0613, 'gpt-3.5-turbo-0613')"
      ],
      "metadata": {
        "id": "BtN8Sc4ucN8J"
      },
      "execution_count": null,
      "outputs": []
    },
    {
      "cell_type": "markdown",
      "source": [
        "# Clean valid responses to conform to how the data was coded, e.g., `0` if `Neutral.`"
      ],
      "metadata": {
        "id": "qletkvh8Yx9I"
      }
    },
    {
      "cell_type": "code",
      "execution_count": null,
      "metadata": {
        "id": "RGFAdmxOe3Ag"
      },
      "outputs": [],
      "source": [
        "# Remap values. via\n",
        "# https://stackoverflow.com/a/64231348\n",
        "def remap(x):\n",
        "    if 'Neutral.' in str(x):\n",
        "        return str(0)\n",
        "    elif 'Counterhate.' in str(x):\n",
        "        return str(1)\n",
        "    elif 'Hatespeech.' in str(x):\n",
        "        return str(2)\n",
        "    else:\n",
        "        return str(x)\n",
        "\n",
        "\n",
        "COVID_HATE_0301.iloc[:, 3:] = COVID_HATE_0301.iloc[:, 3:].applymap(\n",
        "    lambda x: remap(x))\n",
        "COVID_HATE_0613.iloc[:, 3:] = COVID_HATE_0613.iloc[:, 3:].applymap(\n",
        "    lambda x: remap(x))"
      ]
    },
    {
      "cell_type": "code",
      "execution_count": null,
      "metadata": {
        "id": "rUbsd3jq3ZZQ"
      },
      "outputs": [],
      "source": [
        "get_responses_distribution(COVID_HATE_0301, 'gpt-3.5-turbo-0301')\n",
        "get_responses_distribution(COVID_HATE_0613, 'gpt-3.5-turbo-0613')"
      ]
    },
    {
      "cell_type": "markdown",
      "source": [
        "# Save cleaned responses"
      ],
      "metadata": {
        "id": "0-yvSCLUa6td"
      }
    },
    {
      "cell_type": "code",
      "execution_count": null,
      "metadata": {
        "id": "FRyEON_YvKRM"
      },
      "outputs": [],
      "source": [
        "COVID_HATE_0301.to_csv(\n",
        "    '/content/drive/MyDrive/datasets/cleaning/'\n",
        "    'COVID-HATE_predictions_cleaned_gpt-3.5-turbo-0301.tsv',\n",
        "    sep='\\t', index=False)\n",
        "COVID_HATE_0613.to_csv(\n",
        "    '/content/drive/MyDrive/datasets/cleaning/'\n",
        "    'COVID-HATE_predictions_cleaned_gpt-3.5-turbo-0613.tsv',\n",
        "    sep='\\t', index=False)"
      ]
    }
  ],
  "metadata": {
    "colab": {
      "provenance": []
    },
    "kernelspec": {
      "display_name": "Python 3",
      "name": "python3"
    },
    "language_info": {
      "name": "python"
    }
  },
  "nbformat": 4,
  "nbformat_minor": 0
}